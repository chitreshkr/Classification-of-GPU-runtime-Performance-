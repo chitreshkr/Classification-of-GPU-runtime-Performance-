{
 "cells": [
  {
   "cell_type": "code",
   "execution_count": 1,
   "metadata": {},
   "outputs": [],
   "source": [
    "import numpy as np\n",
    "import pandas as pd\n",
    "import matplotlib.pyplot as plt\n",
    "import seaborn as sns\n",
    "%matplotlib inline\n",
    "import warnings  \n",
    "warnings.filterwarnings('ignore')"
   ]
  },
  {
   "cell_type": "code",
   "execution_count": 2,
   "metadata": {},
   "outputs": [],
   "source": [
    "df = pd.read_csv('sgemm_product.csv')"
   ]
  },
  {
   "cell_type": "code",
   "execution_count": 5,
   "metadata": {},
   "outputs": [
    {
     "data": {
      "text/html": [
       "<div>\n",
       "<style scoped>\n",
       "    .dataframe tbody tr th:only-of-type {\n",
       "        vertical-align: middle;\n",
       "    }\n",
       "\n",
       "    .dataframe tbody tr th {\n",
       "        vertical-align: top;\n",
       "    }\n",
       "\n",
       "    .dataframe thead th {\n",
       "        text-align: right;\n",
       "    }\n",
       "</style>\n",
       "<table border=\"1\" class=\"dataframe\">\n",
       "  <thead>\n",
       "    <tr style=\"text-align: right;\">\n",
       "      <th></th>\n",
       "      <th>MWG</th>\n",
       "      <th>NWG</th>\n",
       "      <th>KWG</th>\n",
       "      <th>MDIMC</th>\n",
       "      <th>NDIMC</th>\n",
       "      <th>MDIMA</th>\n",
       "      <th>NDIMB</th>\n",
       "      <th>KWI</th>\n",
       "      <th>VWM</th>\n",
       "      <th>VWN</th>\n",
       "      <th>STRM</th>\n",
       "      <th>STRN</th>\n",
       "      <th>SA</th>\n",
       "      <th>SB</th>\n",
       "      <th>Run1 (ms)</th>\n",
       "      <th>Run2 (ms)</th>\n",
       "      <th>Run3 (ms)</th>\n",
       "      <th>Run4 (ms)</th>\n",
       "    </tr>\n",
       "  </thead>\n",
       "  <tbody>\n",
       "    <tr>\n",
       "      <th>0</th>\n",
       "      <td>16</td>\n",
       "      <td>16</td>\n",
       "      <td>16</td>\n",
       "      <td>8</td>\n",
       "      <td>8</td>\n",
       "      <td>8</td>\n",
       "      <td>8</td>\n",
       "      <td>2</td>\n",
       "      <td>1</td>\n",
       "      <td>1</td>\n",
       "      <td>0</td>\n",
       "      <td>0</td>\n",
       "      <td>0</td>\n",
       "      <td>0</td>\n",
       "      <td>115.26</td>\n",
       "      <td>115.87</td>\n",
       "      <td>118.55</td>\n",
       "      <td>115.80</td>\n",
       "    </tr>\n",
       "    <tr>\n",
       "      <th>1</th>\n",
       "      <td>16</td>\n",
       "      <td>16</td>\n",
       "      <td>16</td>\n",
       "      <td>8</td>\n",
       "      <td>8</td>\n",
       "      <td>8</td>\n",
       "      <td>8</td>\n",
       "      <td>2</td>\n",
       "      <td>1</td>\n",
       "      <td>1</td>\n",
       "      <td>0</td>\n",
       "      <td>0</td>\n",
       "      <td>0</td>\n",
       "      <td>1</td>\n",
       "      <td>78.13</td>\n",
       "      <td>78.25</td>\n",
       "      <td>79.25</td>\n",
       "      <td>79.19</td>\n",
       "    </tr>\n",
       "    <tr>\n",
       "      <th>2</th>\n",
       "      <td>16</td>\n",
       "      <td>16</td>\n",
       "      <td>16</td>\n",
       "      <td>8</td>\n",
       "      <td>8</td>\n",
       "      <td>8</td>\n",
       "      <td>8</td>\n",
       "      <td>2</td>\n",
       "      <td>1</td>\n",
       "      <td>1</td>\n",
       "      <td>0</td>\n",
       "      <td>0</td>\n",
       "      <td>1</td>\n",
       "      <td>0</td>\n",
       "      <td>79.84</td>\n",
       "      <td>80.69</td>\n",
       "      <td>80.76</td>\n",
       "      <td>80.97</td>\n",
       "    </tr>\n",
       "    <tr>\n",
       "      <th>3</th>\n",
       "      <td>16</td>\n",
       "      <td>16</td>\n",
       "      <td>16</td>\n",
       "      <td>8</td>\n",
       "      <td>8</td>\n",
       "      <td>8</td>\n",
       "      <td>8</td>\n",
       "      <td>2</td>\n",
       "      <td>1</td>\n",
       "      <td>1</td>\n",
       "      <td>0</td>\n",
       "      <td>0</td>\n",
       "      <td>1</td>\n",
       "      <td>1</td>\n",
       "      <td>84.32</td>\n",
       "      <td>89.90</td>\n",
       "      <td>86.75</td>\n",
       "      <td>85.58</td>\n",
       "    </tr>\n",
       "    <tr>\n",
       "      <th>4</th>\n",
       "      <td>16</td>\n",
       "      <td>16</td>\n",
       "      <td>16</td>\n",
       "      <td>8</td>\n",
       "      <td>8</td>\n",
       "      <td>8</td>\n",
       "      <td>8</td>\n",
       "      <td>2</td>\n",
       "      <td>1</td>\n",
       "      <td>1</td>\n",
       "      <td>0</td>\n",
       "      <td>1</td>\n",
       "      <td>0</td>\n",
       "      <td>0</td>\n",
       "      <td>115.13</td>\n",
       "      <td>121.98</td>\n",
       "      <td>122.73</td>\n",
       "      <td>114.81</td>\n",
       "    </tr>\n",
       "  </tbody>\n",
       "</table>\n",
       "</div>"
      ],
      "text/plain": [
       "   MWG  NWG  KWG  MDIMC  NDIMC  MDIMA  NDIMB  KWI  VWM  VWN  STRM  STRN  SA  \\\n",
       "0   16   16   16      8      8      8      8    2    1    1     0     0   0   \n",
       "1   16   16   16      8      8      8      8    2    1    1     0     0   0   \n",
       "2   16   16   16      8      8      8      8    2    1    1     0     0   1   \n",
       "3   16   16   16      8      8      8      8    2    1    1     0     0   1   \n",
       "4   16   16   16      8      8      8      8    2    1    1     0     1   0   \n",
       "\n",
       "   SB  Run1 (ms)  Run2 (ms)  Run3 (ms)  Run4 (ms)  \n",
       "0   0     115.26     115.87     118.55     115.80  \n",
       "1   1      78.13      78.25      79.25      79.19  \n",
       "2   0      79.84      80.69      80.76      80.97  \n",
       "3   1      84.32      89.90      86.75      85.58  \n",
       "4   0     115.13     121.98     122.73     114.81  "
      ]
     },
     "metadata": {},
     "output_type": "display_data"
    }
   ],
   "source": [
    "display(df.head())"
   ]
  },
  {
   "cell_type": "code",
   "execution_count": 4,
   "metadata": {},
   "outputs": [
    {
     "data": {
      "text/plain": [
       "Index(['MWG', 'NWG', 'KWG', 'MDIMC', 'NDIMC', 'MDIMA', 'NDIMB', 'KWI', 'VWM',\n",
       "       'VWN', 'STRM', 'STRN', 'SA', 'SB', 'Run1 (ms)', 'Run2 (ms)',\n",
       "       'Run3 (ms)', 'Run4 (ms)'],\n",
       "      dtype='object')"
      ]
     },
     "metadata": {},
     "output_type": "display_data"
    }
   ],
   "source": [
    "display(df.columns)"
   ]
  },
  {
   "cell_type": "code",
   "execution_count": 7,
   "metadata": {},
   "outputs": [
    {
     "data": {
      "text/plain": [
       "MWG          0\n",
       "NWG          0\n",
       "KWG          0\n",
       "MDIMC        0\n",
       "NDIMC        0\n",
       "MDIMA        0\n",
       "NDIMB        0\n",
       "KWI          0\n",
       "VWM          0\n",
       "VWN          0\n",
       "STRM         0\n",
       "STRN         0\n",
       "SA           0\n",
       "SB           0\n",
       "Run1 (ms)    0\n",
       "Run2 (ms)    0\n",
       "Run3 (ms)    0\n",
       "Run4 (ms)    0\n",
       "dtype: int64"
      ]
     },
     "metadata": {},
     "output_type": "display_data"
    }
   ],
   "source": [
    "display(df.isna().sum())"
   ]
  },
  {
   "cell_type": "code",
   "execution_count": 8,
   "metadata": {},
   "outputs": [],
   "source": [
    "df['Run'] = (df['Run1 (ms)'] + df['Run2 (ms)'] + df['Run3 (ms)'] + df['Run4 (ms)'] )/4\n",
    "data = df.copy()"
   ]
  },
  {
   "cell_type": "code",
   "execution_count": 9,
   "metadata": {},
   "outputs": [
    {
     "data": {
      "text/html": [
       "<div>\n",
       "<style scoped>\n",
       "    .dataframe tbody tr th:only-of-type {\n",
       "        vertical-align: middle;\n",
       "    }\n",
       "\n",
       "    .dataframe tbody tr th {\n",
       "        vertical-align: top;\n",
       "    }\n",
       "\n",
       "    .dataframe thead th {\n",
       "        text-align: right;\n",
       "    }\n",
       "</style>\n",
       "<table border=\"1\" class=\"dataframe\">\n",
       "  <thead>\n",
       "    <tr style=\"text-align: right;\">\n",
       "      <th></th>\n",
       "      <th>MWG</th>\n",
       "      <th>NWG</th>\n",
       "      <th>KWG</th>\n",
       "      <th>MDIMC</th>\n",
       "      <th>NDIMC</th>\n",
       "      <th>MDIMA</th>\n",
       "      <th>NDIMB</th>\n",
       "      <th>KWI</th>\n",
       "      <th>VWM</th>\n",
       "      <th>VWN</th>\n",
       "      <th>STRM</th>\n",
       "      <th>STRN</th>\n",
       "      <th>SA</th>\n",
       "      <th>SB</th>\n",
       "      <th>Run1 (ms)</th>\n",
       "      <th>Run2 (ms)</th>\n",
       "      <th>Run3 (ms)</th>\n",
       "      <th>Run4 (ms)</th>\n",
       "      <th>Run</th>\n",
       "    </tr>\n",
       "  </thead>\n",
       "  <tbody>\n",
       "    <tr>\n",
       "      <th>0</th>\n",
       "      <td>16</td>\n",
       "      <td>16</td>\n",
       "      <td>16</td>\n",
       "      <td>8</td>\n",
       "      <td>8</td>\n",
       "      <td>8</td>\n",
       "      <td>8</td>\n",
       "      <td>2</td>\n",
       "      <td>1</td>\n",
       "      <td>1</td>\n",
       "      <td>0</td>\n",
       "      <td>0</td>\n",
       "      <td>0</td>\n",
       "      <td>0</td>\n",
       "      <td>115.26</td>\n",
       "      <td>115.87</td>\n",
       "      <td>118.55</td>\n",
       "      <td>115.80</td>\n",
       "      <td>116.3700</td>\n",
       "    </tr>\n",
       "    <tr>\n",
       "      <th>1</th>\n",
       "      <td>16</td>\n",
       "      <td>16</td>\n",
       "      <td>16</td>\n",
       "      <td>8</td>\n",
       "      <td>8</td>\n",
       "      <td>8</td>\n",
       "      <td>8</td>\n",
       "      <td>2</td>\n",
       "      <td>1</td>\n",
       "      <td>1</td>\n",
       "      <td>0</td>\n",
       "      <td>0</td>\n",
       "      <td>0</td>\n",
       "      <td>1</td>\n",
       "      <td>78.13</td>\n",
       "      <td>78.25</td>\n",
       "      <td>79.25</td>\n",
       "      <td>79.19</td>\n",
       "      <td>78.7050</td>\n",
       "    </tr>\n",
       "    <tr>\n",
       "      <th>2</th>\n",
       "      <td>16</td>\n",
       "      <td>16</td>\n",
       "      <td>16</td>\n",
       "      <td>8</td>\n",
       "      <td>8</td>\n",
       "      <td>8</td>\n",
       "      <td>8</td>\n",
       "      <td>2</td>\n",
       "      <td>1</td>\n",
       "      <td>1</td>\n",
       "      <td>0</td>\n",
       "      <td>0</td>\n",
       "      <td>1</td>\n",
       "      <td>0</td>\n",
       "      <td>79.84</td>\n",
       "      <td>80.69</td>\n",
       "      <td>80.76</td>\n",
       "      <td>80.97</td>\n",
       "      <td>80.5650</td>\n",
       "    </tr>\n",
       "    <tr>\n",
       "      <th>3</th>\n",
       "      <td>16</td>\n",
       "      <td>16</td>\n",
       "      <td>16</td>\n",
       "      <td>8</td>\n",
       "      <td>8</td>\n",
       "      <td>8</td>\n",
       "      <td>8</td>\n",
       "      <td>2</td>\n",
       "      <td>1</td>\n",
       "      <td>1</td>\n",
       "      <td>0</td>\n",
       "      <td>0</td>\n",
       "      <td>1</td>\n",
       "      <td>1</td>\n",
       "      <td>84.32</td>\n",
       "      <td>89.90</td>\n",
       "      <td>86.75</td>\n",
       "      <td>85.58</td>\n",
       "      <td>86.6375</td>\n",
       "    </tr>\n",
       "    <tr>\n",
       "      <th>4</th>\n",
       "      <td>16</td>\n",
       "      <td>16</td>\n",
       "      <td>16</td>\n",
       "      <td>8</td>\n",
       "      <td>8</td>\n",
       "      <td>8</td>\n",
       "      <td>8</td>\n",
       "      <td>2</td>\n",
       "      <td>1</td>\n",
       "      <td>1</td>\n",
       "      <td>0</td>\n",
       "      <td>1</td>\n",
       "      <td>0</td>\n",
       "      <td>0</td>\n",
       "      <td>115.13</td>\n",
       "      <td>121.98</td>\n",
       "      <td>122.73</td>\n",
       "      <td>114.81</td>\n",
       "      <td>118.6625</td>\n",
       "    </tr>\n",
       "  </tbody>\n",
       "</table>\n",
       "</div>"
      ],
      "text/plain": [
       "   MWG  NWG  KWG  MDIMC  NDIMC  MDIMA  NDIMB  KWI  VWM  VWN  STRM  STRN  SA  \\\n",
       "0   16   16   16      8      8      8      8    2    1    1     0     0   0   \n",
       "1   16   16   16      8      8      8      8    2    1    1     0     0   0   \n",
       "2   16   16   16      8      8      8      8    2    1    1     0     0   1   \n",
       "3   16   16   16      8      8      8      8    2    1    1     0     0   1   \n",
       "4   16   16   16      8      8      8      8    2    1    1     0     1   0   \n",
       "\n",
       "   SB  Run1 (ms)  Run2 (ms)  Run3 (ms)  Run4 (ms)       Run  \n",
       "0   0     115.26     115.87     118.55     115.80  116.3700  \n",
       "1   1      78.13      78.25      79.25      79.19   78.7050  \n",
       "2   0      79.84      80.69      80.76      80.97   80.5650  \n",
       "3   1      84.32      89.90      86.75      85.58   86.6375  \n",
       "4   0     115.13     121.98     122.73     114.81  118.6625  "
      ]
     },
     "execution_count": 9,
     "metadata": {},
     "output_type": "execute_result"
    }
   ],
   "source": [
    "df.head()"
   ]
  },
  {
   "cell_type": "code",
   "execution_count": 10,
   "metadata": {},
   "outputs": [
    {
     "data": {
      "text/plain": [
       "1    120801\n",
       "0    120799\n",
       "Name: Binary_Run, dtype: int64"
      ]
     },
     "execution_count": 10,
     "metadata": {},
     "output_type": "execute_result"
    }
   ],
   "source": [
    "df[\"Binary_Run\"] = (df[\"Run\"] >= df[\"Run\"].median()).astype(int)\n",
    "df[\"Binary_Run\"].value_counts()"
   ]
  },
  {
   "cell_type": "code",
   "execution_count": 11,
   "metadata": {},
   "outputs": [
    {
     "data": {
      "text/html": [
       "<div>\n",
       "<style scoped>\n",
       "    .dataframe tbody tr th:only-of-type {\n",
       "        vertical-align: middle;\n",
       "    }\n",
       "\n",
       "    .dataframe tbody tr th {\n",
       "        vertical-align: top;\n",
       "    }\n",
       "\n",
       "    .dataframe thead th {\n",
       "        text-align: right;\n",
       "    }\n",
       "</style>\n",
       "<table border=\"1\" class=\"dataframe\">\n",
       "  <thead>\n",
       "    <tr style=\"text-align: right;\">\n",
       "      <th></th>\n",
       "      <th>MWG</th>\n",
       "      <th>NWG</th>\n",
       "      <th>KWG</th>\n",
       "      <th>MDIMC</th>\n",
       "      <th>NDIMC</th>\n",
       "      <th>MDIMA</th>\n",
       "      <th>NDIMB</th>\n",
       "      <th>KWI</th>\n",
       "      <th>VWM</th>\n",
       "      <th>VWN</th>\n",
       "      <th>STRM</th>\n",
       "      <th>STRN</th>\n",
       "      <th>SA</th>\n",
       "      <th>SB</th>\n",
       "      <th>Binary_Run</th>\n",
       "    </tr>\n",
       "  </thead>\n",
       "  <tbody>\n",
       "    <tr>\n",
       "      <th>0</th>\n",
       "      <td>16</td>\n",
       "      <td>16</td>\n",
       "      <td>16</td>\n",
       "      <td>8</td>\n",
       "      <td>8</td>\n",
       "      <td>8</td>\n",
       "      <td>8</td>\n",
       "      <td>2</td>\n",
       "      <td>1</td>\n",
       "      <td>1</td>\n",
       "      <td>0</td>\n",
       "      <td>0</td>\n",
       "      <td>0</td>\n",
       "      <td>0</td>\n",
       "      <td>1</td>\n",
       "    </tr>\n",
       "    <tr>\n",
       "      <th>1</th>\n",
       "      <td>16</td>\n",
       "      <td>16</td>\n",
       "      <td>16</td>\n",
       "      <td>8</td>\n",
       "      <td>8</td>\n",
       "      <td>8</td>\n",
       "      <td>8</td>\n",
       "      <td>2</td>\n",
       "      <td>1</td>\n",
       "      <td>1</td>\n",
       "      <td>0</td>\n",
       "      <td>0</td>\n",
       "      <td>0</td>\n",
       "      <td>1</td>\n",
       "      <td>1</td>\n",
       "    </tr>\n",
       "    <tr>\n",
       "      <th>2</th>\n",
       "      <td>16</td>\n",
       "      <td>16</td>\n",
       "      <td>16</td>\n",
       "      <td>8</td>\n",
       "      <td>8</td>\n",
       "      <td>8</td>\n",
       "      <td>8</td>\n",
       "      <td>2</td>\n",
       "      <td>1</td>\n",
       "      <td>1</td>\n",
       "      <td>0</td>\n",
       "      <td>0</td>\n",
       "      <td>1</td>\n",
       "      <td>0</td>\n",
       "      <td>1</td>\n",
       "    </tr>\n",
       "    <tr>\n",
       "      <th>3</th>\n",
       "      <td>16</td>\n",
       "      <td>16</td>\n",
       "      <td>16</td>\n",
       "      <td>8</td>\n",
       "      <td>8</td>\n",
       "      <td>8</td>\n",
       "      <td>8</td>\n",
       "      <td>2</td>\n",
       "      <td>1</td>\n",
       "      <td>1</td>\n",
       "      <td>0</td>\n",
       "      <td>0</td>\n",
       "      <td>1</td>\n",
       "      <td>1</td>\n",
       "      <td>1</td>\n",
       "    </tr>\n",
       "    <tr>\n",
       "      <th>4</th>\n",
       "      <td>16</td>\n",
       "      <td>16</td>\n",
       "      <td>16</td>\n",
       "      <td>8</td>\n",
       "      <td>8</td>\n",
       "      <td>8</td>\n",
       "      <td>8</td>\n",
       "      <td>2</td>\n",
       "      <td>1</td>\n",
       "      <td>1</td>\n",
       "      <td>0</td>\n",
       "      <td>1</td>\n",
       "      <td>0</td>\n",
       "      <td>0</td>\n",
       "      <td>1</td>\n",
       "    </tr>\n",
       "  </tbody>\n",
       "</table>\n",
       "</div>"
      ],
      "text/plain": [
       "   MWG  NWG  KWG  MDIMC  NDIMC  MDIMA  NDIMB  KWI  VWM  VWN  STRM  STRN  SA  \\\n",
       "0   16   16   16      8      8      8      8    2    1    1     0     0   0   \n",
       "1   16   16   16      8      8      8      8    2    1    1     0     0   0   \n",
       "2   16   16   16      8      8      8      8    2    1    1     0     0   1   \n",
       "3   16   16   16      8      8      8      8    2    1    1     0     0   1   \n",
       "4   16   16   16      8      8      8      8    2    1    1     0     1   0   \n",
       "\n",
       "   SB  Binary_Run  \n",
       "0   0           1  \n",
       "1   1           1  \n",
       "2   0           1  \n",
       "3   1           1  \n",
       "4   0           1  "
      ]
     },
     "execution_count": 11,
     "metadata": {},
     "output_type": "execute_result"
    }
   ],
   "source": [
    "df = df.drop(['Run1 (ms)','Run2 (ms)','Run3 (ms)','Run4 (ms)','Run'],axis=1)\n",
    "df.head()"
   ]
  },
  {
   "cell_type": "code",
   "execution_count": 12,
   "metadata": {},
   "outputs": [
    {
     "name": "stdout",
     "output_type": "stream",
     "text": [
      "(241600, 14) (241600,)\n"
     ]
    }
   ],
   "source": [
    "X = df.iloc[:,:-1]\n",
    "y = df.iloc[:,-1]\n",
    "\n",
    "print(X.shape, y.shape)"
   ]
  },
  {
   "cell_type": "code",
   "execution_count": 13,
   "metadata": {},
   "outputs": [],
   "source": [
    "from sklearn.preprocessing import StandardScaler\n",
    "sc = StandardScaler()\n",
    "X = sc.fit_transform(X)"
   ]
  },
  {
   "cell_type": "code",
   "execution_count": 14,
   "metadata": {},
   "outputs": [],
   "source": [
    "from sklearn.model_selection import train_test_split\n",
    "\n",
    "X_train,X_test,y_train,y_test = train_test_split(X,y, test_size=0.3, random_state=42)"
   ]
  },
  {
   "cell_type": "code",
   "execution_count": 15,
   "metadata": {},
   "outputs": [
    {
     "data": {
      "text/plain": [
       "169120"
      ]
     },
     "execution_count": 15,
     "metadata": {},
     "output_type": "execute_result"
    }
   ],
   "source": [
    "y_train.shape[0]"
   ]
  },
  {
   "cell_type": "code",
   "execution_count": 16,
   "metadata": {},
   "outputs": [
    {
     "data": {
      "text/plain": [
       "169120"
      ]
     },
     "execution_count": 16,
     "metadata": {},
     "output_type": "execute_result"
    }
   ],
   "source": [
    "X_train.shape[0]"
   ]
  },
  {
   "cell_type": "markdown",
   "metadata": {},
   "source": [
    "from sklearn.preprocessing import StandardScaler\n",
    "sc = StandardScaler()\n",
    "X_train = sc.fit_transform(X_train)\n",
    "X_test = sc.transform(X_test)"
   ]
  },
  {
   "cell_type": "code",
   "execution_count": 17,
   "metadata": {},
   "outputs": [
    {
     "name": "stderr",
     "output_type": "stream",
     "text": [
      "Using TensorFlow backend.\n"
     ]
    }
   ],
   "source": [
    "import keras\n",
    "from keras.models import Sequential\n",
    "from keras.layers import Dense"
   ]
  },
  {
   "cell_type": "code",
   "execution_count": 18,
   "metadata": {},
   "outputs": [],
   "source": [
    "# Initialising the ANN\n",
    "classifier = Sequential()\n",
    "classifier_tanh = Sequential()\n",
    "classifier_softmax = Sequential()"
   ]
  },
  {
   "cell_type": "code",
   "execution_count": 19,
   "metadata": {},
   "outputs": [
    {
     "name": "stdout",
     "output_type": "stream",
     "text": [
      "WARNING:tensorflow:From C:\\Users\\chitr\\anaconda3\\lib\\site-packages\\tensorflow\\python\\ops\\resource_variable_ops.py:435: colocate_with (from tensorflow.python.framework.ops) is deprecated and will be removed in a future version.\n",
      "Instructions for updating:\n",
      "Colocations handled automatically by placer.\n"
     ]
    }
   ],
   "source": [
    "# Adding the input layer and the first hidden layer\n",
    "classifier.add(Dense(units = 8, kernel_initializer = 'uniform', activation = 'relu', input_dim = 14))\n",
    "classifier_tanh.add(Dense(units = 8, kernel_initializer = 'uniform', activation = 'tanh', input_dim = 14))\n",
    "classifier_softmax.add(Dense(units = 8, kernel_initializer = 'uniform', activation = 'softmax', input_dim = 14))\n"
   ]
  },
  {
   "cell_type": "code",
   "execution_count": 20,
   "metadata": {},
   "outputs": [],
   "source": [
    "#Relu \n",
    "# Adding the second hidden layer\n",
    "classifier.add(Dense(units = 11, kernel_initializer = 'uniform', activation = 'relu'))\n",
    "# Adding the output layer\n",
    "classifier.add(Dense(units = 1, kernel_initializer = 'uniform', activation = 'sigmoid'))"
   ]
  },
  {
   "cell_type": "code",
   "execution_count": 21,
   "metadata": {},
   "outputs": [],
   "source": [
    "#tanh\n",
    "# Adding the second hidden layer\n",
    "classifier_tanh.add(Dense(units = 11, kernel_initializer = 'uniform', activation = 'tanh'))\n",
    "# Adding the output layer\n",
    "classifier_tanh.add(Dense(units = 1, kernel_initializer = 'uniform', activation = 'sigmoid'))"
   ]
  },
  {
   "cell_type": "code",
   "execution_count": 22,
   "metadata": {},
   "outputs": [],
   "source": [
    "#softmax\n",
    "# Adding the second hidden layer\n",
    "classifier_softmax.add(Dense(units = 11, kernel_initializer = 'uniform', activation = 'softmax'))\n",
    "# Adding the output layer\n",
    "classifier_softmax.add(Dense(units = 1, kernel_initializer = 'uniform', activation = 'sigmoid'))"
   ]
  },
  {
   "cell_type": "code",
   "execution_count": 23,
   "metadata": {},
   "outputs": [],
   "source": [
    "# Compiling the ANN\n",
    "classifier.compile(optimizer = 'adam', loss = 'binary_crossentropy', metrics = ['accuracy'])\n",
    "classifier_tanh.compile(optimizer = 'adam', loss = 'binary_crossentropy', metrics = ['accuracy'])\n",
    "classifier_softmax.compile(optimizer = 'adam', loss = 'binary_crossentropy', metrics = ['accuracy'])"
   ]
  },
  {
   "cell_type": "code",
   "execution_count": 24,
   "metadata": {},
   "outputs": [
    {
     "name": "stdout",
     "output_type": "stream",
     "text": [
      "WARNING:tensorflow:From C:\\Users\\chitr\\anaconda3\\lib\\site-packages\\tensorflow\\python\\ops\\math_ops.py:3066: to_int32 (from tensorflow.python.ops.math_ops) is deprecated and will be removed in a future version.\n",
      "Instructions for updating:\n",
      "Use tf.cast instead.\n",
      "Train on 169120 samples, validate on 72480 samples\n",
      "Epoch 1/100\n",
      "169120/169120 [==============================] - 5s 31us/step - loss: 0.3512 - accuracy: 0.8567 - val_loss: 0.2432 - val_accuracy: 0.9041\n",
      "Epoch 2/100\n",
      "169120/169120 [==============================] - 5s 31us/step - loss: 0.2207 - accuracy: 0.9134 - val_loss: 0.2013 - val_accuracy: 0.9198\n",
      "Epoch 3/100\n",
      "169120/169120 [==============================] - 6s 37us/step - loss: 0.1918 - accuracy: 0.9224 - val_loss: 0.1822 - val_accuracy: 0.9261\n",
      "Epoch 4/100\n",
      "169120/169120 [==============================] - 6s 36us/step - loss: 0.1799 - accuracy: 0.9265 - val_loss: 0.1756 - val_accuracy: 0.9270\n",
      "Epoch 5/100\n",
      "169120/169120 [==============================] - 6s 33us/step - loss: 0.1750 - accuracy: 0.9276 - val_loss: 0.1715 - val_accuracy: 0.9285\n",
      "Epoch 6/100\n",
      "169120/169120 [==============================] - 5s 32us/step - loss: 0.1718 - accuracy: 0.9284 - val_loss: 0.1704 - val_accuracy: 0.9286\n",
      "Epoch 7/100\n",
      "169120/169120 [==============================] - 6s 36us/step - loss: 0.1695 - accuracy: 0.9289 - val_loss: 0.1680 - val_accuracy: 0.9293\n",
      "Epoch 8/100\n",
      "169120/169120 [==============================] - 6s 37us/step - loss: 0.1678 - accuracy: 0.9297 - val_loss: 0.1654 - val_accuracy: 0.9303\n",
      "Epoch 9/100\n",
      "169120/169120 [==============================] - 4s 24us/step - loss: 0.1664 - accuracy: 0.9299 - val_loss: 0.1645 - val_accuracy: 0.9309\n",
      "Epoch 10/100\n",
      "169120/169120 [==============================] - 5s 28us/step - loss: 0.1650 - accuracy: 0.9299 - val_loss: 0.1629 - val_accuracy: 0.9306\n",
      "Epoch 11/100\n",
      "169120/169120 [==============================] - 6s 36us/step - loss: 0.1637 - accuracy: 0.9309 - val_loss: 0.1615 - val_accuracy: 0.9311\n",
      "Epoch 12/100\n",
      "169120/169120 [==============================] - 6s 38us/step - loss: 0.1626 - accuracy: 0.9314 - val_loss: 0.1597 - val_accuracy: 0.9323\n",
      "Epoch 13/100\n",
      "169120/169120 [==============================] - 5s 32us/step - loss: 0.1613 - accuracy: 0.9325 - val_loss: 0.1601 - val_accuracy: 0.9327\n",
      "Epoch 14/100\n",
      "169120/169120 [==============================] - 6s 33us/step - loss: 0.1603 - accuracy: 0.9325 - val_loss: 0.1585 - val_accuracy: 0.9327\n",
      "Epoch 15/100\n",
      "169120/169120 [==============================] - 5s 30us/step - loss: 0.1593 - accuracy: 0.9332 - val_loss: 0.1567 - val_accuracy: 0.9327\n",
      "Epoch 16/100\n",
      "169120/169120 [==============================] - 6s 35us/step - loss: 0.1585 - accuracy: 0.9330 - val_loss: 0.1576 - val_accuracy: 0.9322\n",
      "Epoch 17/100\n",
      "169120/169120 [==============================] - 6s 34us/step - loss: 0.1573 - accuracy: 0.9333 - val_loss: 0.1551 - val_accuracy: 0.9339\n",
      "Epoch 18/100\n",
      "169120/169120 [==============================] - 6s 33us/step - loss: 0.1567 - accuracy: 0.9337 - val_loss: 0.1550 - val_accuracy: 0.9337\n",
      "Epoch 19/100\n",
      "169120/169120 [==============================] - 6s 34us/step - loss: 0.1563 - accuracy: 0.9332 - val_loss: 0.1531 - val_accuracy: 0.9351\n",
      "Epoch 20/100\n",
      "169120/169120 [==============================] - 6s 35us/step - loss: 0.1547 - accuracy: 0.9341 - val_loss: 0.1522 - val_accuracy: 0.9341\n",
      "Epoch 21/100\n",
      "169120/169120 [==============================] - 6s 34us/step - loss: 0.1520 - accuracy: 0.9351 - val_loss: 0.1498 - val_accuracy: 0.9346\n",
      "Epoch 22/100\n",
      "169120/169120 [==============================] - 6s 34us/step - loss: 0.1502 - accuracy: 0.9357 - val_loss: 0.1475 - val_accuracy: 0.9364\n",
      "Epoch 23/100\n",
      "169120/169120 [==============================] - 6s 34us/step - loss: 0.1491 - accuracy: 0.9367 - val_loss: 0.1459 - val_accuracy: 0.9374\n",
      "Epoch 24/100\n",
      "169120/169120 [==============================] - 5s 30us/step - loss: 0.1479 - accuracy: 0.9371 - val_loss: 0.1453 - val_accuracy: 0.9381\n",
      "Epoch 25/100\n",
      "169120/169120 [==============================] - 6s 38us/step - loss: 0.1463 - accuracy: 0.9382 - val_loss: 0.1442 - val_accuracy: 0.9390\n",
      "Epoch 26/100\n",
      "169120/169120 [==============================] - 6s 34us/step - loss: 0.1447 - accuracy: 0.9389 - val_loss: 0.1412 - val_accuracy: 0.9409\n",
      "Epoch 27/100\n",
      "169120/169120 [==============================] - 5s 31us/step - loss: 0.1425 - accuracy: 0.9402 - val_loss: 0.1386 - val_accuracy: 0.9423\n",
      "Epoch 28/100\n",
      "169120/169120 [==============================] - 6s 35us/step - loss: 0.1412 - accuracy: 0.9409 - val_loss: 0.1382 - val_accuracy: 0.9432\n",
      "Epoch 29/100\n",
      "169120/169120 [==============================] - 5s 31us/step - loss: 0.1396 - accuracy: 0.9424 - val_loss: 0.1366 - val_accuracy: 0.9439\n",
      "Epoch 30/100\n",
      "169120/169120 [==============================] - 5s 32us/step - loss: 0.1376 - accuracy: 0.9429 - val_loss: 0.1332 - val_accuracy: 0.9441\n",
      "Epoch 31/100\n",
      "169120/169120 [==============================] - 6s 34us/step - loss: 0.1358 - accuracy: 0.9433 - val_loss: 0.1344 - val_accuracy: 0.9431\n",
      "Epoch 32/100\n",
      "169120/169120 [==============================] - 6s 36us/step - loss: 0.1348 - accuracy: 0.9440 - val_loss: 0.1313 - val_accuracy: 0.9446\n",
      "Epoch 33/100\n",
      "169120/169120 [==============================] - 6s 34us/step - loss: 0.1337 - accuracy: 0.9450 - val_loss: 0.1304 - val_accuracy: 0.9454\n",
      "Epoch 34/100\n",
      "169120/169120 [==============================] - 5s 29us/step - loss: 0.1330 - accuracy: 0.9451 - val_loss: 0.1305 - val_accuracy: 0.9462\n",
      "Epoch 35/100\n",
      "169120/169120 [==============================] - 5s 29us/step - loss: 0.1323 - accuracy: 0.9458 - val_loss: 0.1293 - val_accuracy: 0.9458\n",
      "Epoch 36/100\n",
      "169120/169120 [==============================] - 5s 27us/step - loss: 0.1317 - accuracy: 0.9460 - val_loss: 0.1291 - val_accuracy: 0.9452\n",
      "Epoch 37/100\n",
      "169120/169120 [==============================] - 5s 29us/step - loss: 0.1312 - accuracy: 0.9460 - val_loss: 0.1301 - val_accuracy: 0.9470\n",
      "Epoch 38/100\n",
      "169120/169120 [==============================] - 5s 30us/step - loss: 0.1308 - accuracy: 0.9461 - val_loss: 0.1288 - val_accuracy: 0.9462\n",
      "Epoch 39/100\n",
      "169120/169120 [==============================] - 5s 27us/step - loss: 0.1306 - accuracy: 0.9458 - val_loss: 0.1265 - val_accuracy: 0.9479\n",
      "Epoch 40/100\n",
      "169120/169120 [==============================] - 5s 28us/step - loss: 0.1297 - accuracy: 0.9466 - val_loss: 0.1272 - val_accuracy: 0.9477\n",
      "Epoch 41/100\n",
      "169120/169120 [==============================] - 5s 27us/step - loss: 0.1288 - accuracy: 0.9470 - val_loss: 0.1265 - val_accuracy: 0.9474\n",
      "Epoch 42/100\n",
      "169120/169120 [==============================] - 5s 30us/step - loss: 0.1281 - accuracy: 0.9475 - val_loss: 0.1276 - val_accuracy: 0.9474\n",
      "Epoch 43/100\n",
      "169120/169120 [==============================] - 5s 31us/step - loss: 0.1270 - accuracy: 0.9484 - val_loss: 0.1256 - val_accuracy: 0.9477\n",
      "Epoch 44/100\n",
      "169120/169120 [==============================] - 6s 33us/step - loss: 0.1264 - accuracy: 0.9481 - val_loss: 0.1229 - val_accuracy: 0.9489\n",
      "Epoch 45/100\n",
      "169120/169120 [==============================] - 6s 38us/step - loss: 0.1259 - accuracy: 0.9484 - val_loss: 0.1254 - val_accuracy: 0.9484\n",
      "Epoch 46/100\n",
      "169120/169120 [==============================] - 5s 32us/step - loss: 0.1256 - accuracy: 0.9488 - val_loss: 0.1298 - val_accuracy: 0.9461\n",
      "Epoch 47/100\n",
      "169120/169120 [==============================] - 6s 35us/step - loss: 0.1250 - accuracy: 0.9489 - val_loss: 0.1230 - val_accuracy: 0.9489\n",
      "Epoch 48/100\n",
      "169120/169120 [==============================] - 6s 33us/step - loss: 0.1249 - accuracy: 0.9490 - val_loss: 0.1255 - val_accuracy: 0.9482\n",
      "Epoch 49/100\n",
      "169120/169120 [==============================] - 6s 35us/step - loss: 0.1245 - accuracy: 0.9487 - val_loss: 0.1260 - val_accuracy: 0.9469\n",
      "Epoch 50/100\n",
      "169120/169120 [==============================] - 7s 39us/step - loss: 0.1240 - accuracy: 0.9491 - val_loss: 0.1240 - val_accuracy: 0.9485\n",
      "Epoch 51/100\n",
      "169120/169120 [==============================] - 6s 37us/step - loss: 0.1241 - accuracy: 0.9493 - val_loss: 0.1213 - val_accuracy: 0.9508\n",
      "Epoch 52/100\n",
      "169120/169120 [==============================] - 6s 33us/step - loss: 0.1237 - accuracy: 0.9491 - val_loss: 0.1216 - val_accuracy: 0.9502\n",
      "Epoch 53/100\n"
     ]
    },
    {
     "name": "stdout",
     "output_type": "stream",
     "text": [
      "169120/169120 [==============================] - 5s 32us/step - loss: 0.1236 - accuracy: 0.9498 - val_loss: 0.1206 - val_accuracy: 0.9509\n",
      "Epoch 54/100\n",
      "169120/169120 [==============================] - 6s 38us/step - loss: 0.1234 - accuracy: 0.9494 - val_loss: 0.1200 - val_accuracy: 0.9511\n",
      "Epoch 55/100\n",
      "169120/169120 [==============================] - 6s 34us/step - loss: 0.1232 - accuracy: 0.9492 - val_loss: 0.1193 - val_accuracy: 0.9515\n",
      "Epoch 56/100\n",
      "169120/169120 [==============================] - 6s 35us/step - loss: 0.1228 - accuracy: 0.9498 - val_loss: 0.1224 - val_accuracy: 0.9499\n",
      "Epoch 57/100\n",
      "169120/169120 [==============================] - 6s 34us/step - loss: 0.1229 - accuracy: 0.9498 - val_loss: 0.1197 - val_accuracy: 0.9505\n",
      "Epoch 58/100\n",
      "169120/169120 [==============================] - 6s 34us/step - loss: 0.1228 - accuracy: 0.9498 - val_loss: 0.1198 - val_accuracy: 0.9510\n",
      "Epoch 59/100\n",
      "169120/169120 [==============================] - 6s 33us/step - loss: 0.1223 - accuracy: 0.9501 - val_loss: 0.1195 - val_accuracy: 0.9513\n",
      "Epoch 60/100\n",
      "169120/169120 [==============================] - 6s 34us/step - loss: 0.1221 - accuracy: 0.9496 - val_loss: 0.1233 - val_accuracy: 0.9498\n",
      "Epoch 61/100\n",
      "169120/169120 [==============================] - 6s 34us/step - loss: 0.1220 - accuracy: 0.9499 - val_loss: 0.1185 - val_accuracy: 0.9510\n",
      "Epoch 62/100\n",
      "169120/169120 [==============================] - 6s 34us/step - loss: 0.1220 - accuracy: 0.9500 - val_loss: 0.1194 - val_accuracy: 0.9516\n",
      "Epoch 63/100\n",
      "169120/169120 [==============================] - 6s 34us/step - loss: 0.1213 - accuracy: 0.9508 - val_loss: 0.1182 - val_accuracy: 0.9519\n",
      "Epoch 64/100\n",
      "169120/169120 [==============================] - 6s 34us/step - loss: 0.1217 - accuracy: 0.9501 - val_loss: 0.1180 - val_accuracy: 0.9514\n",
      "Epoch 65/100\n",
      "169120/169120 [==============================] - 6s 34us/step - loss: 0.1214 - accuracy: 0.9501 - val_loss: 0.1190 - val_accuracy: 0.9512\n",
      "Epoch 66/100\n",
      "169120/169120 [==============================] - 6s 34us/step - loss: 0.1207 - accuracy: 0.9506 - val_loss: 0.1182 - val_accuracy: 0.9514\n",
      "Epoch 67/100\n",
      "169120/169120 [==============================] - 6s 34us/step - loss: 0.1209 - accuracy: 0.9506 - val_loss: 0.1182 - val_accuracy: 0.9513\n",
      "Epoch 68/100\n",
      "169120/169120 [==============================] - 6s 38us/step - loss: 0.1209 - accuracy: 0.9507 - val_loss: 0.1182 - val_accuracy: 0.9528\n",
      "Epoch 69/100\n",
      "169120/169120 [==============================] - 6s 37us/step - loss: 0.1206 - accuracy: 0.9512 - val_loss: 0.1182 - val_accuracy: 0.9514\n",
      "Epoch 70/100\n",
      "169120/169120 [==============================] - 5s 30us/step - loss: 0.1204 - accuracy: 0.9506 - val_loss: 0.1187 - val_accuracy: 0.9511\n",
      "Epoch 71/100\n",
      "169120/169120 [==============================] - 6s 34us/step - loss: 0.1208 - accuracy: 0.9505 - val_loss: 0.1175 - val_accuracy: 0.9521\n",
      "Epoch 72/100\n",
      "169120/169120 [==============================] - 6s 36us/step - loss: 0.1206 - accuracy: 0.9509 - val_loss: 0.1203 - val_accuracy: 0.9499\n",
      "Epoch 73/100\n",
      "169120/169120 [==============================] - 6s 36us/step - loss: 0.1205 - accuracy: 0.9508 - val_loss: 0.1178 - val_accuracy: 0.9518\n",
      "Epoch 74/100\n",
      "169120/169120 [==============================] - 6s 34us/step - loss: 0.1200 - accuracy: 0.9510 - val_loss: 0.1204 - val_accuracy: 0.9499\n",
      "Epoch 75/100\n",
      "169120/169120 [==============================] - 6s 34us/step - loss: 0.1201 - accuracy: 0.9507 - val_loss: 0.1168 - val_accuracy: 0.9526\n",
      "Epoch 76/100\n",
      "169120/169120 [==============================] - 6s 34us/step - loss: 0.1203 - accuracy: 0.9507 - val_loss: 0.1180 - val_accuracy: 0.9517\n",
      "Epoch 77/100\n",
      "169120/169120 [==============================] - 6s 34us/step - loss: 0.1199 - accuracy: 0.9510 - val_loss: 0.1208 - val_accuracy: 0.9502\n",
      "Epoch 78/100\n",
      "169120/169120 [==============================] - 6s 37us/step - loss: 0.1195 - accuracy: 0.9509 - val_loss: 0.1191 - val_accuracy: 0.9512\n",
      "Epoch 79/100\n",
      "169120/169120 [==============================] - 6s 33us/step - loss: 0.1195 - accuracy: 0.9514 - val_loss: 0.1164 - val_accuracy: 0.9524\n",
      "Epoch 80/100\n",
      "169120/169120 [==============================] - 5s 27us/step - loss: 0.1194 - accuracy: 0.9511 - val_loss: 0.1177 - val_accuracy: 0.9520\n",
      "Epoch 81/100\n",
      "169120/169120 [==============================] - 6s 34us/step - loss: 0.1190 - accuracy: 0.9515 - val_loss: 0.1172 - val_accuracy: 0.9519\n",
      "Epoch 82/100\n",
      "169120/169120 [==============================] - 6s 35us/step - loss: 0.1188 - accuracy: 0.9516 - val_loss: 0.1164 - val_accuracy: 0.9529\n",
      "Epoch 83/100\n",
      "169120/169120 [==============================] - 6s 34us/step - loss: 0.1190 - accuracy: 0.9513 - val_loss: 0.1180 - val_accuracy: 0.9514\n",
      "Epoch 84/100\n",
      "169120/169120 [==============================] - 6s 34us/step - loss: 0.1180 - accuracy: 0.9521 - val_loss: 0.1192 - val_accuracy: 0.9506\n",
      "Epoch 85/100\n",
      "169120/169120 [==============================] - 6s 38us/step - loss: 0.1184 - accuracy: 0.9517 - val_loss: 0.1156 - val_accuracy: 0.9530\n",
      "Epoch 86/100\n",
      "169120/169120 [==============================] - 6s 35us/step - loss: 0.1182 - accuracy: 0.9517 - val_loss: 0.1152 - val_accuracy: 0.9526\n",
      "Epoch 87/100\n",
      "169120/169120 [==============================] - 6s 34us/step - loss: 0.1180 - accuracy: 0.9517 - val_loss: 0.1156 - val_accuracy: 0.9521\n",
      "Epoch 88/100\n",
      "169120/169120 [==============================] - 6s 35us/step - loss: 0.1182 - accuracy: 0.9518 - val_loss: 0.1169 - val_accuracy: 0.9531\n",
      "Epoch 89/100\n",
      "169120/169120 [==============================] - 6s 34us/step - loss: 0.1181 - accuracy: 0.9517 - val_loss: 0.1153 - val_accuracy: 0.9540\n",
      "Epoch 90/100\n",
      "169120/169120 [==============================] - 6s 33us/step - loss: 0.1175 - accuracy: 0.9523 - val_loss: 0.1162 - val_accuracy: 0.9526\n",
      "Epoch 91/100\n",
      "169120/169120 [==============================] - 6s 33us/step - loss: 0.1178 - accuracy: 0.9521 - val_loss: 0.1146 - val_accuracy: 0.9529\n",
      "Epoch 92/100\n",
      "169120/169120 [==============================] - 6s 34us/step - loss: 0.1174 - accuracy: 0.9525 - val_loss: 0.1161 - val_accuracy: 0.9526\n",
      "Epoch 93/100\n",
      "169120/169120 [==============================] - 6s 37us/step - loss: 0.1170 - accuracy: 0.9528 - val_loss: 0.1168 - val_accuracy: 0.9524\n",
      "Epoch 94/100\n",
      "169120/169120 [==============================] - 6s 36us/step - loss: 0.1169 - accuracy: 0.9523 - val_loss: 0.1160 - val_accuracy: 0.9533\n",
      "Epoch 95/100\n",
      "169120/169120 [==============================] - 6s 35us/step - loss: 0.1170 - accuracy: 0.9529 - val_loss: 0.1145 - val_accuracy: 0.9530\n",
      "Epoch 96/100\n",
      "169120/169120 [==============================] - 6s 37us/step - loss: 0.1170 - accuracy: 0.9525 - val_loss: 0.1150 - val_accuracy: 0.9537\n",
      "Epoch 97/100\n",
      "169120/169120 [==============================] - 6s 36us/step - loss: 0.1170 - accuracy: 0.9528 - val_loss: 0.1163 - val_accuracy: 0.9517\n",
      "Epoch 98/100\n",
      "169120/169120 [==============================] - 6s 35us/step - loss: 0.1165 - accuracy: 0.9530 - val_loss: 0.1181 - val_accuracy: 0.9523\n",
      "Epoch 99/100\n",
      "169120/169120 [==============================] - 6s 34us/step - loss: 0.1164 - accuracy: 0.9529 - val_loss: 0.1151 - val_accuracy: 0.9541\n",
      "Epoch 100/100\n",
      "169120/169120 [==============================] - 4s 22us/step - loss: 0.1165 - accuracy: 0.9528 - val_loss: 0.1147 - val_accuracy: 0.9535\n"
     ]
    }
   ],
   "source": [
    "#Relu activation function Model fit\n",
    "classifier_fit = classifier.fit(X_train, y_train,validation_data=(X_test,y_test), batch_size = 128, epochs = 100)"
   ]
  },
  {
   "cell_type": "code",
   "execution_count": 33,
   "metadata": {},
   "outputs": [
    {
     "name": "stdout",
     "output_type": "stream",
     "text": [
      "Train on 169120 samples, validate on 72480 samples\n",
      "Epoch 1/100\n",
      "169120/169120 [==============================] - 2s 10us/step - loss: 0.4190 - accuracy: 0.8350 - val_loss: 0.3628 - val_accuracy: 0.8558\n",
      "Epoch 2/100\n",
      "169120/169120 [==============================] - 1s 9us/step - loss: 0.3555 - accuracy: 0.8573 - val_loss: 0.3525 - val_accuracy: 0.8579\n",
      "Epoch 3/100\n",
      "169120/169120 [==============================] - 1s 9us/step - loss: 0.3504 - accuracy: 0.8578 - val_loss: 0.3484 - val_accuracy: 0.8569\n",
      "Epoch 4/100\n",
      "169120/169120 [==============================] - 1s 9us/step - loss: 0.3383 - accuracy: 0.8581 - val_loss: 0.3293 - val_accuracy: 0.8585\n",
      "Epoch 5/100\n",
      "169120/169120 [==============================] - 1s 9us/step - loss: 0.3200 - accuracy: 0.8673 - val_loss: 0.3139 - val_accuracy: 0.8742\n",
      "Epoch 6/100\n",
      "169120/169120 [==============================] - 2s 9us/step - loss: 0.3053 - accuracy: 0.8809 - val_loss: 0.2979 - val_accuracy: 0.8852\n",
      "Epoch 7/100\n",
      "169120/169120 [==============================] - 2s 9us/step - loss: 0.2781 - accuracy: 0.8895 - val_loss: 0.2565 - val_accuracy: 0.8918\n",
      "Epoch 8/100\n",
      "169120/169120 [==============================] - 2s 9us/step - loss: 0.2408 - accuracy: 0.8986 - val_loss: 0.2231 - val_accuracy: 0.9042\n",
      "Epoch 9/100\n",
      "169120/169120 [==============================] - 2s 12us/step - loss: 0.2130 - accuracy: 0.9102 - val_loss: 0.2015 - val_accuracy: 0.9136\n",
      "Epoch 10/100\n",
      "169120/169120 [==============================] - 3s 15us/step - loss: 0.1967 - accuracy: 0.9198 - val_loss: 0.1881 - val_accuracy: 0.9225\n",
      "Epoch 11/100\n",
      "169120/169120 [==============================] - 2s 14us/step - loss: 0.1846 - accuracy: 0.9264 - val_loss: 0.1759 - val_accuracy: 0.9286\n",
      "Epoch 12/100\n",
      "169120/169120 [==============================] - 2s 14us/step - loss: 0.1737 - accuracy: 0.9297 - val_loss: 0.1656 - val_accuracy: 0.9329\n",
      "Epoch 13/100\n",
      "169120/169120 [==============================] - 2s 14us/step - loss: 0.1639 - accuracy: 0.9323 - val_loss: 0.1573 - val_accuracy: 0.9359\n",
      "Epoch 14/100\n",
      "169120/169120 [==============================] - 2s 14us/step - loss: 0.1557 - accuracy: 0.9347 - val_loss: 0.1496 - val_accuracy: 0.9361\n",
      "Epoch 15/100\n",
      "169120/169120 [==============================] - 2s 15us/step - loss: 0.1488 - accuracy: 0.9369 - val_loss: 0.1432 - val_accuracy: 0.9389\n",
      "Epoch 16/100\n",
      "169120/169120 [==============================] - 2s 14us/step - loss: 0.1439 - accuracy: 0.9390 - val_loss: 0.1409 - val_accuracy: 0.9399\n",
      "Epoch 17/100\n",
      "169120/169120 [==============================] - 2s 14us/step - loss: 0.1404 - accuracy: 0.9404 - val_loss: 0.1363 - val_accuracy: 0.9433\n",
      "Epoch 18/100\n",
      "169120/169120 [==============================] - 2s 14us/step - loss: 0.1375 - accuracy: 0.9422 - val_loss: 0.1345 - val_accuracy: 0.9432\n",
      "Epoch 19/100\n",
      "169120/169120 [==============================] - 2s 14us/step - loss: 0.1350 - accuracy: 0.9438 - val_loss: 0.1313 - val_accuracy: 0.9452\n",
      "Epoch 20/100\n",
      "169120/169120 [==============================] - 2s 14us/step - loss: 0.1324 - accuracy: 0.9448 - val_loss: 0.1300 - val_accuracy: 0.9453\n",
      "Epoch 21/100\n",
      "169120/169120 [==============================] - 2s 14us/step - loss: 0.1304 - accuracy: 0.9460 - val_loss: 0.1277 - val_accuracy: 0.9465\n",
      "Epoch 22/100\n",
      "169120/169120 [==============================] - 2s 14us/step - loss: 0.1290 - accuracy: 0.9466 - val_loss: 0.1257 - val_accuracy: 0.9474\n",
      "Epoch 23/100\n",
      "169120/169120 [==============================] - 2s 14us/step - loss: 0.1274 - accuracy: 0.9472 - val_loss: 0.1243 - val_accuracy: 0.9477\n",
      "Epoch 24/100\n",
      "169120/169120 [==============================] - 2s 14us/step - loss: 0.1261 - accuracy: 0.9475 - val_loss: 0.1229 - val_accuracy: 0.9475\n",
      "Epoch 25/100\n",
      "169120/169120 [==============================] - 2s 14us/step - loss: 0.1250 - accuracy: 0.9478 - val_loss: 0.1230 - val_accuracy: 0.9483\n",
      "Epoch 26/100\n",
      "169120/169120 [==============================] - 2s 14us/step - loss: 0.1242 - accuracy: 0.9484 - val_loss: 0.1225 - val_accuracy: 0.9488\n",
      "Epoch 27/100\n",
      "169120/169120 [==============================] - 2s 13us/step - loss: 0.1236 - accuracy: 0.9483 - val_loss: 0.1213 - val_accuracy: 0.9489\n",
      "Epoch 28/100\n",
      "169120/169120 [==============================] - 2s 14us/step - loss: 0.1231 - accuracy: 0.9480 - val_loss: 0.1217 - val_accuracy: 0.9487\n",
      "Epoch 29/100\n",
      "169120/169120 [==============================] - 2s 14us/step - loss: 0.1225 - accuracy: 0.9481 - val_loss: 0.1222 - val_accuracy: 0.9486\n",
      "Epoch 30/100\n",
      "169120/169120 [==============================] - 2s 14us/step - loss: 0.1221 - accuracy: 0.9487 - val_loss: 0.1208 - val_accuracy: 0.9492\n",
      "Epoch 31/100\n",
      "169120/169120 [==============================] - 3s 16us/step - loss: 0.1217 - accuracy: 0.9483 - val_loss: 0.1204 - val_accuracy: 0.9483\n",
      "Epoch 32/100\n",
      "169120/169120 [==============================] - 3s 16us/step - loss: 0.1212 - accuracy: 0.9492 - val_loss: 0.1195 - val_accuracy: 0.9488\n",
      "Epoch 33/100\n",
      "169120/169120 [==============================] - 3s 15us/step - loss: 0.1208 - accuracy: 0.9485 - val_loss: 0.1188 - val_accuracy: 0.9492\n",
      "Epoch 34/100\n",
      "169120/169120 [==============================] - 2s 14us/step - loss: 0.1200 - accuracy: 0.9491 - val_loss: 0.1187 - val_accuracy: 0.9485\n",
      "Epoch 35/100\n",
      "169120/169120 [==============================] - 2s 14us/step - loss: 0.1194 - accuracy: 0.9496 - val_loss: 0.1174 - val_accuracy: 0.9490\n",
      "Epoch 36/100\n",
      "169120/169120 [==============================] - 2s 14us/step - loss: 0.1188 - accuracy: 0.9494 - val_loss: 0.1168 - val_accuracy: 0.9499\n",
      "Epoch 37/100\n",
      "169120/169120 [==============================] - 2s 14us/step - loss: 0.1180 - accuracy: 0.9501 - val_loss: 0.1159 - val_accuracy: 0.9503\n",
      "Epoch 38/100\n",
      "169120/169120 [==============================] - 2s 14us/step - loss: 0.1175 - accuracy: 0.9500 - val_loss: 0.1155 - val_accuracy: 0.9506\n",
      "Epoch 39/100\n",
      "169120/169120 [==============================] - 2s 14us/step - loss: 0.1168 - accuracy: 0.9507 - val_loss: 0.1164 - val_accuracy: 0.9501\n",
      "Epoch 40/100\n",
      "169120/169120 [==============================] - 2s 14us/step - loss: 0.1163 - accuracy: 0.9513 - val_loss: 0.1154 - val_accuracy: 0.9513\n",
      "Epoch 41/100\n",
      "169120/169120 [==============================] - 2s 14us/step - loss: 0.1157 - accuracy: 0.9517 - val_loss: 0.1146 - val_accuracy: 0.9507\n",
      "Epoch 42/100\n",
      "169120/169120 [==============================] - 2s 14us/step - loss: 0.1155 - accuracy: 0.9517 - val_loss: 0.1140 - val_accuracy: 0.9522\n",
      "Epoch 43/100\n",
      "169120/169120 [==============================] - 2s 13us/step - loss: 0.1149 - accuracy: 0.9521 - val_loss: 0.1141 - val_accuracy: 0.9515\n",
      "Epoch 44/100\n",
      "169120/169120 [==============================] - 2s 14us/step - loss: 0.1145 - accuracy: 0.9524 - val_loss: 0.1153 - val_accuracy: 0.9509\n",
      "Epoch 45/100\n",
      "169120/169120 [==============================] - 2s 14us/step - loss: 0.1143 - accuracy: 0.9519 - val_loss: 0.1136 - val_accuracy: 0.9520\n",
      "Epoch 46/100\n",
      "169120/169120 [==============================] - 2s 14us/step - loss: 0.1139 - accuracy: 0.9526 - val_loss: 0.1122 - val_accuracy: 0.9526\n",
      "Epoch 47/100\n",
      "169120/169120 [==============================] - 2s 14us/step - loss: 0.1133 - accuracy: 0.9525 - val_loss: 0.1123 - val_accuracy: 0.9527\n",
      "Epoch 48/100\n",
      "169120/169120 [==============================] - 3s 15us/step - loss: 0.1127 - accuracy: 0.9527 - val_loss: 0.1122 - val_accuracy: 0.9528\n",
      "Epoch 49/100\n",
      "169120/169120 [==============================] - 2s 14us/step - loss: 0.1121 - accuracy: 0.9528 - val_loss: 0.1112 - val_accuracy: 0.9527\n",
      "Epoch 50/100\n",
      "169120/169120 [==============================] - 2s 14us/step - loss: 0.1115 - accuracy: 0.9528 - val_loss: 0.1114 - val_accuracy: 0.9541\n",
      "Epoch 51/100\n",
      "169120/169120 [==============================] - 2s 14us/step - loss: 0.1107 - accuracy: 0.9533 - val_loss: 0.1102 - val_accuracy: 0.9538\n",
      "Epoch 52/100\n",
      "169120/169120 [==============================] - 2s 14us/step - loss: 0.1103 - accuracy: 0.9533 - val_loss: 0.1099 - val_accuracy: 0.9543\n",
      "Epoch 53/100\n",
      "169120/169120 [==============================] - 2s 14us/step - loss: 0.1095 - accuracy: 0.9537 - val_loss: 0.1087 - val_accuracy: 0.9538\n",
      "Epoch 54/100\n",
      "169120/169120 [==============================] - 3s 15us/step - loss: 0.1089 - accuracy: 0.9540 - val_loss: 0.1076 - val_accuracy: 0.9556\n",
      "Epoch 55/100\n"
     ]
    },
    {
     "name": "stdout",
     "output_type": "stream",
     "text": [
      "169120/169120 [==============================] - 3s 16us/step - loss: 0.1084 - accuracy: 0.9543 - val_loss: 0.1069 - val_accuracy: 0.9556\n",
      "Epoch 56/100\n",
      "169120/169120 [==============================] - 3s 16us/step - loss: 0.1076 - accuracy: 0.9546 - val_loss: 0.1071 - val_accuracy: 0.9555\n",
      "Epoch 57/100\n",
      "169120/169120 [==============================] - 3s 15us/step - loss: 0.1073 - accuracy: 0.9547 - val_loss: 0.1056 - val_accuracy: 0.9560\n",
      "Epoch 58/100\n",
      "169120/169120 [==============================] - 3s 15us/step - loss: 0.1068 - accuracy: 0.9550 - val_loss: 0.1057 - val_accuracy: 0.9564\n",
      "Epoch 59/100\n",
      "169120/169120 [==============================] - 3s 16us/step - loss: 0.1065 - accuracy: 0.9555 - val_loss: 0.1049 - val_accuracy: 0.9566\n",
      "Epoch 60/100\n",
      "169120/169120 [==============================] - 3s 15us/step - loss: 0.1062 - accuracy: 0.9557 - val_loss: 0.1045 - val_accuracy: 0.9571\n",
      "Epoch 61/100\n",
      "169120/169120 [==============================] - 2s 14us/step - loss: 0.1057 - accuracy: 0.9558 - val_loss: 0.1054 - val_accuracy: 0.9567\n",
      "Epoch 62/100\n",
      "169120/169120 [==============================] - 3s 16us/step - loss: 0.1055 - accuracy: 0.9561 - val_loss: 0.1055 - val_accuracy: 0.9566\n",
      "Epoch 63/100\n",
      "169120/169120 [==============================] - 3s 16us/step - loss: 0.1053 - accuracy: 0.9560 - val_loss: 0.1043 - val_accuracy: 0.9568\n",
      "Epoch 64/100\n",
      "169120/169120 [==============================] - 2s 14us/step - loss: 0.1050 - accuracy: 0.9564 - val_loss: 0.1060 - val_accuracy: 0.9565\n",
      "Epoch 65/100\n",
      "169120/169120 [==============================] - 2s 13us/step - loss: 0.1050 - accuracy: 0.9564 - val_loss: 0.1047 - val_accuracy: 0.9566\n",
      "Epoch 66/100\n",
      "169120/169120 [==============================] - 2s 13us/step - loss: 0.1046 - accuracy: 0.9565 - val_loss: 0.1035 - val_accuracy: 0.9569\n",
      "Epoch 67/100\n",
      "169120/169120 [==============================] - 2s 14us/step - loss: 0.1046 - accuracy: 0.9564 - val_loss: 0.1030 - val_accuracy: 0.9575\n",
      "Epoch 68/100\n",
      "169120/169120 [==============================] - 2s 14us/step - loss: 0.1041 - accuracy: 0.9568 - val_loss: 0.1034 - val_accuracy: 0.9572\n",
      "Epoch 69/100\n",
      "169120/169120 [==============================] - 2s 14us/step - loss: 0.1041 - accuracy: 0.9566 - val_loss: 0.1034 - val_accuracy: 0.9567\n",
      "Epoch 70/100\n",
      "169120/169120 [==============================] - 2s 14us/step - loss: 0.1040 - accuracy: 0.9564 - val_loss: 0.1036 - val_accuracy: 0.9572\n",
      "Epoch 71/100\n",
      "169120/169120 [==============================] - 2s 14us/step - loss: 0.1037 - accuracy: 0.9568 - val_loss: 0.1027 - val_accuracy: 0.9576\n",
      "Epoch 72/100\n",
      "169120/169120 [==============================] - 2s 14us/step - loss: 0.1035 - accuracy: 0.9570 - val_loss: 0.1023 - val_accuracy: 0.9575\n",
      "Epoch 73/100\n",
      "169120/169120 [==============================] - 2s 14us/step - loss: 0.1034 - accuracy: 0.9570 - val_loss: 0.1022 - val_accuracy: 0.9575\n",
      "Epoch 74/100\n",
      "169120/169120 [==============================] - 2s 14us/step - loss: 0.1033 - accuracy: 0.9568 - val_loss: 0.1051 - val_accuracy: 0.9564\n",
      "Epoch 75/100\n",
      "169120/169120 [==============================] - 2s 14us/step - loss: 0.1031 - accuracy: 0.9568 - val_loss: 0.1029 - val_accuracy: 0.9578\n",
      "Epoch 76/100\n",
      "169120/169120 [==============================] - 2s 14us/step - loss: 0.1031 - accuracy: 0.9572 - val_loss: 0.1020 - val_accuracy: 0.9577\n",
      "Epoch 77/100\n",
      "169120/169120 [==============================] - 2s 14us/step - loss: 0.1028 - accuracy: 0.9570 - val_loss: 0.1017 - val_accuracy: 0.9582\n",
      "Epoch 78/100\n",
      "169120/169120 [==============================] - 2s 14us/step - loss: 0.1026 - accuracy: 0.9575 - val_loss: 0.1028 - val_accuracy: 0.9570\n",
      "Epoch 79/100\n",
      "169120/169120 [==============================] - 2s 14us/step - loss: 0.1026 - accuracy: 0.9575 - val_loss: 0.1005 - val_accuracy: 0.9590\n",
      "Epoch 80/100\n",
      "169120/169120 [==============================] - 2s 14us/step - loss: 0.1023 - accuracy: 0.9572 - val_loss: 0.1016 - val_accuracy: 0.9576\n",
      "Epoch 81/100\n",
      "169120/169120 [==============================] - 2s 14us/step - loss: 0.1022 - accuracy: 0.9574 - val_loss: 0.1014 - val_accuracy: 0.9581\n",
      "Epoch 82/100\n",
      "169120/169120 [==============================] - 2s 14us/step - loss: 0.1022 - accuracy: 0.9571 - val_loss: 0.1009 - val_accuracy: 0.9584\n",
      "Epoch 83/100\n",
      "169120/169120 [==============================] - 2s 14us/step - loss: 0.1020 - accuracy: 0.9577 - val_loss: 0.1008 - val_accuracy: 0.9585\n",
      "Epoch 84/100\n",
      "169120/169120 [==============================] - 2s 14us/step - loss: 0.1020 - accuracy: 0.9577 - val_loss: 0.1019 - val_accuracy: 0.9577\n",
      "Epoch 85/100\n",
      "169120/169120 [==============================] - 2s 14us/step - loss: 0.1017 - accuracy: 0.9580 - val_loss: 0.1001 - val_accuracy: 0.9588\n",
      "Epoch 86/100\n",
      "169120/169120 [==============================] - 2s 14us/step - loss: 0.1016 - accuracy: 0.9580 - val_loss: 0.1022 - val_accuracy: 0.9576\n",
      "Epoch 87/100\n",
      "169120/169120 [==============================] - 2s 14us/step - loss: 0.1017 - accuracy: 0.9579 - val_loss: 0.1012 - val_accuracy: 0.9586\n",
      "Epoch 88/100\n",
      "169120/169120 [==============================] - 2s 13us/step - loss: 0.1015 - accuracy: 0.9578 - val_loss: 0.1022 - val_accuracy: 0.9581\n",
      "Epoch 89/100\n",
      "169120/169120 [==============================] - 2s 14us/step - loss: 0.1014 - accuracy: 0.9581 - val_loss: 0.1004 - val_accuracy: 0.9594\n",
      "Epoch 90/100\n",
      "169120/169120 [==============================] - 3s 15us/step - loss: 0.1013 - accuracy: 0.9581 - val_loss: 0.1008 - val_accuracy: 0.9579\n",
      "Epoch 91/100\n",
      "169120/169120 [==============================] - 2s 15us/step - loss: 0.1011 - accuracy: 0.9583 - val_loss: 0.1001 - val_accuracy: 0.9587\n",
      "Epoch 92/100\n",
      "169120/169120 [==============================] - 2s 15us/step - loss: 0.1010 - accuracy: 0.9584 - val_loss: 0.1005 - val_accuracy: 0.9584\n",
      "Epoch 93/100\n",
      "169120/169120 [==============================] - 3s 16us/step - loss: 0.1011 - accuracy: 0.9583 - val_loss: 0.0994 - val_accuracy: 0.9595\n",
      "Epoch 94/100\n",
      "169120/169120 [==============================] - 3s 19us/step - loss: 0.1007 - accuracy: 0.9584 - val_loss: 0.1019 - val_accuracy: 0.9577\n",
      "Epoch 95/100\n",
      "169120/169120 [==============================] - 3s 19us/step - loss: 0.1010 - accuracy: 0.9580 - val_loss: 0.0992 - val_accuracy: 0.9590\n",
      "Epoch 96/100\n",
      "169120/169120 [==============================] - 3s 17us/step - loss: 0.1007 - accuracy: 0.9582 - val_loss: 0.1004 - val_accuracy: 0.9590\n",
      "Epoch 97/100\n",
      "169120/169120 [==============================] - 3s 18us/step - loss: 0.1006 - accuracy: 0.9582 - val_loss: 0.1007 - val_accuracy: 0.9580\n",
      "Epoch 98/100\n",
      "169120/169120 [==============================] - 2s 15us/step - loss: 0.1006 - accuracy: 0.9582 - val_loss: 0.0991 - val_accuracy: 0.9592\n",
      "Epoch 99/100\n",
      "169120/169120 [==============================] - 2s 14us/step - loss: 0.1005 - accuracy: 0.9585 - val_loss: 0.1003 - val_accuracy: 0.9587\n",
      "Epoch 100/100\n",
      "169120/169120 [==============================] - 2s 14us/step - loss: 0.1003 - accuracy: 0.9584 - val_loss: 0.1009 - val_accuracy: 0.9586\n"
     ]
    }
   ],
   "source": [
    "#tanh activation function Model fit\n",
    "classifier_fit1 = classifier_tanh.fit(X_train, y_train,validation_data=(X_test,y_test), batch_size = 128, epochs = 100)"
   ]
  },
  {
   "cell_type": "code",
   "execution_count": 44,
   "metadata": {},
   "outputs": [
    {
     "name": "stdout",
     "output_type": "stream",
     "text": [
      "Train on 169120 samples, validate on 72480 samples\n",
      "Epoch 1/100\n",
      "169120/169120 [==============================] - 1s 9us/step - loss: 0.0985 - accuracy: 0.9588 - val_loss: 0.0972 - val_accuracy: 0.9600\n",
      "Epoch 2/100\n",
      "169120/169120 [==============================] - 1s 8us/step - loss: 0.0984 - accuracy: 0.9590 - val_loss: 0.0966 - val_accuracy: 0.9603\n",
      "Epoch 3/100\n",
      "169120/169120 [==============================] - 1s 9us/step - loss: 0.0983 - accuracy: 0.9589 - val_loss: 0.0958 - val_accuracy: 0.9607\n",
      "Epoch 4/100\n",
      "169120/169120 [==============================] - 1s 8us/step - loss: 0.0982 - accuracy: 0.9588 - val_loss: 0.0976 - val_accuracy: 0.9588\n",
      "Epoch 5/100\n",
      "169120/169120 [==============================] - 1s 8us/step - loss: 0.0980 - accuracy: 0.9589 - val_loss: 0.0959 - val_accuracy: 0.9606\n",
      "Epoch 6/100\n",
      "169120/169120 [==============================] - 1s 9us/step - loss: 0.0977 - accuracy: 0.9588 - val_loss: 0.0964 - val_accuracy: 0.9608\n",
      "Epoch 7/100\n",
      "169120/169120 [==============================] - 1s 9us/step - loss: 0.0976 - accuracy: 0.9591 - val_loss: 0.0964 - val_accuracy: 0.9609\n",
      "Epoch 8/100\n",
      "169120/169120 [==============================] - 1s 9us/step - loss: 0.0977 - accuracy: 0.9593 - val_loss: 0.0962 - val_accuracy: 0.9599\n",
      "Epoch 9/100\n",
      "169120/169120 [==============================] - 2s 12us/step - loss: 0.0975 - accuracy: 0.9591 - val_loss: 0.0956 - val_accuracy: 0.9604\n",
      "Epoch 10/100\n",
      "169120/169120 [==============================] - 2s 13us/step - loss: 0.0973 - accuracy: 0.9592 - val_loss: 0.0956 - val_accuracy: 0.9611\n",
      "Epoch 11/100\n",
      "169120/169120 [==============================] - 2s 13us/step - loss: 0.0973 - accuracy: 0.9589 - val_loss: 0.0957 - val_accuracy: 0.9609\n",
      "Epoch 12/100\n",
      "169120/169120 [==============================] - 2s 13us/step - loss: 0.0971 - accuracy: 0.9592 - val_loss: 0.0957 - val_accuracy: 0.9608\n",
      "Epoch 13/100\n",
      "169120/169120 [==============================] - 2s 13us/step - loss: 0.0970 - accuracy: 0.9593 - val_loss: 0.0956 - val_accuracy: 0.9609\n",
      "Epoch 14/100\n",
      "169120/169120 [==============================] - 2s 13us/step - loss: 0.0969 - accuracy: 0.9594 - val_loss: 0.0953 - val_accuracy: 0.9616\n",
      "Epoch 15/100\n",
      "169120/169120 [==============================] - 2s 13us/step - loss: 0.0966 - accuracy: 0.9596 - val_loss: 0.0960 - val_accuracy: 0.9599\n",
      "Epoch 16/100\n",
      "169120/169120 [==============================] - 2s 14us/step - loss: 0.0966 - accuracy: 0.9594 - val_loss: 0.0947 - val_accuracy: 0.9611\n",
      "Epoch 17/100\n",
      "169120/169120 [==============================] - 2s 13us/step - loss: 0.0965 - accuracy: 0.9598 - val_loss: 0.0951 - val_accuracy: 0.9609\n",
      "Epoch 18/100\n",
      "169120/169120 [==============================] - 2s 13us/step - loss: 0.0965 - accuracy: 0.9598 - val_loss: 0.0945 - val_accuracy: 0.9608\n",
      "Epoch 19/100\n",
      "169120/169120 [==============================] - 2s 13us/step - loss: 0.0963 - accuracy: 0.9594 - val_loss: 0.0953 - val_accuracy: 0.9605\n",
      "Epoch 20/100\n",
      "169120/169120 [==============================] - 2s 13us/step - loss: 0.0963 - accuracy: 0.9598 - val_loss: 0.0946 - val_accuracy: 0.9617\n",
      "Epoch 21/100\n",
      "169120/169120 [==============================] - 2s 13us/step - loss: 0.0962 - accuracy: 0.9594 - val_loss: 0.0953 - val_accuracy: 0.9603\n",
      "Epoch 22/100\n",
      "169120/169120 [==============================] - 2s 13us/step - loss: 0.0963 - accuracy: 0.9595 - val_loss: 0.0942 - val_accuracy: 0.9618\n",
      "Epoch 23/100\n",
      "169120/169120 [==============================] - 2s 13us/step - loss: 0.0961 - accuracy: 0.9600 - val_loss: 0.0941 - val_accuracy: 0.9616\n",
      "Epoch 24/100\n",
      "169120/169120 [==============================] - 2s 13us/step - loss: 0.0958 - accuracy: 0.9602 - val_loss: 0.0951 - val_accuracy: 0.9612\n",
      "Epoch 25/100\n",
      "169120/169120 [==============================] - 2s 13us/step - loss: 0.0960 - accuracy: 0.9598 - val_loss: 0.0946 - val_accuracy: 0.9615\n",
      "Epoch 26/100\n",
      "169120/169120 [==============================] - 2s 13us/step - loss: 0.0959 - accuracy: 0.9600 - val_loss: 0.0947 - val_accuracy: 0.9610\n",
      "Epoch 27/100\n",
      "169120/169120 [==============================] - 2s 13us/step - loss: 0.0958 - accuracy: 0.9601 - val_loss: 0.0947 - val_accuracy: 0.9612\n",
      "Epoch 28/100\n",
      "169120/169120 [==============================] - 2s 13us/step - loss: 0.0956 - accuracy: 0.9600 - val_loss: 0.0941 - val_accuracy: 0.9624\n",
      "Epoch 29/100\n",
      "169120/169120 [==============================] - 2s 13us/step - loss: 0.0956 - accuracy: 0.9601 - val_loss: 0.0944 - val_accuracy: 0.9613\n",
      "Epoch 30/100\n",
      "169120/169120 [==============================] - 2s 13us/step - loss: 0.0956 - accuracy: 0.9602 - val_loss: 0.0938 - val_accuracy: 0.9617\n",
      "Epoch 31/100\n",
      "169120/169120 [==============================] - 2s 13us/step - loss: 0.0955 - accuracy: 0.9604 - val_loss: 0.0939 - val_accuracy: 0.9618\n",
      "Epoch 32/100\n",
      "169120/169120 [==============================] - 2s 13us/step - loss: 0.0954 - accuracy: 0.9602 - val_loss: 0.0937 - val_accuracy: 0.9615\n",
      "Epoch 33/100\n",
      "169120/169120 [==============================] - 2s 13us/step - loss: 0.0954 - accuracy: 0.9601 - val_loss: 0.0952 - val_accuracy: 0.9610\n",
      "Epoch 34/100\n",
      "169120/169120 [==============================] - 2s 13us/step - loss: 0.0952 - accuracy: 0.9606 - val_loss: 0.0934 - val_accuracy: 0.9610\n",
      "Epoch 35/100\n",
      "169120/169120 [==============================] - 2s 13us/step - loss: 0.0952 - accuracy: 0.9604 - val_loss: 0.0929 - val_accuracy: 0.9629\n",
      "Epoch 36/100\n",
      "169120/169120 [==============================] - 2s 14us/step - loss: 0.0952 - accuracy: 0.9606 - val_loss: 0.0936 - val_accuracy: 0.9622\n",
      "Epoch 37/100\n",
      "169120/169120 [==============================] - 2s 13us/step - loss: 0.0950 - accuracy: 0.9606 - val_loss: 0.0929 - val_accuracy: 0.9618\n",
      "Epoch 38/100\n",
      "169120/169120 [==============================] - 2s 13us/step - loss: 0.0949 - accuracy: 0.9606 - val_loss: 0.0933 - val_accuracy: 0.9617\n",
      "Epoch 39/100\n",
      "169120/169120 [==============================] - 2s 13us/step - loss: 0.0950 - accuracy: 0.9604 - val_loss: 0.0930 - val_accuracy: 0.9622\n",
      "Epoch 40/100\n",
      "169120/169120 [==============================] - 2s 13us/step - loss: 0.0949 - accuracy: 0.9607 - val_loss: 0.0928 - val_accuracy: 0.9622\n",
      "Epoch 41/100\n",
      "169120/169120 [==============================] - 2s 14us/step - loss: 0.0949 - accuracy: 0.9605 - val_loss: 0.0928 - val_accuracy: 0.9625\n",
      "Epoch 42/100\n",
      "169120/169120 [==============================] - 2s 13us/step - loss: 0.0949 - accuracy: 0.9607 - val_loss: 0.0931 - val_accuracy: 0.9620\n",
      "Epoch 43/100\n",
      "169120/169120 [==============================] - 2s 14us/step - loss: 0.0947 - accuracy: 0.9608 - val_loss: 0.0927 - val_accuracy: 0.9626\n",
      "Epoch 44/100\n",
      "169120/169120 [==============================] - 2s 14us/step - loss: 0.0947 - accuracy: 0.9608 - val_loss: 0.0931 - val_accuracy: 0.9617\n",
      "Epoch 45/100\n",
      "169120/169120 [==============================] - 2s 13us/step - loss: 0.0947 - accuracy: 0.9606 - val_loss: 0.0926 - val_accuracy: 0.9623\n",
      "Epoch 46/100\n",
      "169120/169120 [==============================] - 2s 13us/step - loss: 0.0945 - accuracy: 0.9607 - val_loss: 0.0929 - val_accuracy: 0.9617\n",
      "Epoch 47/100\n",
      "169120/169120 [==============================] - 2s 13us/step - loss: 0.0944 - accuracy: 0.9609 - val_loss: 0.0931 - val_accuracy: 0.9621\n",
      "Epoch 48/100\n",
      "169120/169120 [==============================] - 2s 13us/step - loss: 0.0944 - accuracy: 0.9612 - val_loss: 0.0934 - val_accuracy: 0.9614\n",
      "Epoch 49/100\n",
      "169120/169120 [==============================] - 2s 13us/step - loss: 0.0944 - accuracy: 0.9610 - val_loss: 0.0941 - val_accuracy: 0.9608\n",
      "Epoch 50/100\n",
      "169120/169120 [==============================] - 2s 13us/step - loss: 0.0944 - accuracy: 0.9611 - val_loss: 0.0930 - val_accuracy: 0.9622\n",
      "Epoch 51/100\n",
      "169120/169120 [==============================] - 2s 13us/step - loss: 0.0943 - accuracy: 0.9610 - val_loss: 0.0928 - val_accuracy: 0.9628\n",
      "Epoch 52/100\n",
      "169120/169120 [==============================] - 2s 13us/step - loss: 0.0942 - accuracy: 0.9610 - val_loss: 0.0930 - val_accuracy: 0.9625\n",
      "Epoch 53/100\n",
      "169120/169120 [==============================] - 2s 13us/step - loss: 0.0942 - accuracy: 0.9612 - val_loss: 0.0921 - val_accuracy: 0.9625\n",
      "Epoch 54/100\n",
      "169120/169120 [==============================] - 2s 13us/step - loss: 0.0941 - accuracy: 0.9610 - val_loss: 0.0930 - val_accuracy: 0.9618\n",
      "Epoch 55/100\n"
     ]
    },
    {
     "name": "stdout",
     "output_type": "stream",
     "text": [
      "169120/169120 [==============================] - 2s 13us/step - loss: 0.0942 - accuracy: 0.9611 - val_loss: 0.0922 - val_accuracy: 0.9624\n",
      "Epoch 56/100\n",
      "169120/169120 [==============================] - 2s 13us/step - loss: 0.0940 - accuracy: 0.9613 - val_loss: 0.0922 - val_accuracy: 0.9631\n",
      "Epoch 57/100\n",
      "169120/169120 [==============================] - 2s 13us/step - loss: 0.0940 - accuracy: 0.9611 - val_loss: 0.0925 - val_accuracy: 0.9628\n",
      "Epoch 58/100\n",
      "169120/169120 [==============================] - 2s 13us/step - loss: 0.0941 - accuracy: 0.9614 - val_loss: 0.0926 - val_accuracy: 0.9623\n",
      "Epoch 59/100\n",
      "169120/169120 [==============================] - 2s 13us/step - loss: 0.0940 - accuracy: 0.9613 - val_loss: 0.0928 - val_accuracy: 0.9625\n",
      "Epoch 60/100\n",
      "169120/169120 [==============================] - 2s 13us/step - loss: 0.0940 - accuracy: 0.9617 - val_loss: 0.0926 - val_accuracy: 0.9623\n",
      "Epoch 61/100\n",
      "169120/169120 [==============================] - 2s 13us/step - loss: 0.0938 - accuracy: 0.9617 - val_loss: 0.0921 - val_accuracy: 0.9634\n",
      "Epoch 62/100\n",
      "169120/169120 [==============================] - 3s 15us/step - loss: 0.0939 - accuracy: 0.9614 - val_loss: 0.0922 - val_accuracy: 0.9636\n",
      "Epoch 63/100\n",
      "169120/169120 [==============================] - 3s 16us/step - loss: 0.0937 - accuracy: 0.9615 - val_loss: 0.0918 - val_accuracy: 0.9630\n",
      "Epoch 64/100\n",
      "169120/169120 [==============================] - 2s 14us/step - loss: 0.0937 - accuracy: 0.9617 - val_loss: 0.0924 - val_accuracy: 0.9628\n",
      "Epoch 65/100\n",
      "169120/169120 [==============================] - 2s 13us/step - loss: 0.0937 - accuracy: 0.9616 - val_loss: 0.0915 - val_accuracy: 0.9632\n",
      "Epoch 66/100\n",
      "169120/169120 [==============================] - 2s 13us/step - loss: 0.0937 - accuracy: 0.9614 - val_loss: 0.0917 - val_accuracy: 0.9631\n",
      "Epoch 67/100\n",
      "169120/169120 [==============================] - 2s 13us/step - loss: 0.0937 - accuracy: 0.9615 - val_loss: 0.0924 - val_accuracy: 0.9631\n",
      "Epoch 68/100\n",
      "169120/169120 [==============================] - 2s 13us/step - loss: 0.0935 - accuracy: 0.9617 - val_loss: 0.0920 - val_accuracy: 0.9624\n",
      "Epoch 69/100\n",
      "169120/169120 [==============================] - 2s 13us/step - loss: 0.0937 - accuracy: 0.9616 - val_loss: 0.0911 - val_accuracy: 0.9632\n",
      "Epoch 70/100\n",
      "169120/169120 [==============================] - 2s 13us/step - loss: 0.0936 - accuracy: 0.9616 - val_loss: 0.0915 - val_accuracy: 0.9636\n",
      "Epoch 71/100\n",
      "169120/169120 [==============================] - 2s 13us/step - loss: 0.0936 - accuracy: 0.9616 - val_loss: 0.0921 - val_accuracy: 0.9630\n",
      "Epoch 72/100\n",
      "169120/169120 [==============================] - 2s 13us/step - loss: 0.0935 - accuracy: 0.9615 - val_loss: 0.0912 - val_accuracy: 0.9631\n",
      "Epoch 73/100\n",
      "169120/169120 [==============================] - 2s 14us/step - loss: 0.0935 - accuracy: 0.9618 - val_loss: 0.0916 - val_accuracy: 0.9630\n",
      "Epoch 74/100\n",
      "169120/169120 [==============================] - 2s 14us/step - loss: 0.0936 - accuracy: 0.9618 - val_loss: 0.0918 - val_accuracy: 0.9636\n",
      "Epoch 75/100\n",
      "169120/169120 [==============================] - 2s 14us/step - loss: 0.0935 - accuracy: 0.9616 - val_loss: 0.0926 - val_accuracy: 0.9635\n",
      "Epoch 76/100\n",
      "169120/169120 [==============================] - 2s 14us/step - loss: 0.0935 - accuracy: 0.9617 - val_loss: 0.0918 - val_accuracy: 0.9629\n",
      "Epoch 77/100\n",
      "169120/169120 [==============================] - 2s 14us/step - loss: 0.0934 - accuracy: 0.9620 - val_loss: 0.0920 - val_accuracy: 0.9634\n",
      "Epoch 78/100\n",
      "169120/169120 [==============================] - 2s 13us/step - loss: 0.0933 - accuracy: 0.9622 - val_loss: 0.0921 - val_accuracy: 0.9628\n",
      "Epoch 79/100\n",
      "169120/169120 [==============================] - 2s 13us/step - loss: 0.0933 - accuracy: 0.9618 - val_loss: 0.0917 - val_accuracy: 0.9630\n",
      "Epoch 80/100\n",
      "169120/169120 [==============================] - 2s 13us/step - loss: 0.0933 - accuracy: 0.9620 - val_loss: 0.0926 - val_accuracy: 0.9631\n",
      "Epoch 81/100\n",
      "169120/169120 [==============================] - 2s 13us/step - loss: 0.0932 - accuracy: 0.9621 - val_loss: 0.0917 - val_accuracy: 0.9632\n",
      "Epoch 82/100\n",
      "169120/169120 [==============================] - 2s 13us/step - loss: 0.0933 - accuracy: 0.9615 - val_loss: 0.0919 - val_accuracy: 0.9631\n",
      "Epoch 83/100\n",
      "169120/169120 [==============================] - 2s 13us/step - loss: 0.0934 - accuracy: 0.9616 - val_loss: 0.0913 - val_accuracy: 0.9636\n",
      "Epoch 84/100\n",
      "169120/169120 [==============================] - 2s 14us/step - loss: 0.0932 - accuracy: 0.9621 - val_loss: 0.0914 - val_accuracy: 0.9633\n",
      "Epoch 85/100\n",
      "169120/169120 [==============================] - 2s 14us/step - loss: 0.0932 - accuracy: 0.9621 - val_loss: 0.0920 - val_accuracy: 0.9627\n",
      "Epoch 86/100\n",
      "169120/169120 [==============================] - 2s 13us/step - loss: 0.0933 - accuracy: 0.9621 - val_loss: 0.0915 - val_accuracy: 0.9628\n",
      "Epoch 87/100\n",
      "169120/169120 [==============================] - 2s 13us/step - loss: 0.0931 - accuracy: 0.9620 - val_loss: 0.0914 - val_accuracy: 0.9632\n",
      "Epoch 88/100\n",
      "169120/169120 [==============================] - 2s 13us/step - loss: 0.0932 - accuracy: 0.9623 - val_loss: 0.0915 - val_accuracy: 0.9637\n",
      "Epoch 89/100\n",
      "169120/169120 [==============================] - 2s 14us/step - loss: 0.0931 - accuracy: 0.9621 - val_loss: 0.0913 - val_accuracy: 0.9629\n",
      "Epoch 90/100\n",
      "169120/169120 [==============================] - 2s 14us/step - loss: 0.0931 - accuracy: 0.9622 - val_loss: 0.0916 - val_accuracy: 0.9633\n",
      "Epoch 91/100\n",
      "169120/169120 [==============================] - 2s 13us/step - loss: 0.0931 - accuracy: 0.9622 - val_loss: 0.0915 - val_accuracy: 0.9633\n",
      "Epoch 92/100\n",
      "169120/169120 [==============================] - 2s 13us/step - loss: 0.0932 - accuracy: 0.9624 - val_loss: 0.0912 - val_accuracy: 0.9634\n",
      "Epoch 93/100\n",
      "169120/169120 [==============================] - 2s 13us/step - loss: 0.0932 - accuracy: 0.9619 - val_loss: 0.0911 - val_accuracy: 0.9631\n",
      "Epoch 94/100\n",
      "169120/169120 [==============================] - 2s 13us/step - loss: 0.0931 - accuracy: 0.9620 - val_loss: 0.0923 - val_accuracy: 0.9631\n",
      "Epoch 95/100\n",
      "169120/169120 [==============================] - 2s 13us/step - loss: 0.0930 - accuracy: 0.9623 - val_loss: 0.0913 - val_accuracy: 0.9640\n",
      "Epoch 96/100\n",
      "169120/169120 [==============================] - 2s 13us/step - loss: 0.0930 - accuracy: 0.9621 - val_loss: 0.0916 - val_accuracy: 0.9631\n",
      "Epoch 97/100\n",
      "169120/169120 [==============================] - 2s 13us/step - loss: 0.0929 - accuracy: 0.9621 - val_loss: 0.0913 - val_accuracy: 0.9638\n",
      "Epoch 98/100\n",
      "169120/169120 [==============================] - 2s 13us/step - loss: 0.0931 - accuracy: 0.9618 - val_loss: 0.0923 - val_accuracy: 0.9623\n",
      "Epoch 99/100\n",
      "169120/169120 [==============================] - 2s 14us/step - loss: 0.0930 - accuracy: 0.9620 - val_loss: 0.0911 - val_accuracy: 0.9635\n",
      "Epoch 100/100\n",
      "169120/169120 [==============================] - 2s 13us/step - loss: 0.0930 - accuracy: 0.9624 - val_loss: 0.0905 - val_accuracy: 0.9637\n"
     ]
    }
   ],
   "source": [
    "#softmax activation function Model fit\n",
    "classifier_fit2 = classifier_softmax.fit(X_train, y_train,validation_data=(X_test,y_test), batch_size = 128, epochs = 100)"
   ]
  },
  {
   "cell_type": "code",
   "execution_count": 21,
   "metadata": {},
   "outputs": [],
   "source": [
    "#classifier.fit(X_train, y_train, batch_size = 128, epochs = 100)"
   ]
  },
  {
   "cell_type": "code",
   "execution_count": 21,
   "metadata": {},
   "outputs": [
    {
     "name": "stdout",
     "output_type": "stream",
     "text": [
      "dict_keys(['val_loss', 'val_accuracy', 'loss', 'accuracy'])\n"
     ]
    }
   ],
   "source": [
    "# list all data in history\n",
    "print(classifier_fit.history.keys())"
   ]
  },
  {
   "cell_type": "code",
   "execution_count": 22,
   "metadata": {},
   "outputs": [
    {
     "data": {
      "image/png": "[encoded data removed]",
      "text/plain": [
       "<Figure size 432x288 with 1 Axes>"
      ]
     },
     "metadata": {
      "needs_background": "light"
     },
     "output_type": "display_data"
    }
   ],
   "source": [
    "# summarize history for accuracy\n",
    "plt.plot(classifier_fit.history['accuracy'])\n",
    "plt.plot(classifier_fit.history['val_accuracy'])\n",
    "plt.title('model accuracy')\n",
    "plt.ylabel('accuracy')\n",
    "plt.xlabel('epoch')\n",
    "plt.legend(['train', 'test'], loc='upper left')\n",
    "plt.show()"
   ]
  },
  {
   "cell_type": "code",
   "execution_count": 35,
   "metadata": {},
   "outputs": [
    {
     "data": {
      "image/png": "[encoded data removed]",
      "text/plain": [
       "<Figure size 432x288 with 1 Axes>"
      ]
     },
     "metadata": {
      "needs_background": "light"
     },
     "output_type": "display_data"
    }
   ],
   "source": [
    "# summarize history for accuracy\n",
    "plt.plot(classifier_fit1.history['accuracy'])\n",
    "plt.plot(classifier_fit1.history['val_accuracy'])\n",
    "plt.title('model accuracy')\n",
    "plt.ylabel('accuracy')\n",
    "plt.xlabel('epoch')\n",
    "plt.legend(['train', 'test'], loc='upper left')\n",
    "plt.show()"
   ]
  },
  {
   "cell_type": "code",
   "execution_count": 45,
   "metadata": {},
   "outputs": [
    {
     "data": {
      "image/png": "[encoded data removed]",
      "text/plain": [
       "<Figure size 432x288 with 1 Axes>"
      ]
     },
     "metadata": {},
     "output_type": "display_data"
    }
   ],
   "source": [
    "# summarize history for accuracy\n",
    "plt.plot(classifier_fit2.history['accuracy'])\n",
    "plt.plot(classifier_fit2.history['val_accuracy'])\n",
    "plt.title('model accuracy')\n",
    "plt.ylabel('accuracy')\n",
    "plt.xlabel('epoch')\n",
    "plt.legend(['train', 'test'], loc='upper left')\n",
    "plt.show()"
   ]
  },
  {
   "cell_type": "code",
   "execution_count": 32,
   "metadata": {},
   "outputs": [],
   "source": [
    "# Predicting the Test set results\n",
    "y_pred = classifier.predict(X_test)\n",
    "y_pred = (y_pred > 0.5)"
   ]
  },
  {
   "cell_type": "code",
   "execution_count": 33,
   "metadata": {},
   "outputs": [],
   "source": [
    "# Making the Confusion Matrix\n",
    "from sklearn.metrics import confusion_matrix,classification_report\n",
    "cm = confusion_matrix(y_test, y_pred)"
   ]
  },
  {
   "cell_type": "code",
   "execution_count": 34,
   "metadata": {},
   "outputs": [
    {
     "name": "stdout",
     "output_type": "stream",
     "text": [
      "[[35116  1010]\n",
      " [ 2361 33993]]\n"
     ]
    }
   ],
   "source": [
    "print(cm)"
   ]
  },
  {
   "cell_type": "code",
   "execution_count": 38,
   "metadata": {},
   "outputs": [
    {
     "name": "stdout",
     "output_type": "stream",
     "text": [
      "[[35116  1010]\n",
      " [ 2361 33993]]\n"
     ]
    },
    {
     "data": {
      "image/png": "[encoded data removed]",
      "text/plain": [
       "<Figure size 432x288 with 2 Axes>"
      ]
     },
     "metadata": {
      "needs_background": "light"
     },
     "output_type": "display_data"
    }
   ],
   "source": [
    "from sklearn.metrics import confusion_matrix\n",
    "\n",
    "labels = [0,1]\n",
    "cm = confusion_matrix(y_test, y_pred, labels)\n",
    "print(cm)\n",
    "fig = plt.figure()\n",
    "ax = fig.add_subplot(111)\n",
    "cax = ax.matshow(cm)\n",
    "plt.title('Confusion matrix of the classifier')\n",
    "fig.colorbar(cax)\n",
    "ax.set_xticklabels([''] + labels)\n",
    "ax.set_yticklabels([''] + labels)\n",
    "plt.xlabel('Predicted')\n",
    "plt.ylabel('True')\n",
    "plt.show()"
   ]
  },
  {
   "cell_type": "code",
   "execution_count": 49,
   "metadata": {},
   "outputs": [
    {
     "name": "stdout",
     "output_type": "stream",
     "text": [
      "              precision    recall  f1-score   support\n",
      "\n",
      "           0       0.96      0.97      0.96     36126\n",
      "           1       0.97      0.96      0.96     36354\n",
      "\n",
      "    accuracy                           0.96     72480\n",
      "   macro avg       0.96      0.96      0.96     72480\n",
      "weighted avg       0.96      0.96      0.96     72480\n",
      "\n"
     ]
    }
   ],
   "source": [
    "target_names = ['0', '1']\n",
    "print(classification_report(y_test, y_pred,target_names=target_names))"
   ]
  },
  {
   "cell_type": "code",
   "execution_count": 45,
   "metadata": {},
   "outputs": [
    {
     "data": {
      "image/png": "[encoded data removed]",
      "text/plain": [
       "<Figure size 432x288 with 1 Axes>"
      ]
     },
     "metadata": {},
     "output_type": "display_data"
    }
   ],
   "source": [
    "from sklearn.metrics import roc_curve,auc\n",
    "def roc_auc(y_test,y_pred1):\n",
    "    sns.set()\n",
    "    fpr, tpr, thresholds = roc_curve(y_test, y_pred1)\n",
    "    roc_auc = auc(fpr,tpr)\n",
    "    plt.title('ROC Curve')\n",
    "    plt.plot(fpr, tpr, 'g',label='AUC = %0.3f'% roc_auc)\n",
    "    plt.legend()\n",
    "    plt.plot([0,1],[0,1],'r--')\n",
    "    plt.xlim([-0.1,1.0])\n",
    "    plt.ylim([-0.1,1.01])\n",
    "    plt.ylabel('True Positive Rate')\n",
    "    plt.xlabel('False Positive Rate')\n",
    "    plt.show()\n",
    "roc_auc(y_pred,y_test)"
   ]
  },
  {
   "cell_type": "markdown",
   "metadata": {},
   "source": [
    "#  KNN Algorithm"
   ]
  },
  {
   "cell_type": "code",
   "execution_count": 159,
   "metadata": {},
   "outputs": [
    {
     "data": {
      "text/plain": [
       "KNeighborsClassifier(algorithm='auto', leaf_size=30, metric='minkowski',\n",
       "                     metric_params=None, n_jobs=None, n_neighbors=5, p=2,\n",
       "                     weights='uniform')"
      ]
     },
     "execution_count": 159,
     "metadata": {},
     "output_type": "execute_result"
    }
   ],
   "source": [
    "from sklearn.neighbors import KNeighborsClassifier\n",
    "KNNclassifier = KNeighborsClassifier(n_neighbors = 5, metric = 'minkowski', p = 2)\n",
    "KNNclassifier.fit(X_train, y_train)"
   ]
  },
  {
   "cell_type": "code",
   "execution_count": 160,
   "metadata": {},
   "outputs": [],
   "source": [
    "# Predicting the Test set results\n",
    "y_pred1 = KNNclassifier.predict(X_test)"
   ]
  },
  {
   "cell_type": "code",
   "execution_count": 199,
   "metadata": {},
   "outputs": [
    {
     "name": "stdout",
     "output_type": "stream",
     "text": [
      "[[35032  1094]\n",
      " [ 2935 33419]]\n",
      "0.9444122516556291\n"
     ]
    }
   ],
   "source": [
    "# Making the Confusion Matrix\n",
    "from sklearn.metrics import confusion_matrix,accuracy_score,classification_report\n",
    "cm = confusion_matrix(y_test, y_pred1)\n",
    "accuracy = accuracy_score(y_test, y_pred1)\n",
    "print(cm)\n",
    "print(accuracy)"
   ]
  },
  {
   "cell_type": "code",
   "execution_count": 200,
   "metadata": {},
   "outputs": [
    {
     "name": "stdout",
     "output_type": "stream",
     "text": [
      "              precision    recall  f1-score   support\n",
      "\n",
      "           0       0.92      0.97      0.95     36126\n",
      "           1       0.97      0.92      0.94     36354\n",
      "\n",
      "    accuracy                           0.94     72480\n",
      "   macro avg       0.95      0.94      0.94     72480\n",
      "weighted avg       0.95      0.94      0.94     72480\n",
      "\n"
     ]
    }
   ],
   "source": [
    "print(classification_report(y_test,y_pred1))"
   ]
  },
  {
   "cell_type": "code",
   "execution_count": 201,
   "metadata": {},
   "outputs": [
    {
     "data": {
      "text/plain": [
       "Text(0, 0.5, 'Mean Error')"
      ]
     },
     "execution_count": 201,
     "metadata": {},
     "output_type": "execute_result"
    },
    {
     "data": {
      "image/png": "[encoded data removed]",
      "text/plain": [
       "<Figure size 864x432 with 1 Axes>"
      ]
     },
     "metadata": {
      "needs_background": "light"
     },
     "output_type": "display_data"
    }
   ],
   "source": [
    "error = []\n",
    "\n",
    "# Calculating error for K values \n",
    "for i in range(1, 10):\n",
    "    knn = KNeighborsClassifier(n_neighbors=i)\n",
    "    knn.fit(X_train, y_train)\n",
    "    pred_i = knn.predict(X_test)\n",
    "    error.append(np.mean(pred_i != y_test))\n",
    "plt.figure(figsize=(12, 6))\n",
    "plt.plot(range(1, 10), error, color='red', linestyle='dashed', marker='o',\n",
    "         markerfacecolor='blue', markersize=10)\n",
    "plt.title('Error Rate K Value')\n",
    "plt.xlabel('K Value')\n",
    "plt.ylabel('Mean Error')"
   ]
  },
  {
   "cell_type": "code",
   "execution_count": 202,
   "metadata": {},
   "outputs": [
    {
     "data": {
      "image/png": "[encoded data removed]",
      "text/plain": [
       "<Figure size 432x288 with 1 Axes>"
      ]
     },
     "metadata": {},
     "output_type": "display_data"
    }
   ],
   "source": [
    "from sklearn.metrics import roc_curve,auc\n",
    "def roc_auc(y_test,y_pred1):\n",
    "    sns.set()\n",
    "    fpr, tpr, thresholds = roc_curve(y_test, y_pred1)\n",
    "    roc_auc = auc(fpr,tpr)\n",
    "    plt.title('ROC Curve')\n",
    "    plt.plot(fpr, tpr, 'b',label='AUC = %0.3f'% roc_auc)\n",
    "    plt.legend()\n",
    "    plt.plot([0,1],[0,1],'r--')\n",
    "    plt.xlim([-0.1,1.0])\n",
    "    plt.ylim([-0.1,1.01])\n",
    "    plt.ylabel('True Positive Rate')\n",
    "    plt.xlabel('False Positive Rate')\n",
    "    plt.show()\n",
    "roc_auc(y_pred1,y_test)"
   ]
  },
  {
   "cell_type": "markdown",
   "metadata": {},
   "source": [
    "# Cross-Validation for KNN"
   ]
  },
  {
   "cell_type": "code",
   "execution_count": 163,
   "metadata": {},
   "outputs": [
    {
     "name": "stdout",
     "output_type": "stream",
     "text": [
      "[0.93581481 0.9332131  0.93528264 0.92863056 0.93492786]\n",
      "0.9335737937559131\n"
     ]
    }
   ],
   "source": [
    "from sklearn.neighbors import KNeighborsClassifier\n",
    "from sklearn.model_selection import cross_val_score\n",
    "scores = cross_val_score(KNNclassifier,X_train, y_train, cv=5, scoring='accuracy')\n",
    "# print all 5 times scores \n",
    "print(scores)\n",
    "print(scores.mean())"
   ]
  },
  {
   "cell_type": "markdown",
   "metadata": {},
   "source": [
    "# Cross Validation for Neural Networks"
   ]
  },
  {
   "cell_type": "code",
   "execution_count": 51,
   "metadata": {},
   "outputs": [
    {
     "data": {
      "text/html": [
       "<div>\n",
       "<style scoped>\n",
       "    .dataframe tbody tr th:only-of-type {\n",
       "        vertical-align: middle;\n",
       "    }\n",
       "\n",
       "    .dataframe tbody tr th {\n",
       "        vertical-align: top;\n",
       "    }\n",
       "\n",
       "    .dataframe thead th {\n",
       "        text-align: right;\n",
       "    }\n",
       "</style>\n",
       "<table border=\"1\" class=\"dataframe\">\n",
       "  <thead>\n",
       "    <tr style=\"text-align: right;\">\n",
       "      <th></th>\n",
       "      <th>MWG</th>\n",
       "      <th>NWG</th>\n",
       "      <th>KWG</th>\n",
       "      <th>MDIMC</th>\n",
       "      <th>NDIMC</th>\n",
       "      <th>MDIMA</th>\n",
       "      <th>NDIMB</th>\n",
       "      <th>KWI</th>\n",
       "      <th>VWM</th>\n",
       "      <th>VWN</th>\n",
       "      <th>STRM</th>\n",
       "      <th>STRN</th>\n",
       "      <th>SA</th>\n",
       "      <th>SB</th>\n",
       "      <th>Binary_Run</th>\n",
       "    </tr>\n",
       "  </thead>\n",
       "  <tbody>\n",
       "    <tr>\n",
       "      <th>0</th>\n",
       "      <td>16</td>\n",
       "      <td>16</td>\n",
       "      <td>16</td>\n",
       "      <td>8</td>\n",
       "      <td>8</td>\n",
       "      <td>8</td>\n",
       "      <td>8</td>\n",
       "      <td>2</td>\n",
       "      <td>1</td>\n",
       "      <td>1</td>\n",
       "      <td>0</td>\n",
       "      <td>0</td>\n",
       "      <td>0</td>\n",
       "      <td>0</td>\n",
       "      <td>1</td>\n",
       "    </tr>\n",
       "    <tr>\n",
       "      <th>1</th>\n",
       "      <td>16</td>\n",
       "      <td>16</td>\n",
       "      <td>16</td>\n",
       "      <td>8</td>\n",
       "      <td>8</td>\n",
       "      <td>8</td>\n",
       "      <td>8</td>\n",
       "      <td>2</td>\n",
       "      <td>1</td>\n",
       "      <td>1</td>\n",
       "      <td>0</td>\n",
       "      <td>0</td>\n",
       "      <td>0</td>\n",
       "      <td>1</td>\n",
       "      <td>1</td>\n",
       "    </tr>\n",
       "    <tr>\n",
       "      <th>2</th>\n",
       "      <td>16</td>\n",
       "      <td>16</td>\n",
       "      <td>16</td>\n",
       "      <td>8</td>\n",
       "      <td>8</td>\n",
       "      <td>8</td>\n",
       "      <td>8</td>\n",
       "      <td>2</td>\n",
       "      <td>1</td>\n",
       "      <td>1</td>\n",
       "      <td>0</td>\n",
       "      <td>0</td>\n",
       "      <td>1</td>\n",
       "      <td>0</td>\n",
       "      <td>1</td>\n",
       "    </tr>\n",
       "    <tr>\n",
       "      <th>3</th>\n",
       "      <td>16</td>\n",
       "      <td>16</td>\n",
       "      <td>16</td>\n",
       "      <td>8</td>\n",
       "      <td>8</td>\n",
       "      <td>8</td>\n",
       "      <td>8</td>\n",
       "      <td>2</td>\n",
       "      <td>1</td>\n",
       "      <td>1</td>\n",
       "      <td>0</td>\n",
       "      <td>0</td>\n",
       "      <td>1</td>\n",
       "      <td>1</td>\n",
       "      <td>1</td>\n",
       "    </tr>\n",
       "    <tr>\n",
       "      <th>4</th>\n",
       "      <td>16</td>\n",
       "      <td>16</td>\n",
       "      <td>16</td>\n",
       "      <td>8</td>\n",
       "      <td>8</td>\n",
       "      <td>8</td>\n",
       "      <td>8</td>\n",
       "      <td>2</td>\n",
       "      <td>1</td>\n",
       "      <td>1</td>\n",
       "      <td>0</td>\n",
       "      <td>1</td>\n",
       "      <td>0</td>\n",
       "      <td>0</td>\n",
       "      <td>1</td>\n",
       "    </tr>\n",
       "  </tbody>\n",
       "</table>\n",
       "</div>"
      ],
      "text/plain": [
       "   MWG  NWG  KWG  MDIMC  NDIMC  MDIMA  NDIMB  KWI  VWM  VWN  STRM  STRN  SA  \\\n",
       "0   16   16   16      8      8      8      8    2    1    1     0     0   0   \n",
       "1   16   16   16      8      8      8      8    2    1    1     0     0   0   \n",
       "2   16   16   16      8      8      8      8    2    1    1     0     0   1   \n",
       "3   16   16   16      8      8      8      8    2    1    1     0     0   1   \n",
       "4   16   16   16      8      8      8      8    2    1    1     0     1   0   \n",
       "\n",
       "   SB  Binary_Run  \n",
       "0   0           1  \n",
       "1   1           1  \n",
       "2   0           1  \n",
       "3   1           1  \n",
       "4   0           1  "
      ]
     },
     "execution_count": 51,
     "metadata": {},
     "output_type": "execute_result"
    }
   ],
   "source": [
    "df1 = df.copy()\n",
    "df1.head()"
   ]
  },
  {
   "cell_type": "code",
   "execution_count": 52,
   "metadata": {},
   "outputs": [
    {
     "name": "stdout",
     "output_type": "stream",
     "text": [
      "241600 241600\n"
     ]
    }
   ],
   "source": [
    "X1 = df.iloc[:,:-1]\n",
    "y1 = df.iloc[:,-1]\n",
    "\n",
    "print(X1.shape[0], y1.shape[0])"
   ]
  },
  {
   "cell_type": "code",
   "execution_count": 53,
   "metadata": {},
   "outputs": [],
   "source": [
    "from sklearn.preprocessing import StandardScaler\n",
    "sc = StandardScaler()\n",
    "X1 = sc.fit_transform(X1)\n",
    "X1 = pd.DataFrame(X1)"
   ]
  },
  {
   "cell_type": "code",
   "execution_count": 54,
   "metadata": {},
   "outputs": [
    {
     "name": "stdout",
     "output_type": "stream",
     "text": [
      "Fold #1\n",
      "Fold score (Accuracy): 0.960989238410596\n",
      "Fold #2\n",
      "Fold score (Accuracy): 0.9548634105960265\n",
      "Fold #3\n",
      "Fold score (Accuracy): 0.9593956953642384\n",
      "Fold #4\n",
      "Fold score (Accuracy): 0.9466680463576159\n",
      "Fold #5\n",
      "Fold score (Accuracy): 0.9555049668874173\n",
      "Final, out of sample score (Accuracy): 0.9554842715231788\n",
      "Accuracy of K-Fold Score: {Final_Kfoldscore}\n"
     ]
    }
   ],
   "source": [
    "import keras\n",
    "from keras.models import Sequential\n",
    "from keras.layers import Dense\n",
    "from sklearn.model_selection import KFold\n",
    "from sklearn import metrics\n",
    "\n",
    "# Cross-Validate\n",
    "kf = KFold(5, shuffle=True, random_state=42) # Use for KFold classification\n",
    "    \n",
    "oos_y = []\n",
    "oos_pred = []\n",
    "fold_score = []\n",
    "fold = 0\n",
    "for train, test in kf.split(X1):\n",
    "    fold+=1\n",
    "    print(f\"Fold #{fold}\")\n",
    "        \n",
    "    x_train = X1.values[train]\n",
    "    y_train = y1.values[train]\n",
    "    x_test = X1.values[test]\n",
    "    y_test = y1.values[test]\n",
    "    \n",
    "    model = Sequential()\n",
    "    model.add(Dense(10, input_dim=X1.shape[1],kernel_initializer = 'uniform', activation='softmax'))\n",
    "    model.add(Dense(units = 11, kernel_initializer = 'uniform', activation = 'softmax'))\n",
    "    model.add(Dense(units = 1, kernel_initializer = 'uniform', activation = 'sigmoid'))\n",
    "    model.compile(optimizer = 'adam', loss = 'binary_crossentropy', metrics = ['accuracy'])\n",
    "    \n",
    "    model.fit(x_train,y_train,validation_data=(x_test,y_test),batch_size = 128,verbose=0,epochs=50)\n",
    "    \n",
    "    pred = model.predict(x_test)\n",
    "    #y_pred = classifier.predict(X_test)\n",
    "    pred = (pred > 0.5)\n",
    "    oos_y.append(y_test)\n",
    "    oos_pred.append(pred)    \n",
    "\n",
    "    # Measure this fold's Accuracy\n",
    "    score = metrics.accuracy_score(pred,y_test)\n",
    "    fold_score.append(score)\n",
    "    print(f\"Fold score (Accuracy): {score}\")\n",
    "# Build the oos prediction list and calculate the error.\n",
    "oos_y = np.concatenate(oos_y)\n",
    "oos_pred = np.concatenate(oos_pred)\n",
    "score = np.mean(metrics.accuracy_score(oos_pred,oos_y))\n",
    "print(f\"Final, out of sample score (Accuracy): {score}\")  \n",
    "Final_Kfoldscore = np.mean(fold_score)  \n",
    "print(\"Accuracy of K-Fold Score: {Final_Kfoldscore}\")\n",
    "    \n",
    "# Write the cross-validated prediction\n",
    "oos_y = pd.DataFrame(oos_y)\n",
    "oos_pred = pd.DataFrame(oos_pred)\n",
    "oosDF = pd.concat( [df, oos_y, oos_pred],axis=1 )"
   ]
  },
  {
   "cell_type": "code",
   "execution_count": null,
   "metadata": {},
   "outputs": [],
   "source": []
  }
 ],
 "metadata": {
  "kernelspec": {
   "display_name": "Python 3",
   "language": "python",
   "name": "python3"
  },
  "language_info": {
   "codemirror_mode": {
    "name": "ipython",
    "version": 3
   },
   "file_extension": ".py",
   "mimetype": "text/x-python",
   "name": "python",
   "nbconvert_exporter": "python",
   "pygments_lexer": "ipython3",
   "version": "3.7.6"
  }
 },
 "nbformat": 4,
 "nbformat_minor": 4
}
