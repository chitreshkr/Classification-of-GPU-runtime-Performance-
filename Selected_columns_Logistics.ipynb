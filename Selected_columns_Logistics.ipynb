{
  "nbformat": 4,
  "nbformat_minor": 0,
  "metadata": {
    "colab": {
      "name": "Selected_columns_Logistics.ipynb",
      "provenance": [],
      "toc_visible": true
    },
    "kernelspec": {
      "name": "python3",
      "display_name": "Python 3"
    }
  },
  "cells": [
    {
      "cell_type": "code",
      "metadata": {
        "id": "ajjrvC4a-Vhy",
        "colab_type": "code",
        "colab": {}
      },
      "source": [
        "import pandas as pd\n",
        "import numpy as np"
      ],
      "execution_count": 0,
      "outputs": []
    },
    {
      "cell_type": "code",
      "metadata": {
        "id": "gQ5RaFim-XkV",
        "colab_type": "code",
        "colab": {}
      },
      "source": [
        "df = pd.read_csv('sgemm_product.csv')"
      ],
      "execution_count": 0,
      "outputs": []
    },
    {
      "cell_type": "code",
      "metadata": {
        "id": "RCkUlxtE-cdp",
        "colab_type": "code",
        "colab": {}
      },
      "source": [
        "df2 = df.assign(RunMean= (df['Run1 (ms)'] + df['Run2 (ms)']  + df['Run3 (ms)']  + df['Run4 (ms)'] )/4)\n",
        "df2 = df2.drop(columns=['Run1 (ms)','Run2 (ms)','Run3 (ms)','Run4 (ms)'])"
      ],
      "execution_count": 0,
      "outputs": []
    },
    {
      "cell_type": "code",
      "metadata": {
        "id": "ekhgQCAx-fRV",
        "colab_type": "code",
        "colab": {}
      },
      "source": [
        "\n",
        "X = df2.iloc[:,:14]\n",
        "y = df2['RunMean']"
      ],
      "execution_count": 0,
      "outputs": []
    },
    {
      "cell_type": "code",
      "metadata": {
        "id": "0TCKhU79-h-v",
        "colab_type": "code",
        "colab": {}
      },
      "source": [
        "from sklearn.preprocessing import StandardScaler\n",
        "X.iloc[:,:10] = StandardScaler().fit_transform(X.iloc[:,:10])"
      ],
      "execution_count": 0,
      "outputs": []
    },
    {
      "cell_type": "code",
      "metadata": {
        "id": "AMQd-sfD-oPb",
        "colab_type": "code",
        "colab": {}
      },
      "source": [
        "from sklearn.model_selection import train_test_split\n",
        "X_train, X_test, y_train, y_test = train_test_split(X, y, test_size=0.3, random_state=42)\n",
        "\n",
        "\n",
        "from sklearn.preprocessing import StandardScaler\n",
        "X.iloc[:,:10] = StandardScaler().fit_transform(X.iloc[:,:10])"
      ],
      "execution_count": 0,
      "outputs": []
    },
    {
      "cell_type": "code",
      "metadata": {
        "id": "8Izyn695-paO",
        "colab_type": "code",
        "colab": {}
      },
      "source": [
        "X_sel = X[['MWG', 'MDIMC', 'MDIMA', 'KWI','VWN', 'STRM', 'STRN', 'SA', 'SB']] \n"
      ],
      "execution_count": 0,
      "outputs": []
    },
    {
      "cell_type": "code",
      "metadata": {
        "id": "gU-LP4p3-38f",
        "colab_type": "code",
        "colab": {}
      },
      "source": [
        "y_mean = y.mean()\n",
        "y_sd = y.std()\n",
        "y = (y-y_mean)/y_sd"
      ],
      "execution_count": 0,
      "outputs": []
    },
    {
      "cell_type": "code",
      "metadata": {
        "id": "vHYWkjas-6ip",
        "colab_type": "code",
        "colab": {}
      },
      "source": [
        "y_train_class = []\n",
        "for i in y_train:\n",
        "    if i > -0.40076444381591425:\n",
        "        x = 1\n",
        "        y_train_class.append(x)\n",
        "    else:\n",
        "        x = 0\n",
        "        y_train_class.append(x)\n",
        "\n",
        "y_test_class = []\n",
        "for i in y_test:\n",
        "    if i > -0.40076444381591425:\n",
        "        x = 1\n",
        "        y_test_class.append(x)\n",
        "    else:\n",
        "        x = 0\n",
        "        y_test_class.append(x)\n",
        "        \n",
        "n_samples, n_features = X_train.shape"
      ],
      "execution_count": 0,
      "outputs": []
    },
    {
      "cell_type": "code",
      "metadata": {
        "id": "vr7a06vB-_tP",
        "colab_type": "code",
        "colab": {}
      },
      "source": [
        "def sigmoid(x):\n",
        "    return 1 / (1 + np.exp(-x))"
      ],
      "execution_count": 0,
      "outputs": []
    },
    {
      "cell_type": "code",
      "metadata": {
        "id": "i7KbrMS__DUe",
        "colab_type": "code",
        "colab": {
          "base_uri": "https://localhost:8080/",
          "height": 50
        },
        "outputId": "90a6b738-7a75-4fdc-c09b-133ebbe73f2b"
      },
      "source": [
        "LOG_LRtrain = {}\n",
        "LOG_LRcost = {}\n",
        "\n",
        "LOG_LRtest = {}\n",
        "dw_l = []\n",
        "for lr in [0.5]:   \n",
        "    weights = np.zeros(n_features)\n",
        "    LOG_LRtrain['LRtrain_%s' % lr] = []\n",
        "    LOG_LRtest['LRtest_%s' % lr] = []\n",
        "    LOG_LRcost['LRcost_%s' % lr] = []\n",
        "    for iteration in range(0,10):\n",
        "        lin_y_train = np.dot(X_train, weights)\n",
        "        y_train_pred = sigmoid(lin_y_train)\n",
        "        dw = (1/n_samples)*np.dot(X_train.T,(y_train_pred-np.asarray(y_train_class)))\n",
        "        dw_l.append(dw.sum())\n",
        "        weights = weights - lr*dw\n",
        "        \n",
        "        lin_y_train = np.dot(X_train, weights) \n",
        "        y_train_pred = sigmoid(lin_y_train)\n",
        "        y_train_pred_class = []\n",
        "        for i in y_train_pred:\n",
        "            if i > 0.40112868791012124:\n",
        "                x=1\n",
        "                y_train_pred_class.append(x)\n",
        "            else:\n",
        "                x=0\n",
        "                y_train_pred_class.append(x)\n",
        "        \n",
        "        accuracy_train = (np.asarray(y_train_pred_class) == np.asarray(y_train_class)).sum() / len(y_train_class)\n",
        "        \n",
        "        lin_y_test = np.dot(X_test, weights) \n",
        "        y_test_pred = sigmoid(lin_y_test)\n",
        "        y_test_pred_class = []\n",
        "        for i in y_test_pred:\n",
        "            if i > 0.40112868791012124:\n",
        "                x=1\n",
        "                y_test_pred_class.append(x)\n",
        "            else:\n",
        "                x=0\n",
        "                y_test_pred_class.append(x)\n",
        "        \n",
        "        accuracy_test = (np.asarray(y_test_pred_class) == np.asarray(y_test_class)).sum() / len(y_test_class)\n",
        "        class1_cost = -np.asarray(y_test_class)*np.log((y_test_pred))\n",
        "        class2_cost = (1-np.asarray(y_test_class))*np.log(1-y_test_pred)\n",
        "        cost = (class1_cost - class2_cost).sum() / len(y_test_class)\n",
        "        \n",
        "        LOG_LRcost['LRcost_%s' % lr].append(cost)\n",
        "   \n",
        "        LOG_LRtest['LRtest_%s' % lr].append(accuracy_test)\n",
        "        LOG_LRtrain['LRtrain_%s' % lr].append(accuracy_train)\n",
        "    print(\"The accuracy of test data is :\",accuracy_test)\n",
        "    print(\"The accuracy of train data is :\",accuracy_train)"
      ],
      "execution_count": 22,
      "outputs": [
        {
          "output_type": "stream",
          "text": [
            "The accuracy of test data is : 0.6984478476821192\n",
            "The accuracy of train data is : 0.7000758830022075\n"
          ],
          "name": "stdout"
        }
      ]
    },
    {
      "cell_type": "code",
      "metadata": {
        "id": "DPoSAicWALSf",
        "colab_type": "code",
        "colab": {}
      },
      "source": [
        ""
      ],
      "execution_count": 0,
      "outputs": []
    }
  ]
}