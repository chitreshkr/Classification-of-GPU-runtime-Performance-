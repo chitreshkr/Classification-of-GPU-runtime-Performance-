{
 "cells": [
  {
   "cell_type": "markdown",
   "metadata": {},
   "source": [
    "# Implementation of Gradient Descent algorithm for Linear Regression"
   ]
  },
  {
   "cell_type": "code",
   "execution_count": 1,
   "metadata": {},
   "outputs": [],
   "source": [
    "import numpy as np\n",
    "import pandas as pd"
   ]
  },
  {
   "cell_type": "markdown",
   "metadata": {},
   "source": [
    "### Importing the dataset"
   ]
  },
  {
   "cell_type": "code",
   "execution_count": 2,
   "metadata": {},
   "outputs": [],
   "source": [
    "data = pd.read_csv('sgemm_product.csv')"
   ]
  },
  {
   "cell_type": "code",
   "execution_count": 3,
   "metadata": {},
   "outputs": [
    {
     "data": {
      "text/html": [
       "<div>\n",
       "<style scoped>\n",
       "    .dataframe tbody tr th:only-of-type {\n",
       "        vertical-align: middle;\n",
       "    }\n",
       "\n",
       "    .dataframe tbody tr th {\n",
       "        vertical-align: top;\n",
       "    }\n",
       "\n",
       "    .dataframe thead th {\n",
       "        text-align: right;\n",
       "    }\n",
       "</style>\n",
       "<table border=\"1\" class=\"dataframe\">\n",
       "  <thead>\n",
       "    <tr style=\"text-align: right;\">\n",
       "      <th></th>\n",
       "      <th>MWG</th>\n",
       "      <th>NWG</th>\n",
       "      <th>KWG</th>\n",
       "      <th>MDIMC</th>\n",
       "      <th>NDIMC</th>\n",
       "      <th>MDIMA</th>\n",
       "      <th>NDIMB</th>\n",
       "      <th>KWI</th>\n",
       "      <th>VWM</th>\n",
       "      <th>VWN</th>\n",
       "      <th>STRM</th>\n",
       "      <th>STRN</th>\n",
       "      <th>SA</th>\n",
       "      <th>SB</th>\n",
       "      <th>Run1 (ms)</th>\n",
       "      <th>Run2 (ms)</th>\n",
       "      <th>Run3 (ms)</th>\n",
       "      <th>Run4 (ms)</th>\n",
       "    </tr>\n",
       "  </thead>\n",
       "  <tbody>\n",
       "    <tr>\n",
       "      <th>0</th>\n",
       "      <td>16</td>\n",
       "      <td>16</td>\n",
       "      <td>16</td>\n",
       "      <td>8</td>\n",
       "      <td>8</td>\n",
       "      <td>8</td>\n",
       "      <td>8</td>\n",
       "      <td>2</td>\n",
       "      <td>1</td>\n",
       "      <td>1</td>\n",
       "      <td>0</td>\n",
       "      <td>0</td>\n",
       "      <td>0</td>\n",
       "      <td>0</td>\n",
       "      <td>115.26</td>\n",
       "      <td>115.87</td>\n",
       "      <td>118.55</td>\n",
       "      <td>115.80</td>\n",
       "    </tr>\n",
       "    <tr>\n",
       "      <th>1</th>\n",
       "      <td>16</td>\n",
       "      <td>16</td>\n",
       "      <td>16</td>\n",
       "      <td>8</td>\n",
       "      <td>8</td>\n",
       "      <td>8</td>\n",
       "      <td>8</td>\n",
       "      <td>2</td>\n",
       "      <td>1</td>\n",
       "      <td>1</td>\n",
       "      <td>0</td>\n",
       "      <td>0</td>\n",
       "      <td>0</td>\n",
       "      <td>1</td>\n",
       "      <td>78.13</td>\n",
       "      <td>78.25</td>\n",
       "      <td>79.25</td>\n",
       "      <td>79.19</td>\n",
       "    </tr>\n",
       "    <tr>\n",
       "      <th>2</th>\n",
       "      <td>16</td>\n",
       "      <td>16</td>\n",
       "      <td>16</td>\n",
       "      <td>8</td>\n",
       "      <td>8</td>\n",
       "      <td>8</td>\n",
       "      <td>8</td>\n",
       "      <td>2</td>\n",
       "      <td>1</td>\n",
       "      <td>1</td>\n",
       "      <td>0</td>\n",
       "      <td>0</td>\n",
       "      <td>1</td>\n",
       "      <td>0</td>\n",
       "      <td>79.84</td>\n",
       "      <td>80.69</td>\n",
       "      <td>80.76</td>\n",
       "      <td>80.97</td>\n",
       "    </tr>\n",
       "    <tr>\n",
       "      <th>3</th>\n",
       "      <td>16</td>\n",
       "      <td>16</td>\n",
       "      <td>16</td>\n",
       "      <td>8</td>\n",
       "      <td>8</td>\n",
       "      <td>8</td>\n",
       "      <td>8</td>\n",
       "      <td>2</td>\n",
       "      <td>1</td>\n",
       "      <td>1</td>\n",
       "      <td>0</td>\n",
       "      <td>0</td>\n",
       "      <td>1</td>\n",
       "      <td>1</td>\n",
       "      <td>84.32</td>\n",
       "      <td>89.90</td>\n",
       "      <td>86.75</td>\n",
       "      <td>85.58</td>\n",
       "    </tr>\n",
       "    <tr>\n",
       "      <th>4</th>\n",
       "      <td>16</td>\n",
       "      <td>16</td>\n",
       "      <td>16</td>\n",
       "      <td>8</td>\n",
       "      <td>8</td>\n",
       "      <td>8</td>\n",
       "      <td>8</td>\n",
       "      <td>2</td>\n",
       "      <td>1</td>\n",
       "      <td>1</td>\n",
       "      <td>0</td>\n",
       "      <td>1</td>\n",
       "      <td>0</td>\n",
       "      <td>0</td>\n",
       "      <td>115.13</td>\n",
       "      <td>121.98</td>\n",
       "      <td>122.73</td>\n",
       "      <td>114.81</td>\n",
       "    </tr>\n",
       "  </tbody>\n",
       "</table>\n",
       "</div>"
      ],
      "text/plain": [
       "   MWG  NWG  KWG  MDIMC  NDIMC  MDIMA  NDIMB  KWI  VWM  VWN  STRM  STRN  SA  \\\n",
       "0   16   16   16      8      8      8      8    2    1    1     0     0   0   \n",
       "1   16   16   16      8      8      8      8    2    1    1     0     0   0   \n",
       "2   16   16   16      8      8      8      8    2    1    1     0     0   1   \n",
       "3   16   16   16      8      8      8      8    2    1    1     0     0   1   \n",
       "4   16   16   16      8      8      8      8    2    1    1     0     1   0   \n",
       "\n",
       "   SB  Run1 (ms)  Run2 (ms)  Run3 (ms)  Run4 (ms)  \n",
       "0   0     115.26     115.87     118.55     115.80  \n",
       "1   1      78.13      78.25      79.25      79.19  \n",
       "2   0      79.84      80.69      80.76      80.97  \n",
       "3   1      84.32      89.90      86.75      85.58  \n",
       "4   0     115.13     121.98     122.73     114.81  "
      ]
     },
     "execution_count": 3,
     "metadata": {},
     "output_type": "execute_result"
    }
   ],
   "source": [
    "data.head()"
   ]
  },
  {
   "cell_type": "code",
   "execution_count": 4,
   "metadata": {},
   "outputs": [],
   "source": [
    "data['Run'] = (data['Run1 (ms)'] + data['Run2 (ms)'] + data['Run3 (ms)'] + data['Run4 (ms)'] )/4"
   ]
  },
  {
   "cell_type": "code",
   "execution_count": 5,
   "metadata": {},
   "outputs": [
    {
     "data": {
      "text/html": [
       "<div>\n",
       "<style scoped>\n",
       "    .dataframe tbody tr th:only-of-type {\n",
       "        vertical-align: middle;\n",
       "    }\n",
       "\n",
       "    .dataframe tbody tr th {\n",
       "        vertical-align: top;\n",
       "    }\n",
       "\n",
       "    .dataframe thead th {\n",
       "        text-align: right;\n",
       "    }\n",
       "</style>\n",
       "<table border=\"1\" class=\"dataframe\">\n",
       "  <thead>\n",
       "    <tr style=\"text-align: right;\">\n",
       "      <th></th>\n",
       "      <th>MWG</th>\n",
       "      <th>NWG</th>\n",
       "      <th>KWG</th>\n",
       "      <th>MDIMC</th>\n",
       "      <th>NDIMC</th>\n",
       "      <th>MDIMA</th>\n",
       "      <th>NDIMB</th>\n",
       "      <th>KWI</th>\n",
       "      <th>VWM</th>\n",
       "      <th>VWN</th>\n",
       "      <th>STRM</th>\n",
       "      <th>STRN</th>\n",
       "      <th>SA</th>\n",
       "      <th>SB</th>\n",
       "      <th>Run1 (ms)</th>\n",
       "      <th>Run2 (ms)</th>\n",
       "      <th>Run3 (ms)</th>\n",
       "      <th>Run4 (ms)</th>\n",
       "      <th>Run</th>\n",
       "    </tr>\n",
       "  </thead>\n",
       "  <tbody>\n",
       "    <tr>\n",
       "      <th>0</th>\n",
       "      <td>16</td>\n",
       "      <td>16</td>\n",
       "      <td>16</td>\n",
       "      <td>8</td>\n",
       "      <td>8</td>\n",
       "      <td>8</td>\n",
       "      <td>8</td>\n",
       "      <td>2</td>\n",
       "      <td>1</td>\n",
       "      <td>1</td>\n",
       "      <td>0</td>\n",
       "      <td>0</td>\n",
       "      <td>0</td>\n",
       "      <td>0</td>\n",
       "      <td>115.26</td>\n",
       "      <td>115.87</td>\n",
       "      <td>118.55</td>\n",
       "      <td>115.80</td>\n",
       "      <td>116.3700</td>\n",
       "    </tr>\n",
       "    <tr>\n",
       "      <th>1</th>\n",
       "      <td>16</td>\n",
       "      <td>16</td>\n",
       "      <td>16</td>\n",
       "      <td>8</td>\n",
       "      <td>8</td>\n",
       "      <td>8</td>\n",
       "      <td>8</td>\n",
       "      <td>2</td>\n",
       "      <td>1</td>\n",
       "      <td>1</td>\n",
       "      <td>0</td>\n",
       "      <td>0</td>\n",
       "      <td>0</td>\n",
       "      <td>1</td>\n",
       "      <td>78.13</td>\n",
       "      <td>78.25</td>\n",
       "      <td>79.25</td>\n",
       "      <td>79.19</td>\n",
       "      <td>78.7050</td>\n",
       "    </tr>\n",
       "    <tr>\n",
       "      <th>2</th>\n",
       "      <td>16</td>\n",
       "      <td>16</td>\n",
       "      <td>16</td>\n",
       "      <td>8</td>\n",
       "      <td>8</td>\n",
       "      <td>8</td>\n",
       "      <td>8</td>\n",
       "      <td>2</td>\n",
       "      <td>1</td>\n",
       "      <td>1</td>\n",
       "      <td>0</td>\n",
       "      <td>0</td>\n",
       "      <td>1</td>\n",
       "      <td>0</td>\n",
       "      <td>79.84</td>\n",
       "      <td>80.69</td>\n",
       "      <td>80.76</td>\n",
       "      <td>80.97</td>\n",
       "      <td>80.5650</td>\n",
       "    </tr>\n",
       "    <tr>\n",
       "      <th>3</th>\n",
       "      <td>16</td>\n",
       "      <td>16</td>\n",
       "      <td>16</td>\n",
       "      <td>8</td>\n",
       "      <td>8</td>\n",
       "      <td>8</td>\n",
       "      <td>8</td>\n",
       "      <td>2</td>\n",
       "      <td>1</td>\n",
       "      <td>1</td>\n",
       "      <td>0</td>\n",
       "      <td>0</td>\n",
       "      <td>1</td>\n",
       "      <td>1</td>\n",
       "      <td>84.32</td>\n",
       "      <td>89.90</td>\n",
       "      <td>86.75</td>\n",
       "      <td>85.58</td>\n",
       "      <td>86.6375</td>\n",
       "    </tr>\n",
       "    <tr>\n",
       "      <th>4</th>\n",
       "      <td>16</td>\n",
       "      <td>16</td>\n",
       "      <td>16</td>\n",
       "      <td>8</td>\n",
       "      <td>8</td>\n",
       "      <td>8</td>\n",
       "      <td>8</td>\n",
       "      <td>2</td>\n",
       "      <td>1</td>\n",
       "      <td>1</td>\n",
       "      <td>0</td>\n",
       "      <td>1</td>\n",
       "      <td>0</td>\n",
       "      <td>0</td>\n",
       "      <td>115.13</td>\n",
       "      <td>121.98</td>\n",
       "      <td>122.73</td>\n",
       "      <td>114.81</td>\n",
       "      <td>118.6625</td>\n",
       "    </tr>\n",
       "  </tbody>\n",
       "</table>\n",
       "</div>"
      ],
      "text/plain": [
       "   MWG  NWG  KWG  MDIMC  NDIMC  MDIMA  NDIMB  KWI  VWM  VWN  STRM  STRN  SA  \\\n",
       "0   16   16   16      8      8      8      8    2    1    1     0     0   0   \n",
       "1   16   16   16      8      8      8      8    2    1    1     0     0   0   \n",
       "2   16   16   16      8      8      8      8    2    1    1     0     0   1   \n",
       "3   16   16   16      8      8      8      8    2    1    1     0     0   1   \n",
       "4   16   16   16      8      8      8      8    2    1    1     0     1   0   \n",
       "\n",
       "   SB  Run1 (ms)  Run2 (ms)  Run3 (ms)  Run4 (ms)       Run  \n",
       "0   0     115.26     115.87     118.55     115.80  116.3700  \n",
       "1   1      78.13      78.25      79.25      79.19   78.7050  \n",
       "2   0      79.84      80.69      80.76      80.97   80.5650  \n",
       "3   1      84.32      89.90      86.75      85.58   86.6375  \n",
       "4   0     115.13     121.98     122.73     114.81  118.6625  "
      ]
     },
     "execution_count": 5,
     "metadata": {},
     "output_type": "execute_result"
    }
   ],
   "source": [
    "data.head()"
   ]
  },
  {
   "cell_type": "code",
   "execution_count": 6,
   "metadata": {},
   "outputs": [
    {
     "data": {
      "text/html": [
       "<div>\n",
       "<style scoped>\n",
       "    .dataframe tbody tr th:only-of-type {\n",
       "        vertical-align: middle;\n",
       "    }\n",
       "\n",
       "    .dataframe tbody tr th {\n",
       "        vertical-align: top;\n",
       "    }\n",
       "\n",
       "    .dataframe thead th {\n",
       "        text-align: right;\n",
       "    }\n",
       "</style>\n",
       "<table border=\"1\" class=\"dataframe\">\n",
       "  <thead>\n",
       "    <tr style=\"text-align: right;\">\n",
       "      <th></th>\n",
       "      <th>MWG</th>\n",
       "      <th>NWG</th>\n",
       "      <th>KWG</th>\n",
       "      <th>MDIMC</th>\n",
       "      <th>NDIMC</th>\n",
       "      <th>MDIMA</th>\n",
       "      <th>NDIMB</th>\n",
       "      <th>KWI</th>\n",
       "      <th>VWM</th>\n",
       "      <th>VWN</th>\n",
       "      <th>STRM</th>\n",
       "      <th>STRN</th>\n",
       "      <th>SA</th>\n",
       "      <th>SB</th>\n",
       "      <th>Run</th>\n",
       "    </tr>\n",
       "  </thead>\n",
       "  <tbody>\n",
       "    <tr>\n",
       "      <th>0</th>\n",
       "      <td>16</td>\n",
       "      <td>16</td>\n",
       "      <td>16</td>\n",
       "      <td>8</td>\n",
       "      <td>8</td>\n",
       "      <td>8</td>\n",
       "      <td>8</td>\n",
       "      <td>2</td>\n",
       "      <td>1</td>\n",
       "      <td>1</td>\n",
       "      <td>0</td>\n",
       "      <td>0</td>\n",
       "      <td>0</td>\n",
       "      <td>0</td>\n",
       "      <td>116.3700</td>\n",
       "    </tr>\n",
       "    <tr>\n",
       "      <th>1</th>\n",
       "      <td>16</td>\n",
       "      <td>16</td>\n",
       "      <td>16</td>\n",
       "      <td>8</td>\n",
       "      <td>8</td>\n",
       "      <td>8</td>\n",
       "      <td>8</td>\n",
       "      <td>2</td>\n",
       "      <td>1</td>\n",
       "      <td>1</td>\n",
       "      <td>0</td>\n",
       "      <td>0</td>\n",
       "      <td>0</td>\n",
       "      <td>1</td>\n",
       "      <td>78.7050</td>\n",
       "    </tr>\n",
       "    <tr>\n",
       "      <th>2</th>\n",
       "      <td>16</td>\n",
       "      <td>16</td>\n",
       "      <td>16</td>\n",
       "      <td>8</td>\n",
       "      <td>8</td>\n",
       "      <td>8</td>\n",
       "      <td>8</td>\n",
       "      <td>2</td>\n",
       "      <td>1</td>\n",
       "      <td>1</td>\n",
       "      <td>0</td>\n",
       "      <td>0</td>\n",
       "      <td>1</td>\n",
       "      <td>0</td>\n",
       "      <td>80.5650</td>\n",
       "    </tr>\n",
       "    <tr>\n",
       "      <th>3</th>\n",
       "      <td>16</td>\n",
       "      <td>16</td>\n",
       "      <td>16</td>\n",
       "      <td>8</td>\n",
       "      <td>8</td>\n",
       "      <td>8</td>\n",
       "      <td>8</td>\n",
       "      <td>2</td>\n",
       "      <td>1</td>\n",
       "      <td>1</td>\n",
       "      <td>0</td>\n",
       "      <td>0</td>\n",
       "      <td>1</td>\n",
       "      <td>1</td>\n",
       "      <td>86.6375</td>\n",
       "    </tr>\n",
       "    <tr>\n",
       "      <th>4</th>\n",
       "      <td>16</td>\n",
       "      <td>16</td>\n",
       "      <td>16</td>\n",
       "      <td>8</td>\n",
       "      <td>8</td>\n",
       "      <td>8</td>\n",
       "      <td>8</td>\n",
       "      <td>2</td>\n",
       "      <td>1</td>\n",
       "      <td>1</td>\n",
       "      <td>0</td>\n",
       "      <td>1</td>\n",
       "      <td>0</td>\n",
       "      <td>0</td>\n",
       "      <td>118.6625</td>\n",
       "    </tr>\n",
       "  </tbody>\n",
       "</table>\n",
       "</div>"
      ],
      "text/plain": [
       "   MWG  NWG  KWG  MDIMC  NDIMC  MDIMA  NDIMB  KWI  VWM  VWN  STRM  STRN  SA  \\\n",
       "0   16   16   16      8      8      8      8    2    1    1     0     0   0   \n",
       "1   16   16   16      8      8      8      8    2    1    1     0     0   0   \n",
       "2   16   16   16      8      8      8      8    2    1    1     0     0   1   \n",
       "3   16   16   16      8      8      8      8    2    1    1     0     0   1   \n",
       "4   16   16   16      8      8      8      8    2    1    1     0     1   0   \n",
       "\n",
       "   SB       Run  \n",
       "0   0  116.3700  \n",
       "1   1   78.7050  \n",
       "2   0   80.5650  \n",
       "3   1   86.6375  \n",
       "4   0  118.6625  "
      ]
     },
     "execution_count": 6,
     "metadata": {},
     "output_type": "execute_result"
    }
   ],
   "source": [
    "data = data.drop(['Run1 (ms)','Run2 (ms)','Run3 (ms)','Run4 (ms)'],axis=1)\n",
    "data.head()"
   ]
  },
  {
   "cell_type": "markdown",
   "metadata": {},
   "source": [
    "### Preprocessing the dataset"
   ]
  },
  {
   "cell_type": "markdown",
   "metadata": {},
   "source": [
    "#### Taking features and target variables"
   ]
  },
  {
   "cell_type": "markdown",
   "metadata": {},
   "source": [
    "# Random selection of column"
   ]
  },
  {
   "cell_type": "code",
   "execution_count": 7,
   "metadata": {},
   "outputs": [
    {
     "name": "stdout",
     "output_type": "stream",
     "text": [
      "[3, 11, 10, 9, 2, 5, 0, 13]\n"
     ]
    }
   ],
   "source": [
    "import random\n",
    "test_list = [0,1,2,3,4,5,6,7,8,9,10,11,12,13]\n",
    "random_num = random.choice(test_list)\n",
    "variables = []\n",
    "for i in range(8):\n",
    "    random_num = random.choice(test_list)\n",
    "    variables.append(random_num)\n",
    "    test_list.remove(random_num)\n",
    "print(variables)"
   ]
  },
  {
   "cell_type": "code",
   "execution_count": 8,
   "metadata": {},
   "outputs": [
    {
     "data": {
      "text/plain": [
       "Index(['MWG', 'NWG', 'KWG', 'MDIMC', 'NDIMC', 'MDIMA', 'NDIMB', 'KWI', 'VWM',\n",
       "       'VWN', 'STRM', 'STRN', 'SA', 'SB', 'Run'],\n",
       "      dtype='object')"
      ]
     },
     "execution_count": 8,
     "metadata": {},
     "output_type": "execute_result"
    }
   ],
   "source": [
    "data.columns"
   ]
  },
  {
   "cell_type": "code",
   "execution_count": 9,
   "metadata": {},
   "outputs": [
    {
     "data": {
      "text/html": [
       "<div>\n",
       "<style scoped>\n",
       "    .dataframe tbody tr th:only-of-type {\n",
       "        vertical-align: middle;\n",
       "    }\n",
       "\n",
       "    .dataframe tbody tr th {\n",
       "        vertical-align: top;\n",
       "    }\n",
       "\n",
       "    .dataframe thead th {\n",
       "        text-align: right;\n",
       "    }\n",
       "</style>\n",
       "<table border=\"1\" class=\"dataframe\">\n",
       "  <thead>\n",
       "    <tr style=\"text-align: right;\">\n",
       "      <th></th>\n",
       "      <th>MWG</th>\n",
       "      <th>KWG</th>\n",
       "      <th>NDIMC</th>\n",
       "      <th>KWI</th>\n",
       "      <th>VWM</th>\n",
       "      <th>VWN</th>\n",
       "      <th>SA</th>\n",
       "      <th>SB</th>\n",
       "    </tr>\n",
       "  </thead>\n",
       "  <tbody>\n",
       "    <tr>\n",
       "      <th>0</th>\n",
       "      <td>16</td>\n",
       "      <td>16</td>\n",
       "      <td>8</td>\n",
       "      <td>2</td>\n",
       "      <td>1</td>\n",
       "      <td>1</td>\n",
       "      <td>0</td>\n",
       "      <td>0</td>\n",
       "    </tr>\n",
       "    <tr>\n",
       "      <th>1</th>\n",
       "      <td>16</td>\n",
       "      <td>16</td>\n",
       "      <td>8</td>\n",
       "      <td>2</td>\n",
       "      <td>1</td>\n",
       "      <td>1</td>\n",
       "      <td>0</td>\n",
       "      <td>1</td>\n",
       "    </tr>\n",
       "    <tr>\n",
       "      <th>2</th>\n",
       "      <td>16</td>\n",
       "      <td>16</td>\n",
       "      <td>8</td>\n",
       "      <td>2</td>\n",
       "      <td>1</td>\n",
       "      <td>1</td>\n",
       "      <td>1</td>\n",
       "      <td>0</td>\n",
       "    </tr>\n",
       "    <tr>\n",
       "      <th>3</th>\n",
       "      <td>16</td>\n",
       "      <td>16</td>\n",
       "      <td>8</td>\n",
       "      <td>2</td>\n",
       "      <td>1</td>\n",
       "      <td>1</td>\n",
       "      <td>1</td>\n",
       "      <td>1</td>\n",
       "    </tr>\n",
       "    <tr>\n",
       "      <th>4</th>\n",
       "      <td>16</td>\n",
       "      <td>16</td>\n",
       "      <td>8</td>\n",
       "      <td>2</td>\n",
       "      <td>1</td>\n",
       "      <td>1</td>\n",
       "      <td>0</td>\n",
       "      <td>0</td>\n",
       "    </tr>\n",
       "    <tr>\n",
       "      <th>...</th>\n",
       "      <td>...</td>\n",
       "      <td>...</td>\n",
       "      <td>...</td>\n",
       "      <td>...</td>\n",
       "      <td>...</td>\n",
       "      <td>...</td>\n",
       "      <td>...</td>\n",
       "      <td>...</td>\n",
       "    </tr>\n",
       "    <tr>\n",
       "      <th>241595</th>\n",
       "      <td>128</td>\n",
       "      <td>32</td>\n",
       "      <td>32</td>\n",
       "      <td>8</td>\n",
       "      <td>4</td>\n",
       "      <td>4</td>\n",
       "      <td>1</td>\n",
       "      <td>1</td>\n",
       "    </tr>\n",
       "    <tr>\n",
       "      <th>241596</th>\n",
       "      <td>128</td>\n",
       "      <td>32</td>\n",
       "      <td>32</td>\n",
       "      <td>8</td>\n",
       "      <td>4</td>\n",
       "      <td>4</td>\n",
       "      <td>0</td>\n",
       "      <td>0</td>\n",
       "    </tr>\n",
       "    <tr>\n",
       "      <th>241597</th>\n",
       "      <td>128</td>\n",
       "      <td>32</td>\n",
       "      <td>32</td>\n",
       "      <td>8</td>\n",
       "      <td>4</td>\n",
       "      <td>4</td>\n",
       "      <td>0</td>\n",
       "      <td>1</td>\n",
       "    </tr>\n",
       "    <tr>\n",
       "      <th>241598</th>\n",
       "      <td>128</td>\n",
       "      <td>32</td>\n",
       "      <td>32</td>\n",
       "      <td>8</td>\n",
       "      <td>4</td>\n",
       "      <td>4</td>\n",
       "      <td>1</td>\n",
       "      <td>0</td>\n",
       "    </tr>\n",
       "    <tr>\n",
       "      <th>241599</th>\n",
       "      <td>128</td>\n",
       "      <td>32</td>\n",
       "      <td>32</td>\n",
       "      <td>8</td>\n",
       "      <td>4</td>\n",
       "      <td>4</td>\n",
       "      <td>1</td>\n",
       "      <td>1</td>\n",
       "    </tr>\n",
       "  </tbody>\n",
       "</table>\n",
       "<p>241600 rows × 8 columns</p>\n",
       "</div>"
      ],
      "text/plain": [
       "        MWG  KWG  NDIMC  KWI  VWM  VWN  SA  SB\n",
       "0        16   16      8    2    1    1   0   0\n",
       "1        16   16      8    2    1    1   0   1\n",
       "2        16   16      8    2    1    1   1   0\n",
       "3        16   16      8    2    1    1   1   1\n",
       "4        16   16      8    2    1    1   0   0\n",
       "...     ...  ...    ...  ...  ...  ...  ..  ..\n",
       "241595  128   32     32    8    4    4   1   1\n",
       "241596  128   32     32    8    4    4   0   0\n",
       "241597  128   32     32    8    4    4   0   1\n",
       "241598  128   32     32    8    4    4   1   0\n",
       "241599  128   32     32    8    4    4   1   1\n",
       "\n",
       "[241600 rows x 8 columns]"
      ]
     },
     "execution_count": 9,
     "metadata": {},
     "output_type": "execute_result"
    }
   ],
   "source": [
    "col_random = ['MWG', 'KWG', 'NDIMC', 'KWI', 'VWM','VWN', 'SA', 'SB']\n",
    "X_random = data[col_random]\n",
    "X_random"
   ]
  },
  {
   "cell_type": "markdown",
   "metadata": {},
   "source": [
    "# Select the column"
   ]
  },
  {
   "cell_type": "code",
   "execution_count": 10,
   "metadata": {},
   "outputs": [
    {
     "data": {
      "text/plain": [
       "241600"
      ]
     },
     "execution_count": 10,
     "metadata": {},
     "output_type": "execute_result"
    }
   ],
   "source": [
    "columns = ['MWG', 'MDIMC', 'MDIMA', 'KWI','VWN', 'STRM', 'STRN', 'SA', 'SB']\n",
    "X = data[columns]\n",
    "X.shape[0]"
   ]
  },
  {
   "cell_type": "code",
   "execution_count": 11,
   "metadata": {},
   "outputs": [
    {
     "data": {
      "text/html": [
       "<div>\n",
       "<style scoped>\n",
       "    .dataframe tbody tr th:only-of-type {\n",
       "        vertical-align: middle;\n",
       "    }\n",
       "\n",
       "    .dataframe tbody tr th {\n",
       "        vertical-align: top;\n",
       "    }\n",
       "\n",
       "    .dataframe thead th {\n",
       "        text-align: right;\n",
       "    }\n",
       "</style>\n",
       "<table border=\"1\" class=\"dataframe\">\n",
       "  <thead>\n",
       "    <tr style=\"text-align: right;\">\n",
       "      <th></th>\n",
       "      <th>MWG</th>\n",
       "      <th>MDIMC</th>\n",
       "      <th>MDIMA</th>\n",
       "      <th>KWI</th>\n",
       "      <th>VWN</th>\n",
       "      <th>STRM</th>\n",
       "      <th>STRN</th>\n",
       "      <th>SA</th>\n",
       "      <th>SB</th>\n",
       "    </tr>\n",
       "  </thead>\n",
       "  <tbody>\n",
       "    <tr>\n",
       "      <th>0</th>\n",
       "      <td>16</td>\n",
       "      <td>8</td>\n",
       "      <td>8</td>\n",
       "      <td>2</td>\n",
       "      <td>1</td>\n",
       "      <td>0</td>\n",
       "      <td>0</td>\n",
       "      <td>0</td>\n",
       "      <td>0</td>\n",
       "    </tr>\n",
       "    <tr>\n",
       "      <th>1</th>\n",
       "      <td>16</td>\n",
       "      <td>8</td>\n",
       "      <td>8</td>\n",
       "      <td>2</td>\n",
       "      <td>1</td>\n",
       "      <td>0</td>\n",
       "      <td>0</td>\n",
       "      <td>0</td>\n",
       "      <td>1</td>\n",
       "    </tr>\n",
       "    <tr>\n",
       "      <th>2</th>\n",
       "      <td>16</td>\n",
       "      <td>8</td>\n",
       "      <td>8</td>\n",
       "      <td>2</td>\n",
       "      <td>1</td>\n",
       "      <td>0</td>\n",
       "      <td>0</td>\n",
       "      <td>1</td>\n",
       "      <td>0</td>\n",
       "    </tr>\n",
       "    <tr>\n",
       "      <th>3</th>\n",
       "      <td>16</td>\n",
       "      <td>8</td>\n",
       "      <td>8</td>\n",
       "      <td>2</td>\n",
       "      <td>1</td>\n",
       "      <td>0</td>\n",
       "      <td>0</td>\n",
       "      <td>1</td>\n",
       "      <td>1</td>\n",
       "    </tr>\n",
       "    <tr>\n",
       "      <th>4</th>\n",
       "      <td>16</td>\n",
       "      <td>8</td>\n",
       "      <td>8</td>\n",
       "      <td>2</td>\n",
       "      <td>1</td>\n",
       "      <td>0</td>\n",
       "      <td>1</td>\n",
       "      <td>0</td>\n",
       "      <td>0</td>\n",
       "    </tr>\n",
       "  </tbody>\n",
       "</table>\n",
       "</div>"
      ],
      "text/plain": [
       "   MWG  MDIMC  MDIMA  KWI  VWN  STRM  STRN  SA  SB\n",
       "0   16      8      8    2    1     0     0   0   0\n",
       "1   16      8      8    2    1     0     0   0   1\n",
       "2   16      8      8    2    1     0     0   1   0\n",
       "3   16      8      8    2    1     0     0   1   1\n",
       "4   16      8      8    2    1     0     1   0   0"
      ]
     },
     "execution_count": 11,
     "metadata": {},
     "output_type": "execute_result"
    }
   ],
   "source": [
    "X.head()"
   ]
  },
  {
   "cell_type": "code",
   "execution_count": 12,
   "metadata": {},
   "outputs": [
    {
     "name": "stdout",
     "output_type": "stream",
     "text": [
      "241600\n"
     ]
    }
   ],
   "source": [
    "Y = data.iloc[:,-1].values\n",
    "y = np.log(Y)\n",
    "print(y.shape[0])"
   ]
  },
  {
   "cell_type": "markdown",
   "metadata": {},
   "source": [
    "#### Feature Scaling"
   ]
  },
  {
   "cell_type": "code",
   "execution_count": 13,
   "metadata": {},
   "outputs": [
    {
     "data": {
      "text/plain": [
       "array([[0., 0., 0., ..., 0., 0., 0.],\n",
       "       [0., 0., 0., ..., 0., 0., 1.],\n",
       "       [0., 0., 0., ..., 0., 1., 0.],\n",
       "       ...,\n",
       "       [1., 1., 1., ..., 1., 0., 1.],\n",
       "       [1., 1., 1., ..., 1., 1., 0.],\n",
       "       [1., 1., 1., ..., 1., 1., 1.]])"
      ]
     },
     "execution_count": 13,
     "metadata": {},
     "output_type": "execute_result"
    }
   ],
   "source": [
    "from sklearn.preprocessing import MinMaxScaler\n",
    "\n",
    "sc = MinMaxScaler()\n",
    "\n",
    "X = sc.fit_transform(X)\n",
    "X"
   ]
  },
  {
   "cell_type": "code",
   "execution_count": 14,
   "metadata": {},
   "outputs": [
    {
     "data": {
      "text/plain": [
       "array([[0.        , 0.        , 0.        , ..., 0.        , 0.        ,\n",
       "        0.        ],\n",
       "       [0.        , 0.        , 0.        , ..., 0.        , 0.        ,\n",
       "        1.        ],\n",
       "       [0.        , 0.        , 0.        , ..., 0.        , 1.        ,\n",
       "        0.        ],\n",
       "       ...,\n",
       "       [1.        , 1.        , 1.        , ..., 0.42857143, 0.        ,\n",
       "        1.        ],\n",
       "       [1.        , 1.        , 1.        , ..., 0.42857143, 1.        ,\n",
       "        0.        ],\n",
       "       [1.        , 1.        , 1.        , ..., 0.42857143, 1.        ,\n",
       "        1.        ]])"
      ]
     },
     "execution_count": 14,
     "metadata": {},
     "output_type": "execute_result"
    }
   ],
   "source": [
    "X_random = sc.fit_transform(X_random)\n",
    "X_random"
   ]
  },
  {
   "cell_type": "code",
   "execution_count": 15,
   "metadata": {},
   "outputs": [
    {
     "data": {
      "text/plain": [
       "array([0.57513718, 0.24732892, 0.39046358, 0.5       , 0.20694418,\n",
       "       0.5       , 0.5       , 0.5       , 0.5       ])"
      ]
     },
     "execution_count": 15,
     "metadata": {},
     "output_type": "execute_result"
    }
   ],
   "source": [
    "np.mean(X, axis = 0)"
   ]
  },
  {
   "cell_type": "code",
   "execution_count": 16,
   "metadata": {},
   "outputs": [
    {
     "data": {
      "text/plain": [
       "array([0.37918868, 0.32806858, 0.39122495, 0.5       , 0.27910792,\n",
       "       0.5       , 0.5       , 0.5       , 0.5       ])"
      ]
     },
     "execution_count": 16,
     "metadata": {},
     "output_type": "execute_result"
    }
   ],
   "source": [
    "np.std(X, axis = 0)"
   ]
  },
  {
   "cell_type": "markdown",
   "metadata": {},
   "source": [
    "#### Train-test split of the dataset"
   ]
  },
  {
   "cell_type": "code",
   "execution_count": 17,
   "metadata": {},
   "outputs": [],
   "source": [
    "from sklearn.model_selection import train_test_split\n",
    "\n",
    "X_train, X_test, y_train, y_test = train_test_split(X, y, test_size = 0.3, shuffle = True, \n",
    "                                                    random_state = 40)\n",
    "X_rand_train, X_rand_test, y_rand_train, y_rand_test = train_test_split(X_random, y, test_size = 0.3, shuffle = True, \n",
    "                                                    random_state = 40)\n"
   ]
  },
  {
   "cell_type": "code",
   "execution_count": 18,
   "metadata": {},
   "outputs": [
    {
     "name": "stdout",
     "output_type": "stream",
     "text": [
      "169120 169120 72480 72480\n"
     ]
    }
   ],
   "source": [
    "print(X_train.shape[0], y_train.shape[0], X_test.shape[0], y_test.shape[0]) #printing number of rows"
   ]
  },
  {
   "cell_type": "code",
   "execution_count": 19,
   "metadata": {},
   "outputs": [
    {
     "name": "stdout",
     "output_type": "stream",
     "text": [
      "169120 169120 72480 72480\n"
     ]
    }
   ],
   "source": [
    "print(X_rand_train.shape[0], y_rand_train.shape[0], X_rand_test.shape[0], y_rand_test.shape[0]) #printing number of rowsprint(X_rand_train.shape[0], y_train.shape[0], X_test.shape[0], y_test.shape[0]) #printing number of rows"
   ]
  },
  {
   "cell_type": "markdown",
   "metadata": {},
   "source": [
    "### Implementing the cost-function"
   ]
  },
  {
   "cell_type": "markdown",
   "metadata": {},
   "source": [
    "#### Equation of the cost function for linear regression (Mean Square Error Cost function)"
   ]
  },
  {
   "cell_type": "code",
   "execution_count": 20,
   "metadata": {},
   "outputs": [],
   "source": [
    "#Cost function\n",
    "def mse_cost(y_true, y_pred):\n",
    "    \n",
    "    assert (y_true.shape[0] == y_pred.shape[0]),\"Dimension Mismatch\"\n",
    "    \n",
    "    m = y_true.shape[0]\n",
    "    J = np.sum(np.square(y_true - y_pred))/(2*m)\n",
    "    return (J)"
   ]
  },
  {
   "cell_type": "code",
   "execution_count": 21,
   "metadata": {},
   "outputs": [],
   "source": [
    "# Here the cost function takes two arguments\n",
    "\n",
    "\n",
    "def rmse_cost(y_true, y_pred):\n",
    "    \n",
    "    assert (y_true.shape[0] == y_pred.shape[0]),\"Dimension Mismatch\"\n",
    "    \n",
    "    m = y_true.shape[0]\n",
    "    I = np.sqrt(np.sum(np.square(y_true - y_pred))/(2*m))\n",
    "    return (I)"
   ]
  },
  {
   "cell_type": "markdown",
   "metadata": {},
   "source": [
    "### Implementing Gradient Descent Algorithm"
   ]
  },
  {
   "cell_type": "markdown",
   "metadata": {},
   "source": [
    "#### Implementing the function to calculate the predicted output"
   ]
  },
  {
   "cell_type": "code",
   "execution_count": 22,
   "metadata": {},
   "outputs": [],
   "source": [
    "def output_lin_reg(X, theta):\n",
    "    \n",
    "    return (X @ theta)"
   ]
  },
  {
   "cell_type": "markdown",
   "metadata": {},
   "source": [
    "#### Equation of gradient descent update rule for linear regression"
   ]
  },
  {
   "cell_type": "code",
   "execution_count": 23,
   "metadata": {},
   "outputs": [],
   "source": [
    "def grad_des_lin_reg(X, y, alpha , it , tol ):\n",
    "    \n",
    "    assert (X.shape[0] == y.shape[0]), \"Dimension Mismatch\"\n",
    "    \n",
    "    m = X.shape[0]   # Number of training samples\n",
    "    X = np.c_[np.ones(m),X] # Inserting a column of all ones \n",
    "    k = X.shape[1]   # number of predictors (including the dummy predictor)\n",
    "    \n",
    "    np.random.seed(32)\n",
    "    theta = np.random.randn(k) # Initializing the model parameters with random values\n",
    "    \n",
    "    costs = []\n",
    "    count = 0\n",
    "    \n",
    "    for i in range(it):\n",
    "        y_pred = output_lin_reg (X, theta)\n",
    "        J = rmse_cost(y, y_pred)\n",
    "        costs.append(J)\n",
    "        del_theta = (-1)*(alpha/m)*(X.T @ (y_pred - y))\n",
    "        theta += del_theta\n",
    "        if np.linalg.norm(del_theta) <= tol:\n",
    "            break\n",
    "        count += 1\n",
    "    \n",
    "    return theta, costs, count\n",
    "    "
   ]
  },
  {
   "cell_type": "markdown",
   "metadata": {},
   "source": [
    "### Running gradient descent algorithm"
   ]
  },
  {
   "cell_type": "markdown",
   "metadata": {},
   "source": [
    "# Random gradient descent and Selected Columns "
   ]
  },
  {
   "cell_type": "code",
   "execution_count": 24,
   "metadata": {},
   "outputs": [],
   "source": [
    "thetar, rcosts, rcount = grad_des_lin_reg(X_rand_train, y_rand_train, alpha = 0.03, it = 2000, tol = 0.001)"
   ]
  },
  {
   "cell_type": "code",
   "execution_count": 25,
   "metadata": {},
   "outputs": [],
   "source": [
    "theta, costs, count = grad_des_lin_reg(X_train, y_train, alpha = 0.03, it = 2000, tol = 0.001)"
   ]
  },
  {
   "cell_type": "code",
   "execution_count": 26,
   "metadata": {},
   "outputs": [
    {
     "name": "stdout",
     "output_type": "stream",
     "text": [
      "theta: [ 3.69319151  1.43610648  0.0836848  -0.61397801  0.03663886  0.3017049\n",
      "  0.75972235 -0.12732861  0.01858661], \n",
      " number of iterations = 1074\n"
     ]
    }
   ],
   "source": [
    "print(\"theta: {}, \\n number of iterations = {}\".format(thetar, rcount))"
   ]
  },
  {
   "cell_type": "code",
   "execution_count": 27,
   "metadata": {},
   "outputs": [
    {
     "name": "stdout",
     "output_type": "stream",
     "text": [
      "random cost: [2.071745866050175, 1.9669717497006955, 1.8736482519016366, 1.790742471836099, 1.7172798847122874, 1.6523428337557164, 1.5950700330235972, 1.5446567033717713, 1.5003549537673548, 1.4614740547914384, 1.427380322394637, 1.3974964232477056, 1.3713000117676146, 1.3483216984332567, 1.3281424192976963, 1.310390323138201, 1.2947373158206525, 1.2808954049037098, 1.2686129766139118, 1.2576711176244337, 1.2478800703642217, 1.2390758864862736, 1.2311173210073332, 1.223882990792243, 1.2172688059748535, 1.211185671516437, 1.2055574480159792, 1.2003191555708839, 1.1954154013750424, 1.1907990103034343, 1.1864298375083668, 1.1822737426647494, 1.178301706653974, 1.1744890729439443, 1.1708148975431472, 1.1672613930647004, 1.1638134540550416, 1.1604582522726623, 1.1571848920169943, 1.1539841168927583, 1.1508480605473472, 1.1477700349412066, 1.1447443506109147, 1.141766164171153, 1.1388313489855557, 1.1359363855283093, 1.1330782684687661, 1.1302544279501807, 1.127462662909993, 1.124701084611123, 1.1219680688288327, 1.1192622153723555, 1.1165823138203714, 1.1139273145195077, 1.1112963040396557, 1.1086884844027616, 1.106103155506055, 1.1035397002491967, 1.1009975719498997, 1.098476283696226, 1.0959753993377175, 1.0934945258632072, 1.0910333069519078, 1.0885914175171334, 1.0861685590898076, 1.0837644559123956, 1.081378851633821, 1.0790115065127557, 1.0766621950509325, 1.0743307039902046, 1.072016830617269, 1.069720381328625, 1.0674411704156335, 1.0651790190357426, 1.0629337543411643, 1.0607052087407143, 1.0584932192742837, 1.056297627082559, 1.0541182769573034, 1.0519550169597667, 1.0498076980967188, 1.0476761740452118, 1.0455603009185572, 1.0434599370671553, 1.041374942908807, 1.0393051807839553, 1.037250514832012, 1.0352108108855214, 1.0331859363794085, 1.0311757602729854, 1.0291801529827527, 1.0271989863243305, 1.0252321334621168, 1.02327946886548, 1.0213408682704834, 1.0194162086462903, 1.017505368165535, 1.0156082261780457, 1.013724663187409, 1.0118545608299456, 1.0099978018557234, 1.0081542701112998, 1.0063238505239345, 1.0045064290870465, 1.002701892846728, 1.0009101298891625, 0.9991310293288039, 0.9973644812972129, 0.9956103769324459, 0.9938686083689251, 0.9921390687277124, 0.9904216521071361, 0.9887162535737187, 0.987022769153364, 0.9853410958227714, 0.983671131501045, 0.9820127750414752, 0.9803659262234691, 0.9787304857446162, 0.9771063552128701, 0.9754934371388368, 0.9738916349281562, 0.9723008528739707, 0.970720996149472, 0.9691519708005194, 0.9675936837383253, 0.9660460427322024, 0.9645089564023687, 0.9629823342128099, 0.9614660864641913, 0.9599601242868232, 0.9584643596336722, 0.9569787052734214, 0.955503074783574, 0.9540373825436043, 0.9525815437281503, 0.9511354743002504, 0.9496990910046206, 0.9482723113609753, 0.9468550536573903, 0.9454472369437035, 0.9440487810249594, 0.9426596064548931, 0.9412796345294544, 0.9399087872803729, 0.9385469874687619, 0.9371941585787633, 0.9358502248112334, 0.9345151110774653, 0.9331887429929552, 0.9318710468712048, 0.9305619497175669, 0.9292613792231276, 0.9279692637586301, 0.9266855323684374, 0.925410114764536, 0.9241429413205771, 0.9228839430659588, 0.9216330516799478, 0.9203901994858414, 0.9191553194451668, 0.9179283451519227, 0.9167092108268592, 0.9154978513117955, 0.9142942020639815, 0.9130981991504934, 0.9119097792426728, 0.9107288796106041, 0.9095554381176297, 0.9083893932149057, 0.9072306839359977, 0.9060792498915131, 0.9049350312637754, 0.9037979688015347, 0.9026680038147202, 0.9015450781692279, 0.9004291342817503, 0.8993201151146439, 0.8982179641708326, 0.8971226254887541, 0.8960340436373415, 0.8949521637110439, 0.8938769313248864, 0.8928082926095654, 0.8917461942065856, 0.8906905832634321, 0.8896414074287805, 0.8885986148477464, 0.8875621541571699, 0.8865319744809403, 0.8855080254253553, 0.884490257074519, 0.8834786199857765, 0.882473065185185, 0.8814735441630225, 0.8804800088693316, 0.8794924117095013, 0.8785107055398844, 0.8775348436634499, 0.8765647798254738, 0.8756004682092632, 0.8746418634319179, 0.8736889205401261, 0.8727415950059976, 0.871799842722928, 0.8708636200015039, 0.8699328835654357, 0.8690075905475332, 0.8680876984857079, 0.8671731653190154, 0.8662639493837286, 0.8653600094094458, 0.8644613045152338, 0.8635677942058025, 0.8626794383677148, 0.861796197265628, 0.86091803153857, 0.8600449021962473, 0.8591767706153858, 0.858313598536104, 0.8574553480583194, 0.8566019816381854, 0.8557534620845624, 0.8549097525555175, 0.8540708165548601, 0.853236617928703, 0.8524071208620613, 0.8515822898754765, 0.8507620898216751, 0.849946485882256, 0.8491354435644085, 0.8483289286976613, 0.8475269074306605, 0.8467293462279777, 0.8459362118669479, 0.8451474714345368, 0.8443630923242368, 0.8435830422329922, 0.8428072891581536, 0.8420358013944605, 0.8412685475310525, 0.8405054964485074, 0.8397466173159102, 0.8389918795879467, 0.8382412530020265, 0.8374947075754334, 0.8367522136025015, 0.8360137416518204, 0.835279262563465, 0.834548747446254, 0.8338221676750333, 0.8330994948879856, 0.8323807009839674, 0.8316657581198699, 0.8309546387080066, 0.8302473154135266, 0.8295437611518516, 0.82884394908614, 0.8281478526247734, 0.8274554454188704, 0.8267667013598218, 0.8260815945768526, 0.8254000994346069, 0.824722190530756, 0.8240478426936321, 0.8233770309798825, 0.8227097306721501, 0.8220459172767749, 0.8213855665215191, 0.8207286543533147, 0.8200751569360337, 0.8194250506482809, 0.8187783120812079, 0.8181349180363496, 0.817494845523483, 0.8168580717585058, 0.816224574161339, 0.8155943303538473, 0.8149673181577843, 0.8143435155927553, 0.8137229008742014, 0.813105452411407, 0.8124911488055222, 0.8118799688476106, 0.8112718915167135, 0.8106668959779352, 0.8100649615805476, 0.8094660678561149, 0.8088701945166357, 0.8082773214527061, 0.8076874287317007, 0.8071004965959719, 0.806516505461069, 0.8059354359139743, 0.8053572687113584, 0.8047819847778526, 0.8042095652043395, 0.8036399912462628, 0.8030732443219509, 0.8025093060109622, 0.8019481580524443, 0.8013897823435123, 0.8008341609376429, 0.800281276043085, 0.7997311100212875, 0.7991836453853439, 0.7986388647984524, 0.7980967510723912, 0.7975572871660122, 0.797020456183748, 0.7964862413741362, 0.7959546261283581, 0.7954255939787938, 0.7948991285975913, 0.794375213795251, 0.793853833519226, 0.793334971852536, 0.7928186130123961, 0.7923047413488604, 0.7917933413434798, 0.7912843976079734, 0.7907778948829144, 0.7902738180364309, 0.7897721520629177, 0.789272882081765, 0.7887759933360982, 0.7882814711915316, 0.7877893011349371, 0.7872994687732228, 0.7868119598321266, 0.7863267601550231, 0.7858438557017414, 0.7853632325473971, 0.7848848768812352, 0.7844087750054873, 0.7839349133342387, 0.7834632783923096, 0.7829938568141463, 0.7825266353427272, 0.782061600828476, 0.781598740228191, 0.7811380406039833, 0.7806794891222265, 0.7802230730525191, 0.7797687797666557, 0.779316596737612, 0.7788665115385368, 0.7784185118417604, 0.7779725854178073, 0.7775287201344249, 0.7770869039556181, 0.7766471249406985, 0.7762093712433402, 0.7757736311106483, 0.7753398928822353, 0.7749081449893092, 0.7744783759537704, 0.7740505743873192, 0.7736247289905706, 0.7732008285521821, 0.772778861947988, 0.7723588181401438, 0.7719406861762815, 0.771524455188671, 0.771110114393392, 0.7706976530895164, 0.770287060658296, 0.7698783265623625, 0.7694714403449338, 0.7690663916290291, 0.7686631701166939, 0.7682617655882316, 0.7678621679014438, 0.7674643669908804, 0.7670683528670955, 0.7666741156159117, 0.7662816453976945, 0.7658909324466314, 0.7655019670700209, 0.7651147396475694, 0.7647292406306927, 0.7643454605418291, 0.7639633899737571, 0.7635830195889213, 0.7632043401187654, 0.7628273423630726, 0.7624520171893138, 0.7620783555320002, 0.7617063483920471, 0.7613359868361396, 0.7609672619961101, 0.7606001650683178, 0.7602346873130391, 0.7598708200538615, 0.7595085546770853, 0.7591478826311316, 0.758788795425957, 0.7584312846324737, 0.7580753418819762, 0.7577209588655756, 0.7573681273336368, 0.7570168390952248, 0.7566670860175562, 0.7563188600254549, 0.7559721531008159, 0.7556269572820736, 0.7552832646636758, 0.754941067395564, 0.7546003576826587, 0.7542611277843503, 0.7539233700139965, 0.7535870767384224, 0.7532522403774292, 0.7529188534033062, 0.7525869083403482, 0.7522563977643788, 0.7519273143022782, 0.7515996506315157, 0.7512733994796885, 0.7509485536240648, 0.7506251058911297, 0.7503030491561407, 0.7499823763426824, 0.7496630804222307, 0.7493451544137184, 0.7490285913831067, 0.7487133844429618, 0.7483995267520348, 0.748087011514847, 0.7477758319812792, 0.7474659814461646, 0.7471574532488885, 0.7468502407729896, 0.7465443374457661, 0.7462397367378873, 0.7459364321630083, 0.7456344172773883, 0.7453336856795143, 0.7450342310097273, 0.7447360469498541, 0.7444391272228409, 0.7441434655923933, 0.7438490558626177, 0.7435558918776682, 0.7432639675213959, 0.7429732767170033, 0.7426838134267008, 0.7423955716513688, 0.7421085454302205, 0.7418227288404715, 0.7415381159970105, 0.7412547010520738, 0.7409724781949251, 0.7406914416515354, 0.7404115856842698, 0.740132904591574, 0.7398553927076678, 0.7395790444022383, 0.739303854080139, 0.7390298161810905, 0.7387569251793851, 0.7384851755835934, 0.7382145619362754, 0.7379450788136939, 0.7376767208255303, 0.7374094826146048, 0.7371433588565981, 0.7368783442597762, 0.7366144335647191, 0.7363516215440513, 0.736089903002175, 0.735829272775007, 0.7355697257297175, 0.7353112567644716, 0.735053860808174, 0.7347975328202158, 0.7345422677902244, 0.7342880607378153, 0.734034906712347, 0.7337828007926785, 0.733531738086929, 0.7332817137322389, 0.733032722894537, 0.7327847607683043, 0.732537822576346, 0.7322919035695623, 0.732046999026722, 0.7318031042542393, 0.7315602145859529, 0.7313183253829059, 0.73107743203313, 0.7308375299514296, 0.7305986145791705, 0.7303606813840685, 0.7301237258599813, 0.7298877435267035, 0.7296527299297606, 0.7294186806402088, 0.729185591254433, 0.7289534573939515, 0.7287222747052169, 0.7284920388594246, 0.7282627455523191, 0.7280343905040044, 0.7278069694587561, 0.7275804781848341, 0.7273549124742984, 0.7271302681428264, 0.7269065410295324, 0.7266837269967876, 0.7264618219300433, 0.726240821737655, 0.726020722350709, 0.7258015197228499, 0.7255832098301096, 0.7253657886707401, 0.7251492522650439, 0.7249335966552114, 0.7247188179051547, 0.7245049121003463, 0.7242918753476583, 0.7240797037752033, 0.7238683935321769, 0.7236579407887015, 0.7234483417356716, 0.7232395925846015, 0.7230316895674728, 0.7228246289365847, 0.7226184069644059, 0.7224130199434264, 0.7222084641860133, 0.7220047360242636, 0.7218018318098647, 0.7215997479139502, 0.7213984807269604, 0.7211980266585041, 0.7209983821372197, 0.7207995436106396, 0.7206015075450557, 0.7204042704253846, 0.7202078287550362, 0.7200121790557813, 0.7198173178676228, 0.7196232417486662, 0.7194299472749931, 0.7192374310405333, 0.7190456896569409, 0.7188547197534704, 0.7186645179768525, 0.7184750809911743, 0.7182864054777575, 0.7180984881350395, 0.7179113256784552, 0.7177249148403193, 0.7175392523697107, 0.7173543350323575, 0.7171701596105223, 0.7169867229028904, 0.7168040217244576, 0.7166220529064178, 0.7164408132960557, 0.7162602997566361, 0.7160805091672972, 0.7159014384229426, 0.7157230844341367, 0.7155454441269988, 0.7153685144430996, 0.715192292339358, 0.7150167747879389, 0.7148419587761525, 0.714667841306354, 0.7144944193958428, 0.7143216900767667, 0.7141496503960216, 0.713978297415157, 0.7138076282102782, 0.7136376398719532, 0.7134683295051167, 0.7132996942289783, 0.7131317311769293, 0.7129644374964506, 0.7127978103490229, 0.712631846910036, 0.7124665443686995, 0.712301899927954, 0.7121379108043843, 0.7119745742281319, 0.7118118874428085, 0.7116498477054111, 0.711488452286237, 0.7113276984687998, 0.7111675835497462, 0.7110081048387742, 0.7108492596585492, 0.7106910453446258, 0.7105334592453647, 0.7103764987218547, 0.7102201611478329, 0.7100644439096068, 0.7099093444059756, 0.7097548600481546, 0.7096009882596975, 0.7094477264764214, 0.7092950721463311, 0.7091430227295457, 0.7089915756982231, 0.7088407285364885, 0.7086904787403605, 0.7085408238176795, 0.7083917612880364, 0.7082432886827016, 0.7080954035445549, 0.7079481034280157, 0.7078013858989741, 0.707655248534722, 0.7075096889238857, 0.7073647046663578, 0.7072202933732309, 0.7070764526667317, 0.7069331801801536, 0.7067904735577937, 0.7066483304548861, 0.7065067485375387, 0.7063657254826698, 0.7062252589779447, 0.7060853467217122, 0.7059459864229435, 0.7058071758011706, 0.7056689125864244, 0.7055311945191747, 0.7053940193502697, 0.7052573848408761, 0.7051212887624205, 0.7049857288965301, 0.7048507030349745, 0.7047162089796082, 0.7045822445423124, 0.7044488075449392, 0.7043158958192539, 0.70418350720688, 0.704051639559243, 0.703920290737515, 0.7037894586125606, 0.703659141064882, 0.7035293359845652, 0.7034000412712271, 0.7032712548339611, 0.7031429745912853, 0.7030151984710906, 0.7028879244105878, 0.7027611503562564, 0.702634874263794, 0.702509094098065, 0.7023838078330503, 0.7022590134517978, 0.7021347089463723, 0.7020108923178062, 0.7018875615760513, 0.7017647147399295, 0.7016423498370853, 0.7015204649039377, 0.7013990579856327, 0.7012781271359965, 0.7011576704174883, 0.7010376859011547, 0.7009181716665825, 0.7007991258018545, 0.7006805464035024, 0.7005624315764633, 0.7004447794340336, 0.7003275880978258, 0.7002108556977236, 0.7000945803718385, 0.6999787602664663, 0.6998633935360437, 0.6997484783431056, 0.699634012858243, 0.6995199952600604, 0.6994064237351332, 0.6992932964779671, 0.699180611690957, 0.6990683675843443, 0.6989565623761778, 0.6988451942922722, 0.6987342615661687, 0.6986237624390944, 0.6985136951599228, 0.6984040579851349, 0.6982948491787796, 0.6981860670124346, 0.6980777097651691, 0.6979697757235042, 0.6978622631813752, 0.6977551704400943, 0.6976484958083127, 0.6975422376019832, 0.6974363941443238, 0.6973309637657801, 0.6972259448039893, 0.697121335603744, 0.697017134516956, 0.6969133399026208, 0.696809950126781, 0.6967069635624928, 0.6966043785897894, 0.6965021935956467, 0.6964004069739488, 0.6962990171254534, 0.6961980224577579, 0.6960974213852653, 0.6959972123291503, 0.6958973937173265, 0.695797963984412, 0.6956989215716974, 0.6956002649271127, 0.6955019925051943, 0.6954041027670523, 0.6953065941803402, 0.6952094652192201, 0.6951127143643331, 0.6950163401027667, 0.6949203409280234, 0.6948247153399899, 0.6947294618449065, 0.6946345789553346, 0.694540065190128, 0.6944459190744017, 0.6943521391395012, 0.6942587239229738, 0.6941656719685372, 0.6940729818260506, 0.6939806520514856, 0.6938886812068961, 0.69379706786039, 0.6937058105860993, 0.6936149079641526, 0.6935243585806452, 0.6934341610276114, 0.693344313902997, 0.6932548158106293, 0.693165665360191, 0.6930768611671919, 0.6929884018529412, 0.69290028604452, 0.6928125123747549, 0.6927250794821898, 0.6926379860110599, 0.6925512306112643, 0.6924648119383404, 0.6923787286534362, 0.6922929794232853, 0.6922075629201798, 0.6921224778219451, 0.6920377228119139, 0.6919532965788998, 0.6918691978171733, 0.6917854252264354, 0.6917019775117921, 0.691618853383731, 0.6915360515580944, 0.691453570756056, 0.6913714097040956, 0.6912895671339746, 0.6912080417827124, 0.6911268323925616, 0.6910459377109833, 0.6909653564906254, 0.690885087489296, 0.690805129469942, 0.6907254812006246, 0.6906461414544961, 0.6905671090097765, 0.6904883826497308, 0.6904099611626457, 0.6903318433418071, 0.6902540279854769, 0.6901765138968707, 0.6900992998841357, 0.6900223847603273, 0.6899457673433884, 0.689869446456126, 0.6897934209261899, 0.6897176895860506, 0.689642251272978, 0.6895671048290188, 0.689492249100977, 0.6894176829403899, 0.6893434052035092, 0.6892694147512782, 0.689195710449312, 0.6891222911678757, 0.6890491557818644, 0.688976303170782, 0.6889037322187205, 0.68883144181434, 0.6887594308508487, 0.6886876982259812, 0.6886162428419803, 0.6885450636055753, 0.6884741594279635, 0.6884035292247894, 0.6883331719161252, 0.6882630864264517, 0.6881932716846384, 0.6881237266239242, 0.6880544501818978, 0.6879854413004797, 0.6879166989259015, 0.687848222008688, 0.6877800095036383, 0.6877120603698063, 0.6876443735704828, 0.6875769480731768, 0.6875097828495965, 0.6874428768756312, 0.6873762291313334, 0.6873098386009004, 0.6872437042726557, 0.6871778251390315, 0.6871122001965507, 0.687046828445809, 0.686981708891457, 0.6869168405421835, 0.6868522224106968, 0.6867878535137069, 0.6867237328719104, 0.6866598595099704, 0.6865962324565017, 0.6865328507440517, 0.6864697134090849, 0.6864068194919652, 0.6863441680369392, 0.6862817580921193, 0.6862195887094678, 0.6861576589447788, 0.6860959678576635, 0.686034514511532, 0.6859732979735784, 0.685912317314764, 0.6858515716098005, 0.685791059937135, 0.6857307813789332, 0.6856707350210639, 0.6856109199530825, 0.6855513352682159, 0.6854919800633471, 0.685432853438998, 0.6853739544993156, 0.6853152823520554, 0.6852568361085668, 0.6851986148837765, 0.6851406177961754, 0.685082843967801, 0.685025292524224, 0.6849679625945324, 0.6849108533113172, 0.6848539638106569, 0.6847972932321029, 0.6847408407186654, 0.6846846054167971, 0.6846285864763807, 0.6845727830507127, 0.6845171942964898, 0.6844618193737944, 0.6844066574460796, 0.6843517076801562, 0.6842969692461777, 0.6842424413176258, 0.6841881230712975, 0.6841340136872902, 0.6840801123489882, 0.6840264182430488, 0.683972930559388, 0.6839196484911679, 0.6838665712347819, 0.6838136979898419, 0.6837610279591644, 0.6837085603487572, 0.6836562943678054, 0.6836042292286596, 0.6835523641468207, 0.6835006983409283, 0.6834492310327465, 0.6833979614471509, 0.6833468888121167, 0.6832960123587046, 0.6832453313210476, 0.6831948449363396, 0.6831445524448214, 0.6830944530897686, 0.6830445461174781, 0.6829948307772568, 0.6829453063214083, 0.6828959720052199, 0.6828468270869513, 0.6827978708278215, 0.6827491024919964, 0.6827005213465774, 0.6826521266615877, 0.6826039177099621, 0.6825558937675327, 0.682508054113019, 0.6824603980280143, 0.6824129247969746, 0.6823656337072069, 0.6823185240488565, 0.6822715951148959, 0.6822248462011129, 0.6821782766060993, 0.6821318856312384, 0.6820856725806945, 0.6820396367614012, 0.6819937774830487, 0.6819480940580742, 0.6819025858016494, 0.68185725203167, 0.6818120920687435, 0.6817671052361783, 0.6817222908599736, 0.6816776482688072, 0.6816331767940239, 0.6815888757696266, 0.6815447445322633, 0.6815007824212177, 0.6814569887783963, 0.6814133629483209, 0.6813699042781144, 0.6813266121174921, 0.681283485818751, 0.6812405247367581, 0.681197728228941, 0.6811550956552764, 0.6811126263782807, 0.6810703197629988, 0.6810281751769937, 0.6809861919903368, 0.6809443695755969, 0.6809027073078304, 0.6808612045645713, 0.6808198607258205, 0.6807786751740358, 0.6807376472941226, 0.6806967764734223, 0.6806560621017045, 0.6806155035711553, 0.6805751002763677, 0.6805348516143329, 0.6804947569844293, 0.6804548157884127, 0.6804150274304078, 0.6803753913168975, 0.6803359068567133, 0.6802965734610262, 0.6802573905433371, 0.6802183575194667, 0.6801794738075468, 0.6801407388280105, 0.6801021520035827, 0.680063712759271, 0.680025420522357, 0.6799872747223853, 0.6799492747911562, 0.6799114201627154, 0.6798737102733453, 0.6798361445615557, 0.6797987224680749, 0.6797614434358404, 0.6797243069099907, 0.6796873123378554, 0.6796504591689465, 0.67961374685495, 0.6795771748497171, 0.6795407426092548, 0.6795044495917174, 0.679468295257398, 0.6794322790687198, 0.6793964004902275, 0.6793606589885782, 0.6793250540325336, 0.6792895850929505, 0.6792542516427735, 0.6792190531570259, 0.6791839891128012, 0.6791490589892545, 0.6791142622675951, 0.6790795984310773, 0.6790450669649927, 0.6790106673566612, 0.6789763990954233, 0.6789422616726328, 0.6789082545816469, 0.6788743773178193, 0.6788406293784919, 0.6788070102629863, 0.6787735194725967, 0.6787401565105813, 0.6787069208821543, 0.6786738120944786, 0.6786408296566573, 0.678607973079726, 0.6785752418766453, 0.6785426355622931, 0.6785101536534562, 0.6784777956688234, 0.6784455611289774, 0.678413449556387, 0.6783814604754005, 0.6783495934122362, 0.6783178478949772, 0.678286223453562, 0.6782547196197783, 0.6782233359272546, 0.6781920719114536, 0.6781609271096641, 0.6781299010609942, 0.6780989933063639, 0.6780682033884975, 0.6780375308519166, 0.678006975242933, 0.677976536109641, 0.6779462130019109, 0.6779160054713812, 0.6778859130714522, 0.6778559353572784, 0.6778260718857613, 0.6777963222155432, 0.6777666859069995, 0.6777371625222317, 0.6777077516250612, 0.6776784527810217, 0.6776492655573523, 0.6776201895229913, 0.6775912242485688, 0.6775623693064001, 0.6775336242704793, 0.6775049887164716, 0.6774764622217078, 0.6774480443651767, 0.6774197347275192, 0.6773915328910206, 0.6773634384396057, 0.6773354509588304, 0.6773075700358763, 0.677279795259544, 0.6772521262202464, 0.6772245625100025, 0.6771971037224307, 0.6771697494527426, 0.6771424992977364, 0.6771153528557909, 0.6770883097268592, 0.6770613695124618, 0.6770345318156809, 0.677007796241154, 0.6769811623950676, 0.6769546298851513, 0.6769281983206712, 0.6769018673124241, 0.676875636472731, 0.6768495054154315, 0.6768234737558776, 0.6767975411109274, 0.6767717070989391, 0.6767459713397656, 0.6767203334547475, 0.6766947930667084, 0.6766693497999478, 0.676644003280236, 0.6766187531348079, 0.6765935989923575, 0.6765685404830311, 0.676543577238423, 0.6765187088915686, 0.676493935076939, 0.6764692554304353], \n",
      " number of iterations =1074, \n"
     ]
    }
   ],
   "source": [
    "print(\"random cost: {}, \\n number of iterations ={}, \".format(rcosts,rcount))"
   ]
  },
  {
   "cell_type": "code",
   "execution_count": 28,
   "metadata": {},
   "outputs": [
    {
     "name": "stdout",
     "output_type": "stream",
     "text": [
      "theta: [ 3.77704192  1.62715061 -0.89275502 -0.07072113  0.04591703  0.76933042\n",
      " -0.05988324  0.05612483 -0.11870381  0.02548533], \n",
      " number of iterations = 1050\n"
     ]
    }
   ],
   "source": [
    "print(\"theta: {}, \\n number of iterations = {}\".format(theta, count))"
   ]
  },
  {
   "cell_type": "code",
   "execution_count": 29,
   "metadata": {},
   "outputs": [
    {
     "name": "stdout",
     "output_type": "stream",
     "text": [
      "random costs: [2.201391550127124, 2.083144381666502, 1.9792261922124375, 1.8881808280968182, 1.8086451837479327, 1.7393478876020174, 1.6791093331178009, 1.6268422264765412, 1.581551899362081, 1.5423358053716278, 1.5083818409745549, 1.478965360182063, 1.4534449477469142, 1.431257155824893, 1.4119104872919643, 1.3949789319697083, 1.3800953437462118, 1.3669449027663358, 1.3552588515085706, 1.344808637121205, 1.3354005414636472, 1.3268708382089993, 1.3190814840458622, 1.311916327914272, 1.3052778069947062, 1.299084089242868, 1.2932666180654135, 1.287768013896663, 1.2825402888514534, 1.277543333438033, 1.2727436378872843, 1.268113214547656, 1.2636286917116721, 1.259270552991662, 1.2550224998399482, 1.2508709179573911, 1.2468044311358832, 1.2428135285405224, 1.238890253575267, 1.2350279443190106, 1.231221017097627, 1.2274647861025354, 1.223755313107468, 1.2200892822999383, 1.2164638960573544, 1.2128767881819476, 1.2093259516831396, 1.2058096786774481, 1.2023265103791283, 1.1988751954917758, 1.1954546555927068, 1.1920639563370061, 1.1887022835042362, 1.1853689230743476, 1.1820632446556179, 1.178784687701014, 1.1755327500439596, 1.1723069783632496, 1.169106960252429, 1.1659323176235288, 1.1627827012204737, 1.1596577860552808, 1.1565572676116045, 1.153480858686356, 1.1504282867618836, 1.14739929181931, 1.1443936245186737, 1.141411044684051, 1.1384513200422512, 1.135514225172333, 1.1325995406304052, 1.1297070522201573, 1.1268365503845423, 1.123987829698193, 1.1211606884435783, 1.1183549282567833, 1.1155703538311703, 1.1128067726691622, 1.110063994874034, 1.1073418329749674, 1.1046401017797582, 1.10195861825052, 1.0992972013985052, 1.096655672194822, 1.0940338534943737, 1.0914315699707882, 1.088848648060495, 1.0862849159144061, 1.083740203355924, 1.0812143418442173, 1.078707164441878, 1.0762185057862255, 1.0737482020636513, 1.0712960909864966, 1.0688620117720362, 1.066445805123227, 1.0640473132109263, 1.0616663796573331, 1.059302849520463, 1.05695656927948, 1.0546273868207496, 1.0523151514245017, 1.050019713752, 1.0477409258331485, 1.0454786410544585, 1.0432327141473312, 1.0410030011766027, 1.0387893595293183, 1.0365916479037032, 1.0344097262983045, 1.0322434560012816, 1.0300926995798299, 1.0279573208697184, 1.025837184964933, 1.023732158207418, 1.0216421081768958, 1.019566903680776, 1.017506414744128, 1.0154605125997298, 1.0134290696781811, 1.011411959598074, 1.0094090571562286, 1.007420238317983, 1.0054453802075405, 1.0034843610983697, 1.0015370604036613, 0.9996033586668328, 0.9976831375520886, 0.9957762798350299, 0.9938826693933175, 0.9920021911973813, 0.990134731301185, 0.9882801768330375, 0.9864384159864569, 0.9846093380110834, 0.9827928332036424, 0.9809887928989596, 0.9791971094610237, 0.9774176762741019, 0.9756503877339043, 0.9738951392388002, 0.9721518271810837, 0.9704203489382908, 0.9687006028645678, 0.9669924882820907, 0.9652959054725336, 0.9636107556685918, 0.9619369410455533, 0.9602743647129237, 0.9586229307061014, 0.9569825439781047, 0.9553531103913515, 0.953734536709489, 0.9521267305892773, 0.9505296005725243, 0.9489430560780705, 0.9473670073938296, 0.9458013656688786, 0.9442460429056007, 0.9427009519518805, 0.9411660064933515, 0.939641121045696, 0.9381262109469962, 0.9366211923501399, 0.9351259822152758, 0.9336404983023227, 0.9321646591635308, 0.9306983841360945, 0.9292415933348188, 0.9277942076448369, 0.9263561487143797, 0.9249273389475984, 0.9235077014974391, 0.9220971602585671, 0.9206956398603484, 0.9193030656598771, 0.9179193637350579, 0.9165444608777407, 0.9151782845869053, 0.913820763061898, 0.9124718251957212, 0.9111314005683718, 0.9097994194402332, 0.9084758127455167, 0.9071605120857553, 0.905853449723348, 0.9045545585751543, 0.9032637722061395, 0.9019810248230713, 0.9007062512682659, 0.899439387013385, 0.8981803681532814, 0.8969291313998974, 0.8956856140762088, 0.8944497541102236, 0.893221490029024, 0.8920007609528634, 0.8907875065893088, 0.8895816672274336, 0.8883831837320578, 0.8871919975380388, 0.8860080506446082, 0.8848312856097579, 0.883661645544674, 0.8824990741082174, 0.8813435155014542, 0.8801949144622303, 0.8790532162597952, 0.8779183666894722, 0.8767903120673739, 0.8756689992251661, 0.8745543755048765, 0.8734463887537498, 0.8723449873191474, 0.8712501200434947, 0.8701617362592712, 0.869079785784048, 0.8680042189155674, 0.8669349864268687, 0.8658720395614584, 0.8648153300285228, 0.8637648099981862, 0.8627204320968108, 0.8616821494023418, 0.860649915439693, 0.8596236841761778, 0.8586034100169806, 0.8575890478006708, 0.85658055279476, 0.8555778806912989, 0.8545809876025171, 0.8535898300565038, 0.8526043649929282, 0.8516245497588026, 0.8506503421042835, 0.8496817001785142, 0.8487185825255078, 0.8477609480800672, 0.8468087561637476, 0.8458619664808552, 0.8449205391144862, 0.8439844345226036, 0.8430536135341531, 0.8421280373452149, 0.8412076675151955, 0.8402924659630553, 0.8393823949635736, 0.8384774171436505, 0.8375774954786456, 0.8366825932887523, 0.8357926742354089, 0.8349077023177446, 0.8340276418690611, 0.8331524575533502, 0.8322821143618453, 0.8314165776096074, 0.8305558129321463, 0.8296997862820759, 0.8288484639258017, 0.8280018124402441, 0.827159798709593, 0.8263223899220964, 0.8254895535668825, 0.8246612574308111, 0.8238374695953617, 0.8230181584335496, 0.8222032926068757, 0.821392841062307, 0.8205867730292892, 0.8197850580167876, 0.8189876658103624, 0.8181945664692706, 0.8174057303236006, 0.816621127971435, 0.8158407302760442, 0.8150645083631073, 0.8142924336179657, 0.8135244776829003, 0.8127606124544424, 0.8120008100807093, 0.8112450429587693, 0.8104932837320349, 0.809745505287681, 0.8090016807540953, 0.8082617834983497, 0.807525787123703, 0.8067936654671284, 0.8060653925968666, 0.8053409428100062, 0.8046202906300903, 0.803903410804746, 0.8031902783033419, 0.8024808683146702, 0.801775156244652, 0.8010731177140693, 0.8003747285563199, 0.799679964815197, 0.7989888027426931, 0.7983012187968263, 0.7976171896394917, 0.7969366921343347, 0.7962597033446474, 0.7955862005312891, 0.7949161611506281, 0.7942495628525049, 0.7935863834782201, 0.7929266010585426, 0.7922701938117391, 0.7916171401416262, 0.7909674186356427, 0.7903210080629431, 0.7896778873725137, 0.7890380356913061, 0.7884014323223938, 0.7877680567431478, 0.7871378886034321, 0.78651090772382, 0.7858870940938291, 0.7852664278701752, 0.7846488893750471, 0.7840344590943988, 0.7834231176762617, 0.7828148459290736, 0.7822096248200286, 0.7816074354734435, 0.7810082591691426, 0.7804120773408603, 0.7798188715746619, 0.7792286236073813, 0.7786413153250765, 0.778056928761501, 0.7774754460965941, 0.7768968496549864, 0.7763211219045222, 0.7757482454547989, 0.7751782030557225, 0.7746109775960774, 0.774046552102116, 0.7734849097361588, 0.7729260337952152, 0.772369907709616, 0.7718165150416633, 0.7712658394842933, 0.7707178648597575, 0.7701725751183135, 0.7696299543369363, 0.7690899867180387, 0.7685526565882103, 0.7680179483969668, 0.7674858467155157, 0.7669563362355363, 0.7664294017679704, 0.7659050282418292, 0.765383200703013, 0.7648639043131434, 0.7643471243484089, 0.7638328461984232, 0.7633210553650972, 0.7628117374615225, 0.7623048782108685, 0.7618004634452902, 0.76129847910485, 0.7607989112364508, 0.760301745992781, 0.7598069696312711, 0.7593145685130631, 0.7588245291019897, 0.7583368379635667, 0.7578514817639949, 0.7573684472691754, 0.7568877213437343, 0.756409290950058, 0.7559331431473407, 0.7554592650906419, 0.7549876440299544, 0.7545182673092827, 0.7540511223657321, 0.7535861967286075, 0.7531234780185223, 0.7526629539465183, 0.7522046123131938, 0.7517484410078431, 0.7512944280076043, 0.7508425613766172, 0.750392829265191, 0.7499452199089809, 0.7494997216281735, 0.7490563228266817, 0.7486150119913497, 0.7481757776911651, 0.7477386085764792, 0.7473034933782404, 0.74687042090723, 0.746439380053312, 0.7460103597846869, 0.7455833491471572, 0.7451583372633999, 0.7447353133322451, 0.7443142666279662, 0.7438951864995761, 0.7434780623701304, 0.7430628837360402, 0.7426496401663915, 0.7422383213022715, 0.7418289168561052, 0.7414214166109953, 0.7410158104200725, 0.740612088205852, 0.7402102399595974, 0.7398102557406905, 0.73941212567601, 0.7390158399593156, 0.7386213888506395, 0.7382287626756845, 0.737837951825228, 0.7374489467545352, 0.7370617379827752, 0.7366763160924454, 0.7362926717288036, 0.7359107955993022, 0.7355306784730344, 0.7351523111801809, 0.7347756846114661, 0.7344007897176197, 0.7340276175088429, 0.7336561590542823, 0.7332864054815075, 0.7329183479759969, 0.7325519777806269, 0.7321872861951675, 0.7318242645757843, 0.731462904334544, 0.7311031969389272, 0.7307451339113452, 0.7303887068286636, 0.7300339073217278, 0.7296807270748982, 0.729329157825587, 0.7289791913638015, 0.7286308195316915, 0.7282840342231033, 0.727938827383135, 0.7275951910077018, 0.7272531171431006, 0.7269125978855834, 0.7265736253809331, 0.7262361918240442, 0.7259002894585089, 0.7255659105762062, 0.7252330475168968, 0.7249016926678215, 0.724571838463304, 0.7242434773843586, 0.7239166019583004, 0.7235912047583628, 0.7232672784033144, 0.7229448155570847, 0.7226238089283916, 0.7223042512703716, 0.7219861353802165, 0.7216694540988121, 0.7213542003103827, 0.7210403669421351, 0.7207279469639127, 0.7204169333878471, 0.7201073192680174, 0.7197990977001117, 0.7194922618210915, 0.7191868048088609, 0.718882719881938, 0.7185800002991316, 0.718278639359218, 0.7179786304006256, 0.7176799668011182, 0.7173826419774859, 0.7170866493852349, 0.7167919825182841, 0.7164986349086633, 0.7162066001262138, 0.7159158717782941, 0.7156264435094865, 0.7153383090013077, 0.7150514619719232, 0.7147658961758627, 0.7144816054037402, 0.7141985834819756, 0.71391682427252, 0.7136363216725844, 0.7133570696143682, 0.7130790620647949, 0.7128022930252464, 0.7125267565313029, 0.7122524466524832, 0.7119793574919895, 0.7117074831864535, 0.7114368179056855, 0.7111673558524253, 0.7108990912620985, 0.71063201840257, 0.710366131573905, 0.71010142510813, 0.7098378933689957, 0.7095755307517437, 0.7093143316828753, 0.7090542906199208, 0.7087954020512137, 0.7085376604956654, 0.7082810605025424, 0.708025596651246, 0.7077712635510938, 0.7075180558411036, 0.70726596818978, 0.7070149952949012, 0.7067651318833098, 0.7065163727107048, 0.7062687125614359, 0.706022146248299, 0.7057766686123351, 0.7055322745226298, 0.7052889588761148, 0.7050467165973726, 0.704805542638442, 0.7045654319786248, 0.7043263796242962, 0.7040883806087158, 0.7038514299918401, 0.7036155228601374, 0.7033806543264045, 0.7031468195295846, 0.7029140136345882, 0.7026822318321129, 0.7024514693384681, 0.7022217213954001, 0.7019929832699171, 0.7017652502541191, 0.7015385176650266, 0.7013127808444122, 0.7010880351586339, 0.7008642759984687, 0.7006414987789494, 0.7004196989392013, 0.700198871942282, 0.699979013275021, 0.6997601184478618, 0.6995421829947055, 0.6993252024727554, 0.6991091724623625, 0.6988940885668741, 0.698679946412482, 0.6984667416480725, 0.6982544699450789, 0.6980431269973334, 0.6978327085209218, 0.6976232102540394, 0.6974146279568467, 0.6972069574113288, 0.6970001944211537, 0.696794334811533, 0.6965893744290841, 0.6963853091416933, 0.6961821348383791, 0.6959798474291586, 0.6957784428449131, 0.6955779170372567, 0.6953782659784046, 0.6951794856610428, 0.6949815720982004, 0.6947845213231205, 0.6945883293891341, 0.694392992369534, 0.6941985063574515, 0.6940048674657314, 0.6938120718268107, 0.6936201155925961, 0.6934289949343448, 0.6932387060425446, 0.6930492451267952, 0.6928606084156913, 0.692672792156706, 0.6924857926160759, 0.6922996060786855, 0.692114228847955, 0.6919296572457269, 0.6917458876121543, 0.6915629163055906, 0.6913807397024802, 0.6911993541972477, 0.6910187562021918, 0.6908389421473776, 0.6906599084805297, 0.6904816516669275, 0.6903041681893002, 0.6901274545477234, 0.6899515072595159, 0.6897763228591377, 0.6896018978980891, 0.6894282289448099, 0.6892553125845797, 0.6890831454194188, 0.6889117240679915, 0.6887410451655068, 0.6885711053636233, 0.6884019013303531, 0.6882334297499659, 0.6880656873228964, 0.6878986707656491, 0.6877323768107066, 0.6875668022064368, 0.6874019437170016, 0.6872377981222665, 0.6870743622177105, 0.6869116328143364, 0.686749606738583, 0.6865882808322362, 0.6864276519523421, 0.6862677169711208, 0.6861084727758795, 0.6859499162689284, 0.6857920443674945, 0.685634854003639, 0.6854783421241728, 0.6853225056905745, 0.6851673416789074, 0.6850128470797389, 0.6848590188980587, 0.6847058541531984, 0.6845533498787528, 0.6844015031224991, 0.6842503109463197, 0.6840997704261234, 0.6839498786517675, 0.6838006327269822, 0.6836520297692934, 0.6835040669099461, 0.6833567412938313, 0.6832100500794088, 0.6830639904386352, 0.6829185595568877, 0.6827737546328942, 0.682629572878658, 0.6824860115193865, 0.6823430677934201, 0.6822007389521609, 0.6820590222600014, 0.6819179149942554, 0.6817774144450877, 0.681637517915445, 0.681498222720988, 0.6813595261900225, 0.6812214256634316, 0.6810839184946089, 0.6809470020493918, 0.6808106737059951, 0.6806749308549443, 0.6805397708990115, 0.6804051912531498, 0.6802711893444288, 0.6801377626119702, 0.6800049085068852, 0.6798726244922098, 0.679740908042843, 0.6796097566454848, 0.6794791677985726, 0.6793491390122214, 0.6792196678081617, 0.6790907517196788, 0.678962388291553, 0.6788345750799993, 0.6787073096526076, 0.6785805895882839, 0.678454412477192, 0.6783287759206936, 0.6782036775312922, 0.6780791149325743, 0.6779550857591522, 0.6778315876566077, 0.6777086182814348, 0.6775861753009843, 0.6774642563934077, 0.6773428592476017, 0.6772219815631533, 0.6771016210502848, 0.6769817754297994, 0.6768624424330283, 0.6767436198017746, 0.6766253052882629, 0.6765074966550837, 0.6763901916751422, 0.6762733881316061, 0.6761570838178522, 0.6760412765374159, 0.6759259641039396, 0.675811144341121, 0.6756968150826635, 0.675582974172225, 0.6754696194633674, 0.6753567488195078, 0.6752443601138681, 0.6751324512294267, 0.6750210200588687, 0.6749100645045374, 0.6747995824783869, 0.6746895719019332, 0.6745800307062065, 0.6744709568317043, 0.6743623482283436, 0.6742542028554147, 0.674146518681534, 0.6740392936845981, 0.6739325258517378, 0.6738262131792715, 0.6737203536726616, 0.6736149453464666, 0.6735099862242986, 0.6734054743387777, 0.673301407731487, 0.6731977844529291, 0.6730946025624823, 0.6729918601283565, 0.6728895552275501, 0.672787685945807, 0.6726862503775732, 0.6725852466259548, 0.6724846728026748, 0.6723845270280319, 0.6722848074308583, 0.6721855121484774, 0.6720866393266632, 0.671988187119599, 0.6718901536898357, 0.6717925372082524, 0.6716953358540144, 0.6715985478145342, 0.6715021712854312, 0.6714062044704915, 0.6713106455816281, 0.6712154928388431, 0.6711207444701863, 0.6710263987117187, 0.6709324538074716, 0.6708389080094096, 0.6707457595773921, 0.670653006779135, 0.6705606478901727, 0.6704686811938207, 0.670377104981139, 0.6702859175508934, 0.6701951172095193, 0.6701047022710853, 0.6700146710572557, 0.6699250218972551, 0.6698357531278314, 0.6697468630932207, 0.6696583501451099, 0.6695702126426034, 0.6694824489521856, 0.6693950574476873, 0.6693080365102494, 0.6692213845282887, 0.6691350998974637, 0.6690491810206396, 0.6689636263078536, 0.6688784341762817, 0.6687936030502046, 0.6687091313609742, 0.6686250175469788, 0.6685412600536113, 0.6684578573332357, 0.6683748078451532, 0.6682921100555708, 0.6682097624375671, 0.6681277634710611, 0.6680461116427796, 0.6679648054462246, 0.6678838433816418, 0.6678032239559885, 0.6677229456829028, 0.667643007082671, 0.667563406682197, 0.667484143014971, 0.6674052146210389, 0.6673266200469707, 0.667248357845831, 0.6671704265771475, 0.6670928248068811, 0.6670155511073961, 0.6669386040574294, 0.6668619822420617, 0.6667856842526868, 0.6667097086869825, 0.6666340541488817, 0.666558719248542, 0.6664837026023183, 0.6664090028327322, 0.6663346185684442, 0.6662605484442248, 0.666186791100926, 0.6661133451854535, 0.6660402093507372, 0.6659673822557047, 0.6658948625652525, 0.6658226489502183, 0.6657507400873537, 0.6656791346592963, 0.6656078313545432, 0.6655368288674228, 0.6654661258980683, 0.6653957211523905, 0.6653256133420514, 0.6652558011844373, 0.6651862834026323, 0.6651170587253918, 0.6650481258871166, 0.6649794836278268, 0.6649111306931348, 0.6648430658342214, 0.6647752878078079, 0.6647077953761323, 0.6646405873069227, 0.6645736623733723, 0.6645070193541148, 0.664440657033198, 0.6643745742000601, 0.6643087696495041, 0.6642432421816739, 0.6641779906020283, 0.6641130137213185, 0.6640483103555614, 0.6639838793260179, 0.6639197194591666, 0.6638558295866814, 0.6637922085454069, 0.6637288551773344, 0.6636657683295787, 0.6636029468543552, 0.6635403896089549, 0.6634780954557227, 0.663416063262033, 0.6633542919002683, 0.6632927802477937, 0.6632315271869369, 0.6631705316049633, 0.6631097923940548, 0.6630493084512863, 0.6629890786786041, 0.6629291019828032, 0.6628693772755053, 0.6628099034731365, 0.6627506794969057, 0.6626917042727827, 0.6626329767314761, 0.662574495808412, 0.6625162604437129, 0.6624582695821749, 0.6624005221732481, 0.6623430171710138, 0.6622857535341651, 0.662228730225984, 0.6621719462143221, 0.6621154004715788, 0.662059091974681, 0.6620030197050627, 0.6619471826486436, 0.6618915797958101, 0.6618362101413938, 0.6617810726846514, 0.6617261664292454, 0.6616714903832237, 0.6616170435589988, 0.6615628249733294, 0.6615088336472998, 0.6614550686063005, 0.6614015288800086, 0.6613482135023682, 0.6612951215115715, 0.6612422519500394, 0.6611896038644014, 0.6611371763054784, 0.6610849683282621, 0.6610329789918964, 0.6609812073596593, 0.6609296524989434, 0.6608783134812377, 0.660827189382109, 0.6607762792811833, 0.6607255822621279, 0.6606750974126318, 0.6606248238243897, 0.6605747605930817, 0.660524906818357, 0.6604752616038148, 0.6604258240569868, 0.6603765932893196, 0.6603275684161573, 0.6602787485567229, 0.6602301328341021, 0.6601817203752247, 0.660133510310848, 0.6600855017755392, 0.6600376939076583, 0.6599900858493412, 0.6599426767464823, 0.6598954657487177, 0.6598484520094086, 0.659801634685624, 0.6597550129381247, 0.6597085859313458, 0.6596623528333813, 0.6596163128159662, 0.6595704650544613, 0.6595248087278364, 0.6594793430186542, 0.6594340671130536, 0.6593889802007352, 0.6593440814749425, 0.659299370132449, 0.6592548453735403, 0.6592105064019993, 0.6591663524250899, 0.6591223826535418, 0.6590785963015346, 0.6590349925866827, 0.6589915707300195, 0.658948329955982, 0.6589052694923959, 0.6588623885704602, 0.6588196864247324, 0.6587771622931123, 0.6587348154168287, 0.6586926450404228, 0.6586506504117347, 0.6586088307818878, 0.6585671854052744, 0.6585257135395405, 0.6584844144455728, 0.658443287387482, 0.6584023316325899, 0.6583615464514142, 0.658320931117655, 0.6582804849081799, 0.65824020710301, 0.6582000969853057, 0.658160153841353, 0.6581203769605486, 0.6580807656353876, 0.658041319161448, 0.6580020368373779, 0.657962917964881, 0.6579239618487045, 0.657885167796623, 0.6578465351194273, 0.6578080631309094, 0.6577697511478503, 0.6577315984900056, 0.657693604480093, 0.6576557684437779, 0.657618089709662, 0.6575805676092685, 0.6575432014770304, 0.6575059906502763, 0.6574689344692187, 0.6574320322769398, 0.6573952834193799, 0.6573586872453242, 0.6573222431063895, 0.6572859503570129, 0.6572498083544378, 0.6572138164587022, 0.6571779740326266, 0.6571422804418002, 0.6571067350545701, 0.657071337242028, 0.6570360863779987, 0.6570009818390271, 0.6569660230043668, 0.6569312092559676, 0.6568965399784639, 0.6568620145591622, 0.6568276323880297, 0.6567933928576821, 0.6567592953633724, 0.656725339302978, 0.6566915240769905, 0.6566578490885029, 0.6566243137431984, 0.6565909174493392, 0.6565576596177548, 0.6565245396618301, 0.6564915569974948, 0.6564587110432121, 0.6564260012199663, 0.6563934269512531, 0.6563609876630675, 0.6563286827838928, 0.6562965117446898, 0.6562644739788859, 0.6562325689223635, 0.6562007960134498, 0.6561691546929055, 0.6561376444039144, 0.6561062645920719, 0.6560750147053754, 0.6560438941942126, 0.6560129025113516, 0.6559820391119298, 0.6559513034534437, 0.6559206949957384, 0.6558902132009974, 0.6558598575337317, 0.6558296274607699, 0.6557995224512473, 0.6557695419765973, 0.6557396855105389, 0.6557099525290685, 0.6556803425104484, 0.6556508549351981, 0.6556214892860831, 0.6555922450481058, 0.655563121708495, 0.6555341187566961, 0.655505235684362, 0.6554764719853426, 0.655447827155675, 0.655419300693574, 0.6553908920994234, 0.6553626008757644, 0.6553344265272877, 0.6553063685608237, 0.6552784264853324, 0.6552505998118946, 0.6552228880537025, 0.6551952907260494, 0.6551678073463221, 0.6551404374339902, 0.6551131805105975, 0.6550860360997525, 0.6550590037271199, 0.6550320829204109, 0.6550052732093743, 0.6549785741257876, 0.6549519852034484, 0.6549255059781643, 0.6548991359877453, 0.6548728747719945, 0.6548467218726987, 0.6548206768336208, 0.6547947392004903, 0.6547689085209942, 0.65474318434477, 0.6547175662233949, 0.6546920537103792], \n",
      " number of iterations =1050, \n"
     ]
    }
   ],
   "source": [
    "print(\"random costs: {}, \\n number of iterations ={}, \".format(costs,count))"
   ]
  },
  {
   "cell_type": "markdown",
   "metadata": {},
   "source": [
    "### Plotting cost vs iterations"
   ]
  },
  {
   "cell_type": "code",
   "execution_count": 30,
   "metadata": {},
   "outputs": [
    {
     "data": {
      "image/png": "[encoded data removed]",
      "text/plain": [
       "<Figure size 864x576 with 1 Axes>"
      ]
     },
     "metadata": {
      "needs_background": "light"
     },
     "output_type": "display_data"
    }
   ],
   "source": [
    "import matplotlib.pyplot as plt\n",
    "\n",
    "plt.figure(figsize = (12,8))\n",
    "plt.plot(costs,'r')\n",
    "plt.legend(['Cost'], loc=5,prop={'size': 15})\n",
    "plt.title(\"Cost vs. Iterations\")\n",
    "plt.xlabel(\"RMSE cost\")\n",
    "plt.ylabel(\"Iterations\")\n",
    "plt.show()"
   ]
  },
  {
   "cell_type": "code",
   "execution_count": 31,
   "metadata": {},
   "outputs": [
    {
     "data": {
      "image/png": "[encoded data removed]",
      "text/plain": [
       "<Figure size 864x576 with 1 Axes>"
      ]
     },
     "metadata": {
      "needs_background": "light"
     },
     "output_type": "display_data"
    }
   ],
   "source": [
    "#Random selected plot\n",
    "plt.figure(figsize = (12,8))\n",
    "plt.plot(rcosts,'b--')\n",
    "plt.legend(['Random Selected Column Cost'], loc=5,prop={'size': 15})\n",
    "plt.title(\"Cost vs. Iterations Random\")\n",
    "plt.xlabel(\"RMSE cost for random\")\n",
    "plt.ylabel(\"Iterations\")\n",
    "plt.show()"
   ]
  },
  {
   "cell_type": "markdown",
   "metadata": {},
   "source": [
    "### Predicting the model output on test dataset"
   ]
  },
  {
   "cell_type": "code",
   "execution_count": 32,
   "metadata": {},
   "outputs": [],
   "source": [
    "y_pred_rand_train = output_lin_reg(np.c_[np.ones(X_rand_train.shape[0]),X_rand_train], thetar)"
   ]
  },
  {
   "cell_type": "code",
   "execution_count": 33,
   "metadata": {},
   "outputs": [],
   "source": [
    "y_pred_train = output_lin_reg(np.c_[np.ones(X_train.shape[0]),X_train], theta)"
   ]
  },
  {
   "cell_type": "code",
   "execution_count": 34,
   "metadata": {},
   "outputs": [
    {
     "data": {
      "text/html": [
       "<div>\n",
       "<style scoped>\n",
       "    .dataframe tbody tr th:only-of-type {\n",
       "        vertical-align: middle;\n",
       "    }\n",
       "\n",
       "    .dataframe tbody tr th {\n",
       "        vertical-align: top;\n",
       "    }\n",
       "\n",
       "    .dataframe thead th {\n",
       "        text-align: right;\n",
       "    }\n",
       "</style>\n",
       "<table border=\"1\" class=\"dataframe\">\n",
       "  <thead>\n",
       "    <tr style=\"text-align: right;\">\n",
       "      <th></th>\n",
       "      <th>Actual Values</th>\n",
       "      <th>Predicted Values</th>\n",
       "    </tr>\n",
       "  </thead>\n",
       "  <tbody>\n",
       "    <tr>\n",
       "      <th>0</th>\n",
       "      <td>6.560497</td>\n",
       "      <td>5.640687</td>\n",
       "    </tr>\n",
       "    <tr>\n",
       "      <th>1</th>\n",
       "      <td>3.989030</td>\n",
       "      <td>3.650009</td>\n",
       "    </tr>\n",
       "    <tr>\n",
       "      <th>2</th>\n",
       "      <td>5.790067</td>\n",
       "      <td>4.562645</td>\n",
       "    </tr>\n",
       "    <tr>\n",
       "      <th>3</th>\n",
       "      <td>4.237543</td>\n",
       "      <td>3.507158</td>\n",
       "    </tr>\n",
       "    <tr>\n",
       "      <th>4</th>\n",
       "      <td>3.700252</td>\n",
       "      <td>4.453154</td>\n",
       "    </tr>\n",
       "    <tr>\n",
       "      <th>...</th>\n",
       "      <td>...</td>\n",
       "      <td>...</td>\n",
       "    </tr>\n",
       "    <tr>\n",
       "      <th>169115</th>\n",
       "      <td>3.497189</td>\n",
       "      <td>4.226828</td>\n",
       "    </tr>\n",
       "    <tr>\n",
       "      <th>169116</th>\n",
       "      <td>6.237089</td>\n",
       "      <td>5.210561</td>\n",
       "    </tr>\n",
       "    <tr>\n",
       "      <th>169117</th>\n",
       "      <td>3.929126</td>\n",
       "      <td>3.697157</td>\n",
       "    </tr>\n",
       "    <tr>\n",
       "      <th>169118</th>\n",
       "      <td>6.783444</td>\n",
       "      <td>4.407621</td>\n",
       "    </tr>\n",
       "    <tr>\n",
       "      <th>169119</th>\n",
       "      <td>4.613907</td>\n",
       "      <td>5.316809</td>\n",
       "    </tr>\n",
       "  </tbody>\n",
       "</table>\n",
       "<p>169120 rows × 2 columns</p>\n",
       "</div>"
      ],
      "text/plain": [
       "        Actual Values  Predicted Values\n",
       "0            6.560497          5.640687\n",
       "1            3.989030          3.650009\n",
       "2            5.790067          4.562645\n",
       "3            4.237543          3.507158\n",
       "4            3.700252          4.453154\n",
       "...               ...               ...\n",
       "169115       3.497189          4.226828\n",
       "169116       6.237089          5.210561\n",
       "169117       3.929126          3.697157\n",
       "169118       6.783444          4.407621\n",
       "169119       4.613907          5.316809\n",
       "\n",
       "[169120 rows x 2 columns]"
      ]
     },
     "execution_count": 34,
     "metadata": {},
     "output_type": "execute_result"
    }
   ],
   "source": [
    "pd.DataFrame(np.c_[y_train, y_pred_train], columns = ['Actual Values', 'Predicted Values'])"
   ]
  },
  {
   "cell_type": "code",
   "execution_count": 35,
   "metadata": {},
   "outputs": [
    {
     "data": {
      "text/html": [
       "<div>\n",
       "<style scoped>\n",
       "    .dataframe tbody tr th:only-of-type {\n",
       "        vertical-align: middle;\n",
       "    }\n",
       "\n",
       "    .dataframe tbody tr th {\n",
       "        vertical-align: top;\n",
       "    }\n",
       "\n",
       "    .dataframe thead th {\n",
       "        text-align: right;\n",
       "    }\n",
       "</style>\n",
       "<table border=\"1\" class=\"dataframe\">\n",
       "  <thead>\n",
       "    <tr style=\"text-align: right;\">\n",
       "      <th></th>\n",
       "      <th>Actual Values</th>\n",
       "      <th>Predicted Values</th>\n",
       "    </tr>\n",
       "  </thead>\n",
       "  <tbody>\n",
       "    <tr>\n",
       "      <th>0</th>\n",
       "      <td>6.560497</td>\n",
       "      <td>5.184593</td>\n",
       "    </tr>\n",
       "    <tr>\n",
       "      <th>1</th>\n",
       "      <td>3.989030</td>\n",
       "      <td>3.826246</td>\n",
       "    </tr>\n",
       "    <tr>\n",
       "      <th>2</th>\n",
       "      <td>5.790067</td>\n",
       "      <td>4.847248</td>\n",
       "    </tr>\n",
       "    <tr>\n",
       "      <th>3</th>\n",
       "      <td>4.237543</td>\n",
       "      <td>4.392351</td>\n",
       "    </tr>\n",
       "    <tr>\n",
       "      <th>4</th>\n",
       "      <td>3.700252</td>\n",
       "      <td>4.182613</td>\n",
       "    </tr>\n",
       "    <tr>\n",
       "      <th>...</th>\n",
       "      <td>...</td>\n",
       "      <td>...</td>\n",
       "    </tr>\n",
       "    <tr>\n",
       "      <th>169115</th>\n",
       "      <td>3.497189</td>\n",
       "      <td>4.460298</td>\n",
       "    </tr>\n",
       "    <tr>\n",
       "      <th>169116</th>\n",
       "      <td>6.237089</td>\n",
       "      <td>5.184523</td>\n",
       "    </tr>\n",
       "    <tr>\n",
       "      <th>169117</th>\n",
       "      <td>3.929126</td>\n",
       "      <td>3.705272</td>\n",
       "    </tr>\n",
       "    <tr>\n",
       "      <th>169118</th>\n",
       "      <td>6.783444</td>\n",
       "      <td>4.437758</td>\n",
       "    </tr>\n",
       "    <tr>\n",
       "      <th>169119</th>\n",
       "      <td>4.613907</td>\n",
       "      <td>5.038608</td>\n",
       "    </tr>\n",
       "  </tbody>\n",
       "</table>\n",
       "<p>169120 rows × 2 columns</p>\n",
       "</div>"
      ],
      "text/plain": [
       "        Actual Values  Predicted Values\n",
       "0            6.560497          5.184593\n",
       "1            3.989030          3.826246\n",
       "2            5.790067          4.847248\n",
       "3            4.237543          4.392351\n",
       "4            3.700252          4.182613\n",
       "...               ...               ...\n",
       "169115       3.497189          4.460298\n",
       "169116       6.237089          5.184523\n",
       "169117       3.929126          3.705272\n",
       "169118       6.783444          4.437758\n",
       "169119       4.613907          5.038608\n",
       "\n",
       "[169120 rows x 2 columns]"
      ]
     },
     "execution_count": 35,
     "metadata": {},
     "output_type": "execute_result"
    }
   ],
   "source": [
    "pd.DataFrame(np.c_[y_rand_train, y_pred_rand_train], columns = ['Actual Values', 'Predicted Values'])"
   ]
  },
  {
   "cell_type": "code",
   "execution_count": 36,
   "metadata": {},
   "outputs": [
    {
     "data": {
      "text/plain": [
       "0.6764446695893828"
      ]
     },
     "execution_count": 36,
     "metadata": {},
     "output_type": "execute_result"
    }
   ],
   "source": [
    "rmse_cost(y_rand_train,  y_pred_rand_train)"
   ]
  },
  {
   "cell_type": "code",
   "execution_count": 37,
   "metadata": {},
   "outputs": [
    {
     "data": {
      "text/plain": [
       "0.6546666463611563"
      ]
     },
     "execution_count": 37,
     "metadata": {},
     "output_type": "execute_result"
    }
   ],
   "source": [
    "rmse_cost(y_train, y_pred_train)"
   ]
  },
  {
   "cell_type": "code",
   "execution_count": 38,
   "metadata": {},
   "outputs": [],
   "source": [
    "y_pred_rand_test = output_lin_reg(np.c_[np.ones(X_rand_test.shape[0]),X_rand_test], thetar)"
   ]
  },
  {
   "cell_type": "code",
   "execution_count": 39,
   "metadata": {},
   "outputs": [],
   "source": [
    "y_pred_test = output_lin_reg(np.c_[np.ones(X_test.shape[0]),X_test], theta)"
   ]
  },
  {
   "cell_type": "code",
   "execution_count": 40,
   "metadata": {},
   "outputs": [
    {
     "data": {
      "text/html": [
       "<div>\n",
       "<style scoped>\n",
       "    .dataframe tbody tr th:only-of-type {\n",
       "        vertical-align: middle;\n",
       "    }\n",
       "\n",
       "    .dataframe tbody tr th {\n",
       "        vertical-align: top;\n",
       "    }\n",
       "\n",
       "    .dataframe thead th {\n",
       "        text-align: right;\n",
       "    }\n",
       "</style>\n",
       "<table border=\"1\" class=\"dataframe\">\n",
       "  <thead>\n",
       "    <tr style=\"text-align: right;\">\n",
       "      <th></th>\n",
       "      <th>Actual Values</th>\n",
       "      <th>Predicted Values</th>\n",
       "    </tr>\n",
       "  </thead>\n",
       "  <tbody>\n",
       "    <tr>\n",
       "      <th>0</th>\n",
       "      <td>5.008065</td>\n",
       "      <td>5.391118</td>\n",
       "    </tr>\n",
       "    <tr>\n",
       "      <th>1</th>\n",
       "      <td>4.226213</td>\n",
       "      <td>5.106650</td>\n",
       "    </tr>\n",
       "    <tr>\n",
       "      <th>2</th>\n",
       "      <td>5.422624</td>\n",
       "      <td>5.147140</td>\n",
       "    </tr>\n",
       "    <tr>\n",
       "      <th>3</th>\n",
       "      <td>3.806718</td>\n",
       "      <td>3.367846</td>\n",
       "    </tr>\n",
       "    <tr>\n",
       "      <th>4</th>\n",
       "      <td>3.828043</td>\n",
       "      <td>3.815011</td>\n",
       "    </tr>\n",
       "    <tr>\n",
       "      <th>...</th>\n",
       "      <td>...</td>\n",
       "      <td>...</td>\n",
       "    </tr>\n",
       "    <tr>\n",
       "      <th>72475</th>\n",
       "      <td>5.280064</td>\n",
       "      <td>5.214956</td>\n",
       "    </tr>\n",
       "    <tr>\n",
       "      <th>72476</th>\n",
       "      <td>3.382694</td>\n",
       "      <td>4.424410</td>\n",
       "    </tr>\n",
       "    <tr>\n",
       "      <th>72477</th>\n",
       "      <td>5.057026</td>\n",
       "      <td>5.128755</td>\n",
       "    </tr>\n",
       "    <tr>\n",
       "      <th>72478</th>\n",
       "      <td>3.369449</td>\n",
       "      <td>5.029670</td>\n",
       "    </tr>\n",
       "    <tr>\n",
       "      <th>72479</th>\n",
       "      <td>5.640896</td>\n",
       "      <td>4.332970</td>\n",
       "    </tr>\n",
       "  </tbody>\n",
       "</table>\n",
       "<p>72480 rows × 2 columns</p>\n",
       "</div>"
      ],
      "text/plain": [
       "       Actual Values  Predicted Values\n",
       "0           5.008065          5.391118\n",
       "1           4.226213          5.106650\n",
       "2           5.422624          5.147140\n",
       "3           3.806718          3.367846\n",
       "4           3.828043          3.815011\n",
       "...              ...               ...\n",
       "72475       5.280064          5.214956\n",
       "72476       3.382694          4.424410\n",
       "72477       5.057026          5.128755\n",
       "72478       3.369449          5.029670\n",
       "72479       5.640896          4.332970\n",
       "\n",
       "[72480 rows x 2 columns]"
      ]
     },
     "execution_count": 40,
     "metadata": {},
     "output_type": "execute_result"
    }
   ],
   "source": [
    "pd.DataFrame(np.c_[y_rand_test, y_pred_rand_test], columns = ['Actual Values', 'Predicted Values'])"
   ]
  },
  {
   "cell_type": "code",
   "execution_count": 41,
   "metadata": {},
   "outputs": [
    {
     "data": {
      "text/html": [
       "<div>\n",
       "<style scoped>\n",
       "    .dataframe tbody tr th:only-of-type {\n",
       "        vertical-align: middle;\n",
       "    }\n",
       "\n",
       "    .dataframe tbody tr th {\n",
       "        vertical-align: top;\n",
       "    }\n",
       "\n",
       "    .dataframe thead th {\n",
       "        text-align: right;\n",
       "    }\n",
       "</style>\n",
       "<table border=\"1\" class=\"dataframe\">\n",
       "  <thead>\n",
       "    <tr style=\"text-align: right;\">\n",
       "      <th></th>\n",
       "      <th>Actual Values</th>\n",
       "      <th>Predicted Values</th>\n",
       "    </tr>\n",
       "  </thead>\n",
       "  <tbody>\n",
       "    <tr>\n",
       "      <th>0</th>\n",
       "      <td>5.008065</td>\n",
       "      <td>5.603147</td>\n",
       "    </tr>\n",
       "    <tr>\n",
       "      <th>1</th>\n",
       "      <td>4.226213</td>\n",
       "      <td>4.452235</td>\n",
       "    </tr>\n",
       "    <tr>\n",
       "      <th>2</th>\n",
       "      <td>5.422624</td>\n",
       "      <td>5.497435</td>\n",
       "    </tr>\n",
       "    <tr>\n",
       "      <th>3</th>\n",
       "      <td>3.806718</td>\n",
       "      <td>3.118827</td>\n",
       "    </tr>\n",
       "    <tr>\n",
       "      <th>4</th>\n",
       "      <td>3.828043</td>\n",
       "      <td>4.092120</td>\n",
       "    </tr>\n",
       "    <tr>\n",
       "      <th>...</th>\n",
       "      <td>...</td>\n",
       "      <td>...</td>\n",
       "    </tr>\n",
       "    <tr>\n",
       "      <th>72475</th>\n",
       "      <td>5.280064</td>\n",
       "      <td>4.262129</td>\n",
       "    </tr>\n",
       "    <tr>\n",
       "      <th>72476</th>\n",
       "      <td>3.382694</td>\n",
       "      <td>4.704189</td>\n",
       "    </tr>\n",
       "    <tr>\n",
       "      <th>72477</th>\n",
       "      <td>5.057026</td>\n",
       "      <td>4.365402</td>\n",
       "    </tr>\n",
       "    <tr>\n",
       "      <th>72478</th>\n",
       "      <td>3.369449</td>\n",
       "      <td>4.908598</td>\n",
       "    </tr>\n",
       "    <tr>\n",
       "      <th>72479</th>\n",
       "      <td>5.640896</td>\n",
       "      <td>4.140676</td>\n",
       "    </tr>\n",
       "  </tbody>\n",
       "</table>\n",
       "<p>72480 rows × 2 columns</p>\n",
       "</div>"
      ],
      "text/plain": [
       "       Actual Values  Predicted Values\n",
       "0           5.008065          5.603147\n",
       "1           4.226213          4.452235\n",
       "2           5.422624          5.497435\n",
       "3           3.806718          3.118827\n",
       "4           3.828043          4.092120\n",
       "...              ...               ...\n",
       "72475       5.280064          4.262129\n",
       "72476       3.382694          4.704189\n",
       "72477       5.057026          4.365402\n",
       "72478       3.369449          4.908598\n",
       "72479       5.640896          4.140676\n",
       "\n",
       "[72480 rows x 2 columns]"
      ]
     },
     "execution_count": 41,
     "metadata": {},
     "output_type": "execute_result"
    }
   ],
   "source": [
    "pd.DataFrame(np.c_[y_test, y_pred_test], columns = ['Actual Values', 'Predicted Values'])"
   ]
  },
  {
   "cell_type": "code",
   "execution_count": 42,
   "metadata": {},
   "outputs": [
    {
     "data": {
      "text/plain": [
       "0.4636928308259549"
      ]
     },
     "execution_count": 42,
     "metadata": {},
     "output_type": "execute_result"
    }
   ],
   "source": [
    "mse_cost(y_rand_test, y_pred_rand_test)"
   ]
  },
  {
   "cell_type": "code",
   "execution_count": 43,
   "metadata": {},
   "outputs": [
    {
     "data": {
      "text/plain": [
       "0.6809499473720186"
      ]
     },
     "execution_count": 43,
     "metadata": {},
     "output_type": "execute_result"
    }
   ],
   "source": [
    "rmse_cost(y_rand_test, y_pred_rand_test)"
   ]
  },
  {
   "cell_type": "code",
   "execution_count": 44,
   "metadata": {},
   "outputs": [
    {
     "data": {
      "text/plain": [
       "0.43391720432804914"
      ]
     },
     "execution_count": 44,
     "metadata": {},
     "output_type": "execute_result"
    }
   ],
   "source": [
    "mse_cost(y_test, y_pred_test)"
   ]
  },
  {
   "cell_type": "code",
   "execution_count": 45,
   "metadata": {},
   "outputs": [
    {
     "data": {
      "text/plain": [
       "0.6587239211749101"
      ]
     },
     "execution_count": 45,
     "metadata": {},
     "output_type": "execute_result"
    }
   ],
   "source": [
    "rmse_cost(y_test, y_pred_test)"
   ]
  },
  {
   "cell_type": "markdown",
   "metadata": {},
   "source": [
    "\n",
    "\n",
    "\n",
    "\n",
    "\n",
    "\n"
   ]
  },
  {
   "cell_type": "markdown",
   "metadata": {},
   "source": [
    "### Verifying  Linear Regression by in-built function python library Scikit-Learn (sklearn)"
   ]
  },
  {
   "cell_type": "code",
   "execution_count": 213,
   "metadata": {},
   "outputs": [],
   "source": [
    "from sklearn.linear_model import LinearRegression "
   ]
  },
  {
   "cell_type": "code",
   "execution_count": 214,
   "metadata": {},
   "outputs": [],
   "source": [
    "model = LinearRegression().fit(X_train, y_train)"
   ]
  },
  {
   "cell_type": "code",
   "execution_count": 215,
   "metadata": {},
   "outputs": [
    {
     "data": {
      "text/plain": [
       "array([ 1.47753443, -1.02232628, -0.11864734, -0.02721665,  0.59731583,\n",
       "       -0.13389811, -0.01831036, -0.19141741, -0.0476231 ])"
      ]
     },
     "execution_count": 215,
     "metadata": {},
     "output_type": "execute_result"
    }
   ],
   "source": [
    "model.coef_"
   ]
  },
  {
   "cell_type": "code",
   "execution_count": 216,
   "metadata": {},
   "outputs": [
    {
     "data": {
      "text/plain": [
       "4.159202564411846"
      ]
     },
     "execution_count": 216,
     "metadata": {},
     "output_type": "execute_result"
    }
   ],
   "source": [
    "model.intercept_"
   ]
  },
  {
   "cell_type": "code",
   "execution_count": 217,
   "metadata": {},
   "outputs": [],
   "source": [
    "y_pred_test = model.predict(X_test)"
   ]
  },
  {
   "cell_type": "code",
   "execution_count": 218,
   "metadata": {},
   "outputs": [],
   "source": [
    "y_pred_train = model.predict(X_train)"
   ]
  },
  {
   "cell_type": "code",
   "execution_count": 44,
   "metadata": {},
   "outputs": [
    {
     "data": {
      "text/html": [
       "<div>\n",
       "<style scoped>\n",
       "    .dataframe tbody tr th:only-of-type {\n",
       "        vertical-align: middle;\n",
       "    }\n",
       "\n",
       "    .dataframe tbody tr th {\n",
       "        vertical-align: top;\n",
       "    }\n",
       "\n",
       "    .dataframe thead th {\n",
       "        text-align: right;\n",
       "    }\n",
       "</style>\n",
       "<table border=\"1\" class=\"dataframe\">\n",
       "  <thead>\n",
       "    <tr style=\"text-align: right;\">\n",
       "      <th></th>\n",
       "      <th>Actual Values</th>\n",
       "      <th>Predicted Values</th>\n",
       "    </tr>\n",
       "  </thead>\n",
       "  <tbody>\n",
       "    <tr>\n",
       "      <th>0</th>\n",
       "      <td>6.560497</td>\n",
       "      <td>5.653689</td>\n",
       "    </tr>\n",
       "    <tr>\n",
       "      <th>1</th>\n",
       "      <td>3.989030</td>\n",
       "      <td>3.626289</td>\n",
       "    </tr>\n",
       "    <tr>\n",
       "      <th>2</th>\n",
       "      <td>5.790067</td>\n",
       "      <td>4.689338</td>\n",
       "    </tr>\n",
       "    <tr>\n",
       "      <th>3</th>\n",
       "      <td>4.237543</td>\n",
       "      <td>3.499250</td>\n",
       "    </tr>\n",
       "    <tr>\n",
       "      <th>4</th>\n",
       "      <td>3.700252</td>\n",
       "      <td>4.517478</td>\n",
       "    </tr>\n",
       "    <tr>\n",
       "      <th>...</th>\n",
       "      <td>...</td>\n",
       "      <td>...</td>\n",
       "    </tr>\n",
       "    <tr>\n",
       "      <th>169115</th>\n",
       "      <td>3.497189</td>\n",
       "      <td>4.403089</td>\n",
       "    </tr>\n",
       "    <tr>\n",
       "      <th>169116</th>\n",
       "      <td>6.237089</td>\n",
       "      <td>5.163262</td>\n",
       "    </tr>\n",
       "    <tr>\n",
       "      <th>169117</th>\n",
       "      <td>3.929126</td>\n",
       "      <td>3.705387</td>\n",
       "    </tr>\n",
       "    <tr>\n",
       "      <th>169118</th>\n",
       "      <td>6.783444</td>\n",
       "      <td>4.465275</td>\n",
       "    </tr>\n",
       "    <tr>\n",
       "      <th>169119</th>\n",
       "      <td>4.613907</td>\n",
       "      <td>5.281145</td>\n",
       "    </tr>\n",
       "  </tbody>\n",
       "</table>\n",
       "<p>169120 rows × 2 columns</p>\n",
       "</div>"
      ],
      "text/plain": [
       "        Actual Values  Predicted Values\n",
       "0            6.560497          5.653689\n",
       "1            3.989030          3.626289\n",
       "2            5.790067          4.689338\n",
       "3            4.237543          3.499250\n",
       "4            3.700252          4.517478\n",
       "...               ...               ...\n",
       "169115       3.497189          4.403089\n",
       "169116       6.237089          5.163262\n",
       "169117       3.929126          3.705387\n",
       "169118       6.783444          4.465275\n",
       "169119       4.613907          5.281145\n",
       "\n",
       "[169120 rows x 2 columns]"
      ]
     },
     "execution_count": 44,
     "metadata": {},
     "output_type": "execute_result"
    }
   ],
   "source": [
    "pd.DataFrame(np.c_[y_train, y_pred_train], columns = ['Actual Values', 'Predicted Values'])"
   ]
  },
  {
   "cell_type": "code",
   "execution_count": 45,
   "metadata": {},
   "outputs": [
    {
     "data": {
      "text/html": [
       "<div>\n",
       "<style scoped>\n",
       "    .dataframe tbody tr th:only-of-type {\n",
       "        vertical-align: middle;\n",
       "    }\n",
       "\n",
       "    .dataframe tbody tr th {\n",
       "        vertical-align: top;\n",
       "    }\n",
       "\n",
       "    .dataframe thead th {\n",
       "        text-align: right;\n",
       "    }\n",
       "</style>\n",
       "<table border=\"1\" class=\"dataframe\">\n",
       "  <thead>\n",
       "    <tr style=\"text-align: right;\">\n",
       "      <th></th>\n",
       "      <th>Actual Values</th>\n",
       "      <th>Predicted Values</th>\n",
       "    </tr>\n",
       "  </thead>\n",
       "  <tbody>\n",
       "    <tr>\n",
       "      <th>0</th>\n",
       "      <td>5.008065</td>\n",
       "      <td>5.453025</td>\n",
       "    </tr>\n",
       "    <tr>\n",
       "      <th>1</th>\n",
       "      <td>4.226213</td>\n",
       "      <td>4.287026</td>\n",
       "    </tr>\n",
       "    <tr>\n",
       "      <th>2</th>\n",
       "      <td>5.422624</td>\n",
       "      <td>5.485123</td>\n",
       "    </tr>\n",
       "    <tr>\n",
       "      <th>3</th>\n",
       "      <td>3.806718</td>\n",
       "      <td>3.057285</td>\n",
       "    </tr>\n",
       "    <tr>\n",
       "      <th>4</th>\n",
       "      <td>3.828043</td>\n",
       "      <td>4.171894</td>\n",
       "    </tr>\n",
       "    <tr>\n",
       "      <th>...</th>\n",
       "      <td>...</td>\n",
       "      <td>...</td>\n",
       "    </tr>\n",
       "    <tr>\n",
       "      <th>72475</th>\n",
       "      <td>5.280064</td>\n",
       "      <td>4.170448</td>\n",
       "    </tr>\n",
       "    <tr>\n",
       "      <th>72476</th>\n",
       "      <td>3.382694</td>\n",
       "      <td>4.509580</td>\n",
       "    </tr>\n",
       "    <tr>\n",
       "      <th>72477</th>\n",
       "      <td>5.057026</td>\n",
       "      <td>4.231236</td>\n",
       "    </tr>\n",
       "    <tr>\n",
       "      <th>72478</th>\n",
       "      <td>3.369449</td>\n",
       "      <td>4.848308</td>\n",
       "    </tr>\n",
       "    <tr>\n",
       "      <th>72479</th>\n",
       "      <td>5.640896</td>\n",
       "      <td>4.153812</td>\n",
       "    </tr>\n",
       "  </tbody>\n",
       "</table>\n",
       "<p>72480 rows × 2 columns</p>\n",
       "</div>"
      ],
      "text/plain": [
       "       Actual Values  Predicted Values\n",
       "0           5.008065          5.453025\n",
       "1           4.226213          4.287026\n",
       "2           5.422624          5.485123\n",
       "3           3.806718          3.057285\n",
       "4           3.828043          4.171894\n",
       "...              ...               ...\n",
       "72475       5.280064          4.170448\n",
       "72476       3.382694          4.509580\n",
       "72477       5.057026          4.231236\n",
       "72478       3.369449          4.848308\n",
       "72479       5.640896          4.153812\n",
       "\n",
       "[72480 rows x 2 columns]"
      ]
     },
     "execution_count": 45,
     "metadata": {},
     "output_type": "execute_result"
    }
   ],
   "source": [
    "pd.DataFrame(np.c_[y_test, y_pred_test], columns = ['Actual Values', 'Predicted Values'])"
   ]
  },
  {
   "cell_type": "code",
   "execution_count": 46,
   "metadata": {},
   "outputs": [
    {
     "data": {
      "text/plain": [
       "0.4263122675177259"
      ]
     },
     "execution_count": 46,
     "metadata": {},
     "output_type": "execute_result"
    }
   ],
   "source": [
    "mse_cost(y_test, y_pred_test)"
   ]
  },
  {
   "cell_type": "code",
   "execution_count": 47,
   "metadata": {},
   "outputs": [
    {
     "data": {
      "text/plain": [
       "0.652925928048294"
      ]
     },
     "execution_count": 47,
     "metadata": {},
     "output_type": "execute_result"
    }
   ],
   "source": [
    "rmse_cost(y_test, y_pred_test)"
   ]
  },
  {
   "cell_type": "code",
   "execution_count": 48,
   "metadata": {},
   "outputs": [
    {
     "data": {
      "text/plain": [
       "0.6484167458525417"
      ]
     },
     "execution_count": 48,
     "metadata": {},
     "output_type": "execute_result"
    }
   ],
   "source": [
    "rmse_cost(y_train, y_pred_train)"
   ]
  },
  {
   "cell_type": "code",
   "execution_count": 219,
   "metadata": {},
   "outputs": [
    {
     "data": {
      "text/plain": [
       "0.6809499473720186"
      ]
     },
     "execution_count": 219,
     "metadata": {},
     "output_type": "execute_result"
    }
   ],
   "source": [
    "rmse_cost(y_rand_test, y_pred_rand_test)"
   ]
  },
  {
   "cell_type": "code",
   "execution_count": null,
   "metadata": {},
   "outputs": [],
   "source": []
  }
 ],
 "metadata": {
  "kernelspec": {
   "display_name": "Python 3",
   "language": "python",
   "name": "python3"
  },
  "language_info": {
   "codemirror_mode": {
    "name": "ipython",
    "version": 3
   },
   "file_extension": ".py",
   "mimetype": "text/x-python",
   "name": "python",
   "nbconvert_exporter": "python",
   "pygments_lexer": "ipython3",
   "version": "3.7.6"
  }
 },
 "nbformat": 4,
 "nbformat_minor": 2
}
