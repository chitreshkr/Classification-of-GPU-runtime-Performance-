{
 "cells": [
  {
   "cell_type": "code",
   "execution_count": 2,
   "metadata": {},
   "outputs": [],
   "source": [
    "import numpy as np\n",
    "import pandas as pd\n",
    "import matplotlib.pyplot as plt\n",
    "import seaborn as sns\n",
    "%matplotlib inline\n",
    "import warnings  \n",
    "warnings.filterwarnings('ignore')"
   ]
  },
  {
   "cell_type": "code",
   "execution_count": 3,
   "metadata": {},
   "outputs": [],
   "source": [
    "df = pd.read_csv('sgemm_product.csv')"
   ]
  },
  {
   "cell_type": "code",
   "execution_count": 4,
   "metadata": {},
   "outputs": [
    {
     "data": {
      "text/html": [
       "<div>\n",
       "<style scoped>\n",
       "    .dataframe tbody tr th:only-of-type {\n",
       "        vertical-align: middle;\n",
       "    }\n",
       "\n",
       "    .dataframe tbody tr th {\n",
       "        vertical-align: top;\n",
       "    }\n",
       "\n",
       "    .dataframe thead th {\n",
       "        text-align: right;\n",
       "    }\n",
       "</style>\n",
       "<table border=\"1\" class=\"dataframe\">\n",
       "  <thead>\n",
       "    <tr style=\"text-align: right;\">\n",
       "      <th></th>\n",
       "      <th>MWG</th>\n",
       "      <th>NWG</th>\n",
       "      <th>KWG</th>\n",
       "      <th>MDIMC</th>\n",
       "      <th>NDIMC</th>\n",
       "      <th>MDIMA</th>\n",
       "      <th>NDIMB</th>\n",
       "      <th>KWI</th>\n",
       "      <th>VWM</th>\n",
       "      <th>VWN</th>\n",
       "      <th>STRM</th>\n",
       "      <th>STRN</th>\n",
       "      <th>SA</th>\n",
       "      <th>SB</th>\n",
       "      <th>Run1 (ms)</th>\n",
       "      <th>Run2 (ms)</th>\n",
       "      <th>Run3 (ms)</th>\n",
       "      <th>Run4 (ms)</th>\n",
       "    </tr>\n",
       "  </thead>\n",
       "  <tbody>\n",
       "    <tr>\n",
       "      <th>0</th>\n",
       "      <td>16</td>\n",
       "      <td>16</td>\n",
       "      <td>16</td>\n",
       "      <td>8</td>\n",
       "      <td>8</td>\n",
       "      <td>8</td>\n",
       "      <td>8</td>\n",
       "      <td>2</td>\n",
       "      <td>1</td>\n",
       "      <td>1</td>\n",
       "      <td>0</td>\n",
       "      <td>0</td>\n",
       "      <td>0</td>\n",
       "      <td>0</td>\n",
       "      <td>115.26</td>\n",
       "      <td>115.87</td>\n",
       "      <td>118.55</td>\n",
       "      <td>115.80</td>\n",
       "    </tr>\n",
       "    <tr>\n",
       "      <th>1</th>\n",
       "      <td>16</td>\n",
       "      <td>16</td>\n",
       "      <td>16</td>\n",
       "      <td>8</td>\n",
       "      <td>8</td>\n",
       "      <td>8</td>\n",
       "      <td>8</td>\n",
       "      <td>2</td>\n",
       "      <td>1</td>\n",
       "      <td>1</td>\n",
       "      <td>0</td>\n",
       "      <td>0</td>\n",
       "      <td>0</td>\n",
       "      <td>1</td>\n",
       "      <td>78.13</td>\n",
       "      <td>78.25</td>\n",
       "      <td>79.25</td>\n",
       "      <td>79.19</td>\n",
       "    </tr>\n",
       "    <tr>\n",
       "      <th>2</th>\n",
       "      <td>16</td>\n",
       "      <td>16</td>\n",
       "      <td>16</td>\n",
       "      <td>8</td>\n",
       "      <td>8</td>\n",
       "      <td>8</td>\n",
       "      <td>8</td>\n",
       "      <td>2</td>\n",
       "      <td>1</td>\n",
       "      <td>1</td>\n",
       "      <td>0</td>\n",
       "      <td>0</td>\n",
       "      <td>1</td>\n",
       "      <td>0</td>\n",
       "      <td>79.84</td>\n",
       "      <td>80.69</td>\n",
       "      <td>80.76</td>\n",
       "      <td>80.97</td>\n",
       "    </tr>\n",
       "    <tr>\n",
       "      <th>3</th>\n",
       "      <td>16</td>\n",
       "      <td>16</td>\n",
       "      <td>16</td>\n",
       "      <td>8</td>\n",
       "      <td>8</td>\n",
       "      <td>8</td>\n",
       "      <td>8</td>\n",
       "      <td>2</td>\n",
       "      <td>1</td>\n",
       "      <td>1</td>\n",
       "      <td>0</td>\n",
       "      <td>0</td>\n",
       "      <td>1</td>\n",
       "      <td>1</td>\n",
       "      <td>84.32</td>\n",
       "      <td>89.90</td>\n",
       "      <td>86.75</td>\n",
       "      <td>85.58</td>\n",
       "    </tr>\n",
       "    <tr>\n",
       "      <th>4</th>\n",
       "      <td>16</td>\n",
       "      <td>16</td>\n",
       "      <td>16</td>\n",
       "      <td>8</td>\n",
       "      <td>8</td>\n",
       "      <td>8</td>\n",
       "      <td>8</td>\n",
       "      <td>2</td>\n",
       "      <td>1</td>\n",
       "      <td>1</td>\n",
       "      <td>0</td>\n",
       "      <td>1</td>\n",
       "      <td>0</td>\n",
       "      <td>0</td>\n",
       "      <td>115.13</td>\n",
       "      <td>121.98</td>\n",
       "      <td>122.73</td>\n",
       "      <td>114.81</td>\n",
       "    </tr>\n",
       "  </tbody>\n",
       "</table>\n",
       "</div>"
      ],
      "text/plain": [
       "   MWG  NWG  KWG  MDIMC  NDIMC  MDIMA  NDIMB  KWI  VWM  VWN  STRM  STRN  SA  \\\n",
       "0   16   16   16      8      8      8      8    2    1    1     0     0   0   \n",
       "1   16   16   16      8      8      8      8    2    1    1     0     0   0   \n",
       "2   16   16   16      8      8      8      8    2    1    1     0     0   1   \n",
       "3   16   16   16      8      8      8      8    2    1    1     0     0   1   \n",
       "4   16   16   16      8      8      8      8    2    1    1     0     1   0   \n",
       "\n",
       "   SB  Run1 (ms)  Run2 (ms)  Run3 (ms)  Run4 (ms)  \n",
       "0   0     115.26     115.87     118.55     115.80  \n",
       "1   1      78.13      78.25      79.25      79.19  \n",
       "2   0      79.84      80.69      80.76      80.97  \n",
       "3   1      84.32      89.90      86.75      85.58  \n",
       "4   0     115.13     121.98     122.73     114.81  "
      ]
     },
     "execution_count": 4,
     "metadata": {},
     "output_type": "execute_result"
    }
   ],
   "source": [
    "df.head()"
   ]
  },
  {
   "cell_type": "code",
   "execution_count": 5,
   "metadata": {},
   "outputs": [
    {
     "data": {
      "text/plain": [
       "Index(['MWG', 'NWG', 'KWG', 'MDIMC', 'NDIMC', 'MDIMA', 'NDIMB', 'KWI', 'VWM',\n",
       "       'VWN', 'STRM', 'STRN', 'SA', 'SB', 'Run1 (ms)', 'Run2 (ms)',\n",
       "       'Run3 (ms)', 'Run4 (ms)'],\n",
       "      dtype='object')"
      ]
     },
     "execution_count": 5,
     "metadata": {},
     "output_type": "execute_result"
    }
   ],
   "source": [
    "df.columns"
   ]
  },
  {
   "cell_type": "code",
   "execution_count": 6,
   "metadata": {},
   "outputs": [
    {
     "data": {
      "text/plain": [
       "MWG          0\n",
       "NWG          0\n",
       "KWG          0\n",
       "MDIMC        0\n",
       "NDIMC        0\n",
       "MDIMA        0\n",
       "NDIMB        0\n",
       "KWI          0\n",
       "VWM          0\n",
       "VWN          0\n",
       "STRM         0\n",
       "STRN         0\n",
       "SA           0\n",
       "SB           0\n",
       "Run1 (ms)    0\n",
       "Run2 (ms)    0\n",
       "Run3 (ms)    0\n",
       "Run4 (ms)    0\n",
       "dtype: int64"
      ]
     },
     "execution_count": 6,
     "metadata": {},
     "output_type": "execute_result"
    }
   ],
   "source": [
    "df.isna().sum()"
   ]
  },
  {
   "cell_type": "code",
   "execution_count": 7,
   "metadata": {},
   "outputs": [],
   "source": [
    "df['Run'] = (df['Run1 (ms)'] + df['Run2 (ms)'] + df['Run3 (ms)'] + df['Run4 (ms)'] )/4\n",
    "data = df.copy()"
   ]
  },
  {
   "cell_type": "code",
   "execution_count": 8,
   "metadata": {},
   "outputs": [
    {
     "data": {
      "text/html": [
       "<div>\n",
       "<style scoped>\n",
       "    .dataframe tbody tr th:only-of-type {\n",
       "        vertical-align: middle;\n",
       "    }\n",
       "\n",
       "    .dataframe tbody tr th {\n",
       "        vertical-align: top;\n",
       "    }\n",
       "\n",
       "    .dataframe thead th {\n",
       "        text-align: right;\n",
       "    }\n",
       "</style>\n",
       "<table border=\"1\" class=\"dataframe\">\n",
       "  <thead>\n",
       "    <tr style=\"text-align: right;\">\n",
       "      <th></th>\n",
       "      <th>MWG</th>\n",
       "      <th>NWG</th>\n",
       "      <th>KWG</th>\n",
       "      <th>MDIMC</th>\n",
       "      <th>NDIMC</th>\n",
       "      <th>MDIMA</th>\n",
       "      <th>NDIMB</th>\n",
       "      <th>KWI</th>\n",
       "      <th>VWM</th>\n",
       "      <th>VWN</th>\n",
       "      <th>STRM</th>\n",
       "      <th>STRN</th>\n",
       "      <th>SA</th>\n",
       "      <th>SB</th>\n",
       "      <th>Run1 (ms)</th>\n",
       "      <th>Run2 (ms)</th>\n",
       "      <th>Run3 (ms)</th>\n",
       "      <th>Run4 (ms)</th>\n",
       "      <th>Run</th>\n",
       "    </tr>\n",
       "  </thead>\n",
       "  <tbody>\n",
       "    <tr>\n",
       "      <th>0</th>\n",
       "      <td>16</td>\n",
       "      <td>16</td>\n",
       "      <td>16</td>\n",
       "      <td>8</td>\n",
       "      <td>8</td>\n",
       "      <td>8</td>\n",
       "      <td>8</td>\n",
       "      <td>2</td>\n",
       "      <td>1</td>\n",
       "      <td>1</td>\n",
       "      <td>0</td>\n",
       "      <td>0</td>\n",
       "      <td>0</td>\n",
       "      <td>0</td>\n",
       "      <td>115.26</td>\n",
       "      <td>115.87</td>\n",
       "      <td>118.55</td>\n",
       "      <td>115.80</td>\n",
       "      <td>116.3700</td>\n",
       "    </tr>\n",
       "    <tr>\n",
       "      <th>1</th>\n",
       "      <td>16</td>\n",
       "      <td>16</td>\n",
       "      <td>16</td>\n",
       "      <td>8</td>\n",
       "      <td>8</td>\n",
       "      <td>8</td>\n",
       "      <td>8</td>\n",
       "      <td>2</td>\n",
       "      <td>1</td>\n",
       "      <td>1</td>\n",
       "      <td>0</td>\n",
       "      <td>0</td>\n",
       "      <td>0</td>\n",
       "      <td>1</td>\n",
       "      <td>78.13</td>\n",
       "      <td>78.25</td>\n",
       "      <td>79.25</td>\n",
       "      <td>79.19</td>\n",
       "      <td>78.7050</td>\n",
       "    </tr>\n",
       "    <tr>\n",
       "      <th>2</th>\n",
       "      <td>16</td>\n",
       "      <td>16</td>\n",
       "      <td>16</td>\n",
       "      <td>8</td>\n",
       "      <td>8</td>\n",
       "      <td>8</td>\n",
       "      <td>8</td>\n",
       "      <td>2</td>\n",
       "      <td>1</td>\n",
       "      <td>1</td>\n",
       "      <td>0</td>\n",
       "      <td>0</td>\n",
       "      <td>1</td>\n",
       "      <td>0</td>\n",
       "      <td>79.84</td>\n",
       "      <td>80.69</td>\n",
       "      <td>80.76</td>\n",
       "      <td>80.97</td>\n",
       "      <td>80.5650</td>\n",
       "    </tr>\n",
       "    <tr>\n",
       "      <th>3</th>\n",
       "      <td>16</td>\n",
       "      <td>16</td>\n",
       "      <td>16</td>\n",
       "      <td>8</td>\n",
       "      <td>8</td>\n",
       "      <td>8</td>\n",
       "      <td>8</td>\n",
       "      <td>2</td>\n",
       "      <td>1</td>\n",
       "      <td>1</td>\n",
       "      <td>0</td>\n",
       "      <td>0</td>\n",
       "      <td>1</td>\n",
       "      <td>1</td>\n",
       "      <td>84.32</td>\n",
       "      <td>89.90</td>\n",
       "      <td>86.75</td>\n",
       "      <td>85.58</td>\n",
       "      <td>86.6375</td>\n",
       "    </tr>\n",
       "    <tr>\n",
       "      <th>4</th>\n",
       "      <td>16</td>\n",
       "      <td>16</td>\n",
       "      <td>16</td>\n",
       "      <td>8</td>\n",
       "      <td>8</td>\n",
       "      <td>8</td>\n",
       "      <td>8</td>\n",
       "      <td>2</td>\n",
       "      <td>1</td>\n",
       "      <td>1</td>\n",
       "      <td>0</td>\n",
       "      <td>1</td>\n",
       "      <td>0</td>\n",
       "      <td>0</td>\n",
       "      <td>115.13</td>\n",
       "      <td>121.98</td>\n",
       "      <td>122.73</td>\n",
       "      <td>114.81</td>\n",
       "      <td>118.6625</td>\n",
       "    </tr>\n",
       "  </tbody>\n",
       "</table>\n",
       "</div>"
      ],
      "text/plain": [
       "   MWG  NWG  KWG  MDIMC  NDIMC  MDIMA  NDIMB  KWI  VWM  VWN  STRM  STRN  SA  \\\n",
       "0   16   16   16      8      8      8      8    2    1    1     0     0   0   \n",
       "1   16   16   16      8      8      8      8    2    1    1     0     0   0   \n",
       "2   16   16   16      8      8      8      8    2    1    1     0     0   1   \n",
       "3   16   16   16      8      8      8      8    2    1    1     0     0   1   \n",
       "4   16   16   16      8      8      8      8    2    1    1     0     1   0   \n",
       "\n",
       "   SB  Run1 (ms)  Run2 (ms)  Run3 (ms)  Run4 (ms)       Run  \n",
       "0   0     115.26     115.87     118.55     115.80  116.3700  \n",
       "1   1      78.13      78.25      79.25      79.19   78.7050  \n",
       "2   0      79.84      80.69      80.76      80.97   80.5650  \n",
       "3   1      84.32      89.90      86.75      85.58   86.6375  \n",
       "4   0     115.13     121.98     122.73     114.81  118.6625  "
      ]
     },
     "execution_count": 8,
     "metadata": {},
     "output_type": "execute_result"
    }
   ],
   "source": [
    "df.head()"
   ]
  },
  {
   "cell_type": "code",
   "execution_count": 9,
   "metadata": {},
   "outputs": [
    {
     "data": {
      "text/html": [
       "<div>\n",
       "<style scoped>\n",
       "    .dataframe tbody tr th:only-of-type {\n",
       "        vertical-align: middle;\n",
       "    }\n",
       "\n",
       "    .dataframe tbody tr th {\n",
       "        vertical-align: top;\n",
       "    }\n",
       "\n",
       "    .dataframe thead th {\n",
       "        text-align: right;\n",
       "    }\n",
       "</style>\n",
       "<table border=\"1\" class=\"dataframe\">\n",
       "  <thead>\n",
       "    <tr style=\"text-align: right;\">\n",
       "      <th></th>\n",
       "      <th>MWG</th>\n",
       "      <th>NWG</th>\n",
       "      <th>KWG</th>\n",
       "      <th>MDIMC</th>\n",
       "      <th>NDIMC</th>\n",
       "      <th>MDIMA</th>\n",
       "      <th>NDIMB</th>\n",
       "      <th>KWI</th>\n",
       "      <th>VWM</th>\n",
       "      <th>VWN</th>\n",
       "      <th>STRM</th>\n",
       "      <th>STRN</th>\n",
       "      <th>SA</th>\n",
       "      <th>SB</th>\n",
       "      <th>Run</th>\n",
       "    </tr>\n",
       "  </thead>\n",
       "  <tbody>\n",
       "    <tr>\n",
       "      <th>0</th>\n",
       "      <td>16</td>\n",
       "      <td>16</td>\n",
       "      <td>16</td>\n",
       "      <td>8</td>\n",
       "      <td>8</td>\n",
       "      <td>8</td>\n",
       "      <td>8</td>\n",
       "      <td>2</td>\n",
       "      <td>1</td>\n",
       "      <td>1</td>\n",
       "      <td>0</td>\n",
       "      <td>0</td>\n",
       "      <td>0</td>\n",
       "      <td>0</td>\n",
       "      <td>116.3700</td>\n",
       "    </tr>\n",
       "    <tr>\n",
       "      <th>1</th>\n",
       "      <td>16</td>\n",
       "      <td>16</td>\n",
       "      <td>16</td>\n",
       "      <td>8</td>\n",
       "      <td>8</td>\n",
       "      <td>8</td>\n",
       "      <td>8</td>\n",
       "      <td>2</td>\n",
       "      <td>1</td>\n",
       "      <td>1</td>\n",
       "      <td>0</td>\n",
       "      <td>0</td>\n",
       "      <td>0</td>\n",
       "      <td>1</td>\n",
       "      <td>78.7050</td>\n",
       "    </tr>\n",
       "    <tr>\n",
       "      <th>2</th>\n",
       "      <td>16</td>\n",
       "      <td>16</td>\n",
       "      <td>16</td>\n",
       "      <td>8</td>\n",
       "      <td>8</td>\n",
       "      <td>8</td>\n",
       "      <td>8</td>\n",
       "      <td>2</td>\n",
       "      <td>1</td>\n",
       "      <td>1</td>\n",
       "      <td>0</td>\n",
       "      <td>0</td>\n",
       "      <td>1</td>\n",
       "      <td>0</td>\n",
       "      <td>80.5650</td>\n",
       "    </tr>\n",
       "    <tr>\n",
       "      <th>3</th>\n",
       "      <td>16</td>\n",
       "      <td>16</td>\n",
       "      <td>16</td>\n",
       "      <td>8</td>\n",
       "      <td>8</td>\n",
       "      <td>8</td>\n",
       "      <td>8</td>\n",
       "      <td>2</td>\n",
       "      <td>1</td>\n",
       "      <td>1</td>\n",
       "      <td>0</td>\n",
       "      <td>0</td>\n",
       "      <td>1</td>\n",
       "      <td>1</td>\n",
       "      <td>86.6375</td>\n",
       "    </tr>\n",
       "    <tr>\n",
       "      <th>4</th>\n",
       "      <td>16</td>\n",
       "      <td>16</td>\n",
       "      <td>16</td>\n",
       "      <td>8</td>\n",
       "      <td>8</td>\n",
       "      <td>8</td>\n",
       "      <td>8</td>\n",
       "      <td>2</td>\n",
       "      <td>1</td>\n",
       "      <td>1</td>\n",
       "      <td>0</td>\n",
       "      <td>1</td>\n",
       "      <td>0</td>\n",
       "      <td>0</td>\n",
       "      <td>118.6625</td>\n",
       "    </tr>\n",
       "  </tbody>\n",
       "</table>\n",
       "</div>"
      ],
      "text/plain": [
       "   MWG  NWG  KWG  MDIMC  NDIMC  MDIMA  NDIMB  KWI  VWM  VWN  STRM  STRN  SA  \\\n",
       "0   16   16   16      8      8      8      8    2    1    1     0     0   0   \n",
       "1   16   16   16      8      8      8      8    2    1    1     0     0   0   \n",
       "2   16   16   16      8      8      8      8    2    1    1     0     0   1   \n",
       "3   16   16   16      8      8      8      8    2    1    1     0     0   1   \n",
       "4   16   16   16      8      8      8      8    2    1    1     0     1   0   \n",
       "\n",
       "   SB       Run  \n",
       "0   0  116.3700  \n",
       "1   1   78.7050  \n",
       "2   0   80.5650  \n",
       "3   1   86.6375  \n",
       "4   0  118.6625  "
      ]
     },
     "execution_count": 9,
     "metadata": {},
     "output_type": "execute_result"
    }
   ],
   "source": [
    "df = df.drop(['Run1 (ms)','Run2 (ms)','Run3 (ms)','Run4 (ms)'],axis=1)\n",
    "df.head()"
   ]
  },
  {
   "cell_type": "code",
   "execution_count": 10,
   "metadata": {},
   "outputs": [],
   "source": [
    "df1 = df.sample(n=5000, random_state=0)\n"
   ]
  },
  {
   "cell_type": "code",
   "execution_count": 11,
   "metadata": {},
   "outputs": [
    {
     "name": "stdout",
     "output_type": "stream",
     "text": [
      "(5000, 15)\n"
     ]
    }
   ],
   "source": [
    "X = df1.iloc[:,:]\n",
    "print(X.shape,)"
   ]
  },
  {
   "cell_type": "code",
   "execution_count": 12,
   "metadata": {},
   "outputs": [],
   "source": [
    "from sklearn.preprocessing import StandardScaler\n",
    "sc = StandardScaler()\n",
    "X = sc.fit_transform(X)"
   ]
  },
  {
   "cell_type": "code",
   "execution_count": 13,
   "metadata": {},
   "outputs": [
    {
     "data": {
      "text/plain": [
       "array([[-0.38027308,  1.16791265, -1.22117997, ..., -1.03087646,\n",
       "         1.00561577,  1.74127624],\n",
       "       [-1.13448388,  1.16791265,  0.81888012, ..., -1.03087646,\n",
       "        -0.99441559, -0.47643727],\n",
       "       [ 1.12814851, -1.49075029, -1.22117997, ..., -1.03087646,\n",
       "        -0.99441559, -0.38599717],\n",
       "       ...,\n",
       "       [-1.13448388,  1.16791265, -1.22117997, ...,  0.97004834,\n",
       "        -0.99441559, -0.46244742],\n",
       "       [-0.38027308, -1.49075029, -1.22117997, ...,  0.97004834,\n",
       "        -0.99441559, -0.46692417],\n",
       "       [-1.13448388,  1.16791265,  0.81888012, ..., -1.03087646,\n",
       "         1.00561577, -0.46152858]])"
      ]
     },
     "execution_count": 13,
     "metadata": {},
     "output_type": "execute_result"
    }
   ],
   "source": [
    "X"
   ]
  },
  {
   "cell_type": "markdown",
   "metadata": {},
   "source": [
    "# PCA "
   ]
  },
  {
   "cell_type": "code",
   "execution_count": 14,
   "metadata": {},
   "outputs": [],
   "source": [
    "from sklearn.decomposition import PCA\n",
    "pca = PCA(n_components=2)\n",
    "principalComponents = pca.fit_transform(X)\n",
    "principalDf = pd.DataFrame(data = principalComponents, columns = ['principal component 1', 'principal component 2'])"
   ]
  },
  {
   "cell_type": "code",
   "execution_count": 15,
   "metadata": {},
   "outputs": [
    {
     "data": {
      "text/html": [
       "<div>\n",
       "<style scoped>\n",
       "    .dataframe tbody tr th:only-of-type {\n",
       "        vertical-align: middle;\n",
       "    }\n",
       "\n",
       "    .dataframe tbody tr th {\n",
       "        vertical-align: top;\n",
       "    }\n",
       "\n",
       "    .dataframe thead th {\n",
       "        text-align: right;\n",
       "    }\n",
       "</style>\n",
       "<table border=\"1\" class=\"dataframe\">\n",
       "  <thead>\n",
       "    <tr style=\"text-align: right;\">\n",
       "      <th></th>\n",
       "      <th>principal component 1</th>\n",
       "      <th>principal component 2</th>\n",
       "    </tr>\n",
       "  </thead>\n",
       "  <tbody>\n",
       "    <tr>\n",
       "      <th>0</th>\n",
       "      <td>1.237188</td>\n",
       "      <td>-0.936636</td>\n",
       "    </tr>\n",
       "    <tr>\n",
       "      <th>1</th>\n",
       "      <td>0.427564</td>\n",
       "      <td>-2.224919</td>\n",
       "    </tr>\n",
       "    <tr>\n",
       "      <th>2</th>\n",
       "      <td>-0.461569</td>\n",
       "      <td>-0.284741</td>\n",
       "    </tr>\n",
       "    <tr>\n",
       "      <th>3</th>\n",
       "      <td>-0.198437</td>\n",
       "      <td>1.230541</td>\n",
       "    </tr>\n",
       "    <tr>\n",
       "      <th>4</th>\n",
       "      <td>1.467021</td>\n",
       "      <td>1.713618</td>\n",
       "    </tr>\n",
       "    <tr>\n",
       "      <th>...</th>\n",
       "      <td>...</td>\n",
       "      <td>...</td>\n",
       "    </tr>\n",
       "    <tr>\n",
       "      <th>4995</th>\n",
       "      <td>0.798714</td>\n",
       "      <td>0.818460</td>\n",
       "    </tr>\n",
       "    <tr>\n",
       "      <th>4996</th>\n",
       "      <td>0.705414</td>\n",
       "      <td>-0.538167</td>\n",
       "    </tr>\n",
       "    <tr>\n",
       "      <th>4997</th>\n",
       "      <td>-0.487938</td>\n",
       "      <td>-1.150684</td>\n",
       "    </tr>\n",
       "    <tr>\n",
       "      <th>4998</th>\n",
       "      <td>-0.712520</td>\n",
       "      <td>-1.745256</td>\n",
       "    </tr>\n",
       "    <tr>\n",
       "      <th>4999</th>\n",
       "      <td>-0.037799</td>\n",
       "      <td>-0.159569</td>\n",
       "    </tr>\n",
       "  </tbody>\n",
       "</table>\n",
       "<p>5000 rows × 2 columns</p>\n",
       "</div>"
      ],
      "text/plain": [
       "      principal component 1  principal component 2\n",
       "0                  1.237188              -0.936636\n",
       "1                  0.427564              -2.224919\n",
       "2                 -0.461569              -0.284741\n",
       "3                 -0.198437               1.230541\n",
       "4                  1.467021               1.713618\n",
       "...                     ...                    ...\n",
       "4995               0.798714               0.818460\n",
       "4996               0.705414              -0.538167\n",
       "4997              -0.487938              -1.150684\n",
       "4998              -0.712520              -1.745256\n",
       "4999              -0.037799              -0.159569\n",
       "\n",
       "[5000 rows x 2 columns]"
      ]
     },
     "execution_count": 15,
     "metadata": {},
     "output_type": "execute_result"
    }
   ],
   "source": [
    "principalDf"
   ]
  },
  {
   "cell_type": "code",
   "execution_count": 16,
   "metadata": {},
   "outputs": [
    {
     "name": "stdout",
     "output_type": "stream",
     "text": [
      "[[ 0.43507372  0.37979685 -0.02726148 -0.11808039 -0.20765144 -0.0349575\n",
      "  -0.06181271 -0.01208162  0.36315453  0.30928554  0.04948974  0.00170998\n",
      "   0.01565796 -0.01341114  0.61078242]\n",
      " [ 0.39638142  0.08545895  0.08446132  0.24088475  0.33543818  0.45760479\n",
      "   0.55820232  0.01344849  0.08181548 -0.34885528 -0.0446854  -0.0654566\n",
      "   0.00255588 -0.01310323  0.04329434]]\n"
     ]
    }
   ],
   "source": [
    "print(pca.components_)"
   ]
  },
  {
   "cell_type": "code",
   "execution_count": 17,
   "metadata": {},
   "outputs": [
    {
     "name": "stdout",
     "output_type": "stream",
     "text": [
      "[1.71552482 1.42782888]\n"
     ]
    }
   ],
   "source": [
    "print(pca.explained_variance_)"
   ]
  },
  {
   "cell_type": "code",
   "execution_count": 23,
   "metadata": {},
   "outputs": [
    {
     "data": {
      "image/png": "[encoded data removed]",
      "text/plain": [
       "<Figure size 432x288 with 2 Axes>"
      ]
     },
     "metadata": {
      "needs_background": "light"
     },
     "output_type": "display_data"
    }
   ],
   "source": [
    "plt.scatter(principalComponents[:, 0], principalComponents[:, 1],\n",
    "            #c=digits.target, \n",
    "            edgecolor='none', alpha=0.5,\n",
    "            cmap=plt.cm.get_cmap('rainbow_r'))\n",
    "plt.xlabel('component 1')\n",
    "plt.ylabel('component 2')\n",
    "plt.colorbar();"
   ]
  },
  {
   "cell_type": "code",
   "execution_count": 19,
   "metadata": {},
   "outputs": [
    {
     "data": {
      "image/png": "[encoded data removed]",
      "text/plain": [
       "<Figure size 432x288 with 1 Axes>"
      ]
     },
     "metadata": {
      "needs_background": "light"
     },
     "output_type": "display_data"
    }
   ],
   "source": [
    "X_new = pca.inverse_transform(principalComponents)\n",
    "plt.scatter(X[:, 0], X[:, 1], alpha=0.2)\n",
    "plt.scatter(X_new[:, 0], X_new[:, 1], alpha=0.8)\n",
    "plt.axis('equal');"
   ]
  },
  {
   "cell_type": "markdown",
   "metadata": {},
   "source": [
    "# K-Means Clustering"
   ]
  },
  {
   "cell_type": "code",
   "execution_count": 20,
   "metadata": {},
   "outputs": [
    {
     "data": {
      "image/png": "[encoded data removed]",
      "text/plain": [
       "<Figure size 432x288 with 1 Axes>"
      ]
     },
     "metadata": {
      "needs_background": "light"
     },
     "output_type": "display_data"
    }
   ],
   "source": [
    "from sklearn.cluster import KMeans\n",
    "wcss = []\n",
    "for i in range(1, 20):\n",
    "    kmeans = KMeans(n_clusters = i, init = 'k-means++', random_state = 42)\n",
    "    kmeans.fit(principalDf)\n",
    "    wcss.append(kmeans.inertia_)\n",
    "plt.plot(range(1, 20), wcss)\n",
    "plt.title('The Elbow Method')\n",
    "plt.xlabel('Number of clusters')\n",
    "plt.ylabel('Sum of Standard Error')\n",
    "plt.show()"
   ]
  },
  {
   "cell_type": "code",
   "execution_count": 27,
   "metadata": {},
   "outputs": [
    {
     "data": {
      "text/html": [
       "<div>\n",
       "<style scoped>\n",
       "    .dataframe tbody tr th:only-of-type {\n",
       "        vertical-align: middle;\n",
       "    }\n",
       "\n",
       "    .dataframe tbody tr th {\n",
       "        vertical-align: top;\n",
       "    }\n",
       "\n",
       "    .dataframe thead th {\n",
       "        text-align: right;\n",
       "    }\n",
       "</style>\n",
       "<table border=\"1\" class=\"dataframe\">\n",
       "  <thead>\n",
       "    <tr style=\"text-align: right;\">\n",
       "      <th></th>\n",
       "      <th>principal component 1</th>\n",
       "      <th>principal component 2</th>\n",
       "    </tr>\n",
       "  </thead>\n",
       "  <tbody>\n",
       "    <tr>\n",
       "      <th>0</th>\n",
       "      <td>1.237188</td>\n",
       "      <td>-0.936636</td>\n",
       "    </tr>\n",
       "    <tr>\n",
       "      <th>1</th>\n",
       "      <td>0.427564</td>\n",
       "      <td>-2.224919</td>\n",
       "    </tr>\n",
       "    <tr>\n",
       "      <th>2</th>\n",
       "      <td>-0.461569</td>\n",
       "      <td>-0.284741</td>\n",
       "    </tr>\n",
       "    <tr>\n",
       "      <th>3</th>\n",
       "      <td>-0.198437</td>\n",
       "      <td>1.230541</td>\n",
       "    </tr>\n",
       "    <tr>\n",
       "      <th>4</th>\n",
       "      <td>1.467021</td>\n",
       "      <td>1.713618</td>\n",
       "    </tr>\n",
       "    <tr>\n",
       "      <th>...</th>\n",
       "      <td>...</td>\n",
       "      <td>...</td>\n",
       "    </tr>\n",
       "    <tr>\n",
       "      <th>4995</th>\n",
       "      <td>0.798714</td>\n",
       "      <td>0.818460</td>\n",
       "    </tr>\n",
       "    <tr>\n",
       "      <th>4996</th>\n",
       "      <td>0.705414</td>\n",
       "      <td>-0.538167</td>\n",
       "    </tr>\n",
       "    <tr>\n",
       "      <th>4997</th>\n",
       "      <td>-0.487938</td>\n",
       "      <td>-1.150684</td>\n",
       "    </tr>\n",
       "    <tr>\n",
       "      <th>4998</th>\n",
       "      <td>-0.712520</td>\n",
       "      <td>-1.745256</td>\n",
       "    </tr>\n",
       "    <tr>\n",
       "      <th>4999</th>\n",
       "      <td>-0.037799</td>\n",
       "      <td>-0.159569</td>\n",
       "    </tr>\n",
       "  </tbody>\n",
       "</table>\n",
       "<p>5000 rows × 2 columns</p>\n",
       "</div>"
      ],
      "text/plain": [
       "      principal component 1  principal component 2\n",
       "0                  1.237188              -0.936636\n",
       "1                  0.427564              -2.224919\n",
       "2                 -0.461569              -0.284741\n",
       "3                 -0.198437               1.230541\n",
       "4                  1.467021               1.713618\n",
       "...                     ...                    ...\n",
       "4995               0.798714               0.818460\n",
       "4996               0.705414              -0.538167\n",
       "4997              -0.487938              -1.150684\n",
       "4998              -0.712520              -1.745256\n",
       "4999              -0.037799              -0.159569\n",
       "\n",
       "[5000 rows x 2 columns]"
      ]
     },
     "execution_count": 27,
     "metadata": {},
     "output_type": "execute_result"
    }
   ],
   "source": [
    "X1 = pd.DataFrame(principalDf)\n",
    "X1"
   ]
  },
  {
   "cell_type": "code",
   "execution_count": 28,
   "metadata": {},
   "outputs": [],
   "source": [
    "kmeans = KMeans(n_clusters = 10, init = 'k-means++', random_state = 42)\n",
    "y_kmeans = kmeans.fit_predict(X1)"
   ]
  },
  {
   "cell_type": "code",
   "execution_count": 29,
   "metadata": {},
   "outputs": [
    {
     "data": {
      "text/plain": [
       "array([0, 7, 5, ..., 9, 9, 5])"
      ]
     },
     "execution_count": 29,
     "metadata": {},
     "output_type": "execute_result"
    }
   ],
   "source": [
    "y_kmeans"
   ]
  },
  {
   "cell_type": "code",
   "execution_count": 30,
   "metadata": {},
   "outputs": [],
   "source": [
    "clustersDf = pd.DataFrame(y_kmeans)\n",
    "clustersDf.columns = ['cluster_predicted']\n",
    "combinedDf = pd.concat([X1, clustersDf], axis = 1).reset_index()"
   ]
  },
  {
   "cell_type": "code",
   "execution_count": 31,
   "metadata": {},
   "outputs": [],
   "source": [
    "combinedDf = combinedDf.drop(columns= 'index')"
   ]
  },
  {
   "cell_type": "code",
   "execution_count": 32,
   "metadata": {},
   "outputs": [
    {
     "data": {
      "text/html": [
       "<div>\n",
       "<style scoped>\n",
       "    .dataframe tbody tr th:only-of-type {\n",
       "        vertical-align: middle;\n",
       "    }\n",
       "\n",
       "    .dataframe tbody tr th {\n",
       "        vertical-align: top;\n",
       "    }\n",
       "\n",
       "    .dataframe thead th {\n",
       "        text-align: right;\n",
       "    }\n",
       "</style>\n",
       "<table border=\"1\" class=\"dataframe\">\n",
       "  <thead>\n",
       "    <tr style=\"text-align: right;\">\n",
       "      <th></th>\n",
       "      <th>principal component 1</th>\n",
       "      <th>principal component 2</th>\n",
       "      <th>cluster_predicted</th>\n",
       "    </tr>\n",
       "  </thead>\n",
       "  <tbody>\n",
       "    <tr>\n",
       "      <th>0</th>\n",
       "      <td>1.237188</td>\n",
       "      <td>-0.936636</td>\n",
       "      <td>0</td>\n",
       "    </tr>\n",
       "    <tr>\n",
       "      <th>1</th>\n",
       "      <td>0.427564</td>\n",
       "      <td>-2.224919</td>\n",
       "      <td>7</td>\n",
       "    </tr>\n",
       "    <tr>\n",
       "      <th>2</th>\n",
       "      <td>-0.461569</td>\n",
       "      <td>-0.284741</td>\n",
       "      <td>5</td>\n",
       "    </tr>\n",
       "    <tr>\n",
       "      <th>3</th>\n",
       "      <td>-0.198437</td>\n",
       "      <td>1.230541</td>\n",
       "      <td>1</td>\n",
       "    </tr>\n",
       "    <tr>\n",
       "      <th>4</th>\n",
       "      <td>1.467021</td>\n",
       "      <td>1.713618</td>\n",
       "      <td>8</td>\n",
       "    </tr>\n",
       "    <tr>\n",
       "      <th>...</th>\n",
       "      <td>...</td>\n",
       "      <td>...</td>\n",
       "      <td>...</td>\n",
       "    </tr>\n",
       "    <tr>\n",
       "      <th>4995</th>\n",
       "      <td>0.798714</td>\n",
       "      <td>0.818460</td>\n",
       "      <td>8</td>\n",
       "    </tr>\n",
       "    <tr>\n",
       "      <th>4996</th>\n",
       "      <td>0.705414</td>\n",
       "      <td>-0.538167</td>\n",
       "      <td>0</td>\n",
       "    </tr>\n",
       "    <tr>\n",
       "      <th>4997</th>\n",
       "      <td>-0.487938</td>\n",
       "      <td>-1.150684</td>\n",
       "      <td>9</td>\n",
       "    </tr>\n",
       "    <tr>\n",
       "      <th>4998</th>\n",
       "      <td>-0.712520</td>\n",
       "      <td>-1.745256</td>\n",
       "      <td>9</td>\n",
       "    </tr>\n",
       "    <tr>\n",
       "      <th>4999</th>\n",
       "      <td>-0.037799</td>\n",
       "      <td>-0.159569</td>\n",
       "      <td>5</td>\n",
       "    </tr>\n",
       "  </tbody>\n",
       "</table>\n",
       "<p>5000 rows × 3 columns</p>\n",
       "</div>"
      ],
      "text/plain": [
       "      principal component 1  principal component 2  cluster_predicted\n",
       "0                  1.237188              -0.936636                  0\n",
       "1                  0.427564              -2.224919                  7\n",
       "2                 -0.461569              -0.284741                  5\n",
       "3                 -0.198437               1.230541                  1\n",
       "4                  1.467021               1.713618                  8\n",
       "...                     ...                    ...                ...\n",
       "4995               0.798714               0.818460                  8\n",
       "4996               0.705414              -0.538167                  0\n",
       "4997              -0.487938              -1.150684                  9\n",
       "4998              -0.712520              -1.745256                  9\n",
       "4999              -0.037799              -0.159569                  5\n",
       "\n",
       "[5000 rows x 3 columns]"
      ]
     },
     "execution_count": 32,
     "metadata": {},
     "output_type": "execute_result"
    }
   ],
   "source": [
    "combinedDf"
   ]
  },
  {
   "cell_type": "code",
   "execution_count": 33,
   "metadata": {},
   "outputs": [
    {
     "data": {
      "text/plain": [
       "array([0, 1, 2, 3, 4, 5, 6, 7, 8, 9])"
      ]
     },
     "execution_count": 33,
     "metadata": {},
     "output_type": "execute_result"
    }
   ],
   "source": [
    "np.unique(combinedDf['cluster_predicted'])"
   ]
  },
  {
   "cell_type": "code",
   "execution_count": 34,
   "metadata": {},
   "outputs": [
    {
     "data": {
      "text/plain": [
       "Index(['MWG', 'NWG', 'KWG', 'MDIMC', 'NDIMC', 'MDIMA', 'NDIMB', 'KWI', 'VWM',\n",
       "       'VWN', 'STRM', 'STRN', 'SA', 'SB', 'Run'],\n",
       "      dtype='object')"
      ]
     },
     "execution_count": 34,
     "metadata": {},
     "output_type": "execute_result"
    }
   ],
   "source": [
    "df.columns"
   ]
  },
  {
   "cell_type": "code",
   "execution_count": 35,
   "metadata": {},
   "outputs": [
    {
     "data": {
      "image/png": "[encoded data removed]",
      "text/plain": [
       "<Figure size 432x288 with 2 Axes>"
      ]
     },
     "metadata": {
      "needs_background": "light"
     },
     "output_type": "display_data"
    }
   ],
   "source": [
    "plt.scatter(principalComponents[:, 0], principalComponents[:, 1],\n",
    "            c=combinedDf['cluster_predicted'], \n",
    "            edgecolor='none', alpha=0.5,\n",
    "            cmap=plt.cm.get_cmap('rainbow_r'))\n",
    "plt.xlabel('component 1')\n",
    "plt.ylabel('component 2')\n",
    "plt.colorbar();"
   ]
  },
  {
   "cell_type": "markdown",
   "metadata": {},
   "source": [
    "# ICA"
   ]
  },
  {
   "cell_type": "code",
   "execution_count": 36,
   "metadata": {},
   "outputs": [],
   "source": [
    "from sklearn.decomposition import FastICA"
   ]
  },
  {
   "cell_type": "code",
   "execution_count": 37,
   "metadata": {},
   "outputs": [],
   "source": [
    "fs_ica = FastICA(n_components=2,random_state=0)"
   ]
  },
  {
   "cell_type": "code",
   "execution_count": 38,
   "metadata": {},
   "outputs": [],
   "source": [
    "X_transformed = fs_ica.fit_transform(X)"
   ]
  },
  {
   "cell_type": "code",
   "execution_count": 39,
   "metadata": {},
   "outputs": [
    {
     "data": {
      "text/plain": [
       "array([[ 1.51528585e-02, -8.62940037e-03],\n",
       "       [ 9.27644166e-03, -2.48402597e-02],\n",
       "       [-4.27990947e-03, -4.29502999e-03],\n",
       "       ...,\n",
       "       [-2.54645294e-03, -1.40937500e-02],\n",
       "       [-3.92700742e-03, -2.17748140e-02],\n",
       "       [-8.53558208e-05, -1.55449916e-03]])"
      ]
     },
     "execution_count": 39,
     "metadata": {},
     "output_type": "execute_result"
    }
   ],
   "source": [
    "X_transformed"
   ]
  },
  {
   "cell_type": "code",
   "execution_count": 40,
   "metadata": {},
   "outputs": [
    {
     "data": {
      "image/png": "[encoded data removed]",
      "text/plain": [
       "<Figure size 432x288 with 1 Axes>"
      ]
     },
     "metadata": {
      "needs_background": "light"
     },
     "output_type": "display_data"
    }
   ],
   "source": [
    "from sklearn.cluster import KMeans\n",
    "wcss = []\n",
    "for i in range(1, 20):\n",
    "    kmeans = KMeans(n_clusters = i, init = 'k-means++', random_state = 42)\n",
    "    kmeans.fit(X_transformed)\n",
    "    wcss.append(kmeans.inertia_)\n",
    "plt.plot(range(1, 20), wcss)\n",
    "plt.title('The Elbow Method')\n",
    "plt.xlabel('Number of clusters')\n",
    "plt.ylabel('Sum of Standard Error')\n",
    "plt.show()"
   ]
  },
  {
   "cell_type": "code",
   "execution_count": 41,
   "metadata": {},
   "outputs": [],
   "source": [
    "kmeans_1 = KMeans(n_clusters = 7, init = 'k-means++', random_state = 42)\n",
    "y_kmeans1 = kmeans_1.fit_predict(X_transformed)"
   ]
  },
  {
   "cell_type": "code",
   "execution_count": 42,
   "metadata": {},
   "outputs": [
    {
     "data": {
      "text/plain": [
       "array([4, 4, 3, ..., 0, 0, 3])"
      ]
     },
     "execution_count": 42,
     "metadata": {},
     "output_type": "execute_result"
    }
   ],
   "source": [
    "y_kmeans1"
   ]
  },
  {
   "cell_type": "code",
   "execution_count": 43,
   "metadata": {},
   "outputs": [],
   "source": [
    "clustersDf1 = pd.DataFrame(y_kmeans1)\n",
    "X_transformed = pd.DataFrame(X_transformed)\n",
    "clustersDf1.columns = ['cluster_predicted']\n",
    "combinedDf1 = pd.concat([X_transformed, clustersDf1], axis = 1).reset_index()"
   ]
  },
  {
   "cell_type": "code",
   "execution_count": 44,
   "metadata": {},
   "outputs": [],
   "source": [
    "combinedDf1 = combinedDf1.drop(columns= 'index')"
   ]
  },
  {
   "cell_type": "code",
   "execution_count": 45,
   "metadata": {},
   "outputs": [
    {
     "data": {
      "text/html": [
       "<div>\n",
       "<style scoped>\n",
       "    .dataframe tbody tr th:only-of-type {\n",
       "        vertical-align: middle;\n",
       "    }\n",
       "\n",
       "    .dataframe tbody tr th {\n",
       "        vertical-align: top;\n",
       "    }\n",
       "\n",
       "    .dataframe thead th {\n",
       "        text-align: right;\n",
       "    }\n",
       "</style>\n",
       "<table border=\"1\" class=\"dataframe\">\n",
       "  <thead>\n",
       "    <tr style=\"text-align: right;\">\n",
       "      <th></th>\n",
       "      <th>0</th>\n",
       "      <th>1</th>\n",
       "      <th>cluster_predicted</th>\n",
       "    </tr>\n",
       "  </thead>\n",
       "  <tbody>\n",
       "    <tr>\n",
       "      <th>0</th>\n",
       "      <td>0.015153</td>\n",
       "      <td>-0.008629</td>\n",
       "      <td>4</td>\n",
       "    </tr>\n",
       "    <tr>\n",
       "      <th>1</th>\n",
       "      <td>0.009276</td>\n",
       "      <td>-0.024840</td>\n",
       "      <td>4</td>\n",
       "    </tr>\n",
       "    <tr>\n",
       "      <th>2</th>\n",
       "      <td>-0.004280</td>\n",
       "      <td>-0.004295</td>\n",
       "      <td>3</td>\n",
       "    </tr>\n",
       "    <tr>\n",
       "      <th>3</th>\n",
       "      <td>-0.004746</td>\n",
       "      <td>0.013789</td>\n",
       "      <td>2</td>\n",
       "    </tr>\n",
       "    <tr>\n",
       "      <th>4</th>\n",
       "      <td>0.011927</td>\n",
       "      <td>0.022668</td>\n",
       "      <td>1</td>\n",
       "    </tr>\n",
       "    <tr>\n",
       "      <th>...</th>\n",
       "      <td>...</td>\n",
       "      <td>...</td>\n",
       "      <td>...</td>\n",
       "    </tr>\n",
       "    <tr>\n",
       "      <th>4995</th>\n",
       "      <td>0.006786</td>\n",
       "      <td>0.011136</td>\n",
       "      <td>1</td>\n",
       "    </tr>\n",
       "    <tr>\n",
       "      <th>4996</th>\n",
       "      <td>0.008493</td>\n",
       "      <td>-0.004932</td>\n",
       "      <td>3</td>\n",
       "    </tr>\n",
       "    <tr>\n",
       "      <th>4997</th>\n",
       "      <td>-0.002546</td>\n",
       "      <td>-0.014094</td>\n",
       "      <td>0</td>\n",
       "    </tr>\n",
       "    <tr>\n",
       "      <th>4998</th>\n",
       "      <td>-0.003927</td>\n",
       "      <td>-0.021775</td>\n",
       "      <td>0</td>\n",
       "    </tr>\n",
       "    <tr>\n",
       "      <th>4999</th>\n",
       "      <td>-0.000085</td>\n",
       "      <td>-0.001554</td>\n",
       "      <td>3</td>\n",
       "    </tr>\n",
       "  </tbody>\n",
       "</table>\n",
       "<p>5000 rows × 3 columns</p>\n",
       "</div>"
      ],
      "text/plain": [
       "             0         1  cluster_predicted\n",
       "0     0.015153 -0.008629                  4\n",
       "1     0.009276 -0.024840                  4\n",
       "2    -0.004280 -0.004295                  3\n",
       "3    -0.004746  0.013789                  2\n",
       "4     0.011927  0.022668                  1\n",
       "...        ...       ...                ...\n",
       "4995  0.006786  0.011136                  1\n",
       "4996  0.008493 -0.004932                  3\n",
       "4997 -0.002546 -0.014094                  0\n",
       "4998 -0.003927 -0.021775                  0\n",
       "4999 -0.000085 -0.001554                  3\n",
       "\n",
       "[5000 rows x 3 columns]"
      ]
     },
     "execution_count": 45,
     "metadata": {},
     "output_type": "execute_result"
    }
   ],
   "source": [
    "combinedDf1"
   ]
  },
  {
   "cell_type": "code",
   "execution_count": 46,
   "metadata": {},
   "outputs": [
    {
     "data": {
      "image/png": "[encoded data removed]",
      "text/plain": [
       "<Figure size 432x288 with 1 Axes>"
      ]
     },
     "metadata": {
      "needs_background": "light"
     },
     "output_type": "display_data"
    }
   ],
   "source": [
    "plt.scatter(X[:, 0], X[:, 4], c=y_kmeans1, s=50, cmap='viridis')\n",
    "\n",
    "centers = kmeans_1.cluster_centers_\n",
    "plt.scatter(centers[:, 0], centers[:, 1], c='red', s=200, alpha=0.5);"
   ]
  },
  {
   "cell_type": "markdown",
   "metadata": {},
   "source": [
    "# Random Projection"
   ]
  },
  {
   "cell_type": "code",
   "execution_count": 47,
   "metadata": {},
   "outputs": [],
   "source": [
    "from sklearn import random_projection\n",
    "rp = random_projection.SparseRandomProjection(n_components=3)"
   ]
  },
  {
   "cell_type": "code",
   "execution_count": 48,
   "metadata": {},
   "outputs": [
    {
     "data": {
      "text/plain": [
       "array([[ 0.35008094, -1.66677926, -2.16788698],\n",
       "       [ 0.94546505,  0.04499465,  0.2401712 ],\n",
       "       [ 0.94546505, -3.30454598,  0.06647109],\n",
       "       ...,\n",
       "       [ 0.34908316,  0.3989286 , -1.99418687],\n",
       "       [ 0.94521101, -3.30454598, -3.10983292],\n",
       "       [ 0.35008094,  2.29644976,  1.17905119]])"
      ]
     },
     "execution_count": 48,
     "metadata": {},
     "output_type": "execute_result"
    }
   ],
   "source": [
    "X_transformed1 = rp.fit_transform(X[:, :14])\n",
    "X_transformed1"
   ]
  },
  {
   "cell_type": "code",
   "execution_count": 49,
   "metadata": {},
   "outputs": [
    {
     "data": {
      "image/png": "[encoded data removed]",
      "text/plain": [
       "<Figure size 432x288 with 1 Axes>"
      ]
     },
     "metadata": {
      "needs_background": "light"
     },
     "output_type": "display_data"
    }
   ],
   "source": [
    "from sklearn.cluster import KMeans\n",
    "wcss = []\n",
    "for i in range(1, 20):\n",
    "    kmeans = KMeans(n_clusters = i, init = 'k-means++', random_state = 42)\n",
    "    kmeans.fit(X_transformed1)\n",
    "    wcss.append(kmeans.inertia_)\n",
    "plt.plot(range(1, 20), wcss)\n",
    "plt.title('The Elbow Method')\n",
    "plt.xlabel('Number of clusters')\n",
    "plt.ylabel('Sum of Standard Error')\n",
    "plt.show()"
   ]
  },
  {
   "cell_type": "code",
   "execution_count": 50,
   "metadata": {},
   "outputs": [],
   "source": [
    "kmeans_2 = KMeans(n_clusters = 5, init = 'k-means++', random_state = 42)\n",
    "y_kmeans2 = kmeans_2.fit_predict(X_transformed1)"
   ]
  },
  {
   "cell_type": "code",
   "execution_count": 51,
   "metadata": {},
   "outputs": [],
   "source": [
    "clustersDf2 = pd.DataFrame(y_kmeans2)\n",
    "X_transformed1 = pd.DataFrame(X_transformed1)\n",
    "clustersDf2.columns = ['cluster_predicted']\n",
    "combinedDf2 = pd.concat([X_transformed1, clustersDf2], axis = 1).reset_index()"
   ]
  },
  {
   "cell_type": "code",
   "execution_count": 52,
   "metadata": {},
   "outputs": [],
   "source": [
    "combinedDf2 = combinedDf2.drop(columns= 'index')"
   ]
  },
  {
   "cell_type": "code",
   "execution_count": 53,
   "metadata": {},
   "outputs": [
    {
     "data": {
      "image/png": "[encoded data removed]",
      "text/plain": [
       "<Figure size 432x288 with 1 Axes>"
      ]
     },
     "metadata": {
      "needs_background": "light"
     },
     "output_type": "display_data"
    }
   ],
   "source": [
    "plt.scatter(X[:, 0], X[:, 4], c=y_kmeans2, s=50, cmap='viridis')\n",
    "\n",
    "centers = kmeans_2.cluster_centers_\n",
    "plt.scatter(centers[:, 0], centers[:, 1], c='red', s=200, alpha=0.5);"
   ]
  },
  {
   "cell_type": "markdown",
   "metadata": {},
   "source": [
    "# Neural Network Implementation"
   ]
  },
  {
   "cell_type": "code",
   "execution_count": null,
   "metadata": {},
   "outputs": [],
   "source": [
    "combinedDf"
   ]
  },
  {
   "cell_type": "code",
   "execution_count": 54,
   "metadata": {},
   "outputs": [],
   "source": [
    "X = combinedDf.iloc[:,:-1]\n",
    "y = combinedDf.iloc[:,-1]"
   ]
  },
  {
   "cell_type": "code",
   "execution_count": 55,
   "metadata": {},
   "outputs": [],
   "source": [
    "from sklearn.model_selection import train_test_split\n",
    "\n",
    "X_train,X_test,y_train,y_test = train_test_split(X,y, test_size=0.3, random_state=42)"
   ]
  },
  {
   "cell_type": "code",
   "execution_count": 56,
   "metadata": {},
   "outputs": [],
   "source": [
    "import keras\n",
    "from keras.models import Sequential\n",
    "from keras.layers import Dense"
   ]
  },
  {
   "cell_type": "code",
   "execution_count": 63,
   "metadata": {},
   "outputs": [],
   "source": [
    "classifier = Sequential()"
   ]
  },
  {
   "cell_type": "code",
   "execution_count": 64,
   "metadata": {},
   "outputs": [],
   "source": [
    "classifier.add(Dense(units = 8, kernel_initializer = 'uniform', activation = 'relu', input_dim = 2))\n"
   ]
  },
  {
   "cell_type": "code",
   "execution_count": 65,
   "metadata": {},
   "outputs": [],
   "source": [
    "# Adding the second hidden layer\n",
    "classifier.add(Dense(units = 8, kernel_initializer = 'uniform', activation = 'relu'))\n",
    "# Adding the output layer\n",
    "classifier.add(Dense(units = 1, kernel_initializer = 'uniform', activation = 'sigmoid'))"
   ]
  },
  {
   "cell_type": "code",
   "execution_count": 66,
   "metadata": {},
   "outputs": [],
   "source": [
    "classifier.compile(optimizer = 'adam', loss = 'binary_crossentropy', metrics = ['accuracy'])"
   ]
  },
  {
   "cell_type": "code",
   "execution_count": 70,
   "metadata": {},
   "outputs": [
    {
     "name": "stdout",
     "output_type": "stream",
     "text": [
      "Train on 3500 samples, validate on 1500 samples\n",
      "Epoch 1/100\n",
      "3500/3500 [==============================] - 0s 37us/step - loss: -55.5068 - accuracy: 0.2206 - val_loss: -55.1214 - val_accuracy: 0.2287\n",
      "Epoch 2/100\n",
      "3500/3500 [==============================] - 0s 31us/step - loss: -55.5068 - accuracy: 0.2206 - val_loss: -55.1217 - val_accuracy: 0.2287\n",
      "Epoch 3/100\n",
      "3500/3500 [==============================] - 0s 31us/step - loss: -55.5068 - accuracy: 0.2206 - val_loss: -55.1218 - val_accuracy: 0.2287\n",
      "Epoch 4/100\n",
      "3500/3500 [==============================] - 0s 31us/step - loss: -55.5068 - accuracy: 0.2206 - val_loss: -55.1222 - val_accuracy: 0.2287\n",
      "Epoch 5/100\n",
      "3500/3500 [==============================] - 0s 31us/step - loss: -55.4912 - accuracy: 0.2191 - val_loss: -55.0904 - val_accuracy: 0.2273\n",
      "Epoch 6/100\n",
      "3500/3500 [==============================] - 0s 32us/step - loss: -55.4898 - accuracy: 0.2191 - val_loss: -55.0921 - val_accuracy: 0.2273\n",
      "Epoch 7/100\n",
      "3500/3500 [==============================] - 0s 33us/step - loss: -55.5010 - accuracy: 0.2197 - val_loss: -55.0980 - val_accuracy: 0.2287\n",
      "Epoch 8/100\n",
      "3500/3500 [==============================] - 0s 31us/step - loss: -55.4921 - accuracy: 0.2194 - val_loss: -55.0824 - val_accuracy: 0.2273\n",
      "Epoch 9/100\n",
      "3500/3500 [==============================] - 0s 32us/step - loss: -55.4777 - accuracy: 0.2183 - val_loss: -55.0992 - val_accuracy: 0.2280\n",
      "Epoch 10/100\n",
      "3500/3500 [==============================] - 0s 33us/step - loss: -55.4890 - accuracy: 0.2189 - val_loss: -55.0876 - val_accuracy: 0.2273\n",
      "Epoch 11/100\n",
      "3500/3500 [==============================] - 0s 31us/step - loss: -55.4991 - accuracy: 0.2197 - val_loss: -55.0952 - val_accuracy: 0.2273\n",
      "Epoch 12/100\n",
      "3500/3500 [==============================] - 0s 31us/step - loss: -55.5033 - accuracy: 0.2203 - val_loss: -55.1037 - val_accuracy: 0.2273\n",
      "Epoch 13/100\n",
      "3500/3500 [==============================] - 0s 31us/step - loss: -55.5025 - accuracy: 0.2203 - val_loss: -55.0932 - val_accuracy: 0.2273\n",
      "Epoch 14/100\n",
      "3500/3500 [==============================] - 0s 33us/step - loss: -55.5007 - accuracy: 0.2200 - val_loss: -55.1041 - val_accuracy: 0.2280\n",
      "Epoch 15/100\n",
      "3500/3500 [==============================] - 0s 31us/step - loss: -55.5038 - accuracy: 0.2203 - val_loss: -55.1103 - val_accuracy: 0.2280\n",
      "Epoch 16/100\n",
      "3500/3500 [==============================] - 0s 34us/step - loss: -55.5059 - accuracy: 0.2203 - val_loss: -55.1147 - val_accuracy: 0.2280\n",
      "Epoch 17/100\n",
      "3500/3500 [==============================] - ETA: 0s - loss: -55.1819 - accuracy: 0.22 - 0s 32us/step - loss: -55.5052 - accuracy: 0.2206 - val_loss: -55.0919 - val_accuracy: 0.2273\n",
      "Epoch 18/100\n",
      "3500/3500 [==============================] - 0s 31us/step - loss: -55.4966 - accuracy: 0.2191 - val_loss: -55.1052 - val_accuracy: 0.2280\n",
      "Epoch 19/100\n",
      "3500/3500 [==============================] - 0s 33us/step - loss: -55.5011 - accuracy: 0.2203 - val_loss: -55.0939 - val_accuracy: 0.2273\n",
      "Epoch 20/100\n",
      "3500/3500 [==============================] - 0s 35us/step - loss: -55.5014 - accuracy: 0.2200 - val_loss: -55.1057 - val_accuracy: 0.2280\n",
      "Epoch 21/100\n",
      "3500/3500 [==============================] - 0s 38us/step - loss: -55.5052 - accuracy: 0.2203 - val_loss: -55.1118 - val_accuracy: 0.2280\n",
      "Epoch 22/100\n",
      "3500/3500 [==============================] - 0s 32us/step - loss: -55.5068 - accuracy: 0.2206 - val_loss: -55.1130 - val_accuracy: 0.2280\n",
      "Epoch 23/100\n",
      "3500/3500 [==============================] - 0s 32us/step - loss: -55.5068 - accuracy: 0.2206 - val_loss: -55.1133 - val_accuracy: 0.2280\n",
      "Epoch 24/100\n",
      "3500/3500 [==============================] - 0s 31us/step - loss: -55.5068 - accuracy: 0.2206 - val_loss: -55.1136 - val_accuracy: 0.2280\n",
      "Epoch 25/100\n",
      "3500/3500 [==============================] - 0s 33us/step - loss: -55.5068 - accuracy: 0.2206 - val_loss: -55.1139 - val_accuracy: 0.2280\n",
      "Epoch 26/100\n",
      "3500/3500 [==============================] - 0s 32us/step - loss: -55.5068 - accuracy: 0.2206 - val_loss: -55.1140 - val_accuracy: 0.2280\n",
      "Epoch 27/100\n",
      "3500/3500 [==============================] - 0s 32us/step - loss: -55.5068 - accuracy: 0.2206 - val_loss: -55.1144 - val_accuracy: 0.2280\n",
      "Epoch 28/100\n",
      "3500/3500 [==============================] - 0s 40us/step - loss: -55.5068 - accuracy: 0.2206 - val_loss: -55.1148 - val_accuracy: 0.2280\n",
      "Epoch 29/100\n",
      "3500/3500 [==============================] - 0s 46us/step - loss: -55.5068 - accuracy: 0.2206 - val_loss: -55.1147 - val_accuracy: 0.2280\n",
      "Epoch 30/100\n",
      "3500/3500 [==============================] - 0s 45us/step - loss: -55.5068 - accuracy: 0.2206 - val_loss: -55.0941 - val_accuracy: 0.2273\n",
      "Epoch 31/100\n",
      "3500/3500 [==============================] - 0s 42us/step - loss: -55.4983 - accuracy: 0.2194 - val_loss: -55.1066 - val_accuracy: 0.2280\n",
      "Epoch 32/100\n",
      "3500/3500 [==============================] - 0s 43us/step - loss: -55.5041 - accuracy: 0.2203 - val_loss: -55.1154 - val_accuracy: 0.2280\n",
      "Epoch 33/100\n",
      "3500/3500 [==============================] - 0s 46us/step - loss: -55.5065 - accuracy: 0.2203 - val_loss: -55.1195 - val_accuracy: 0.2287\n",
      "Epoch 34/100\n",
      "3500/3500 [==============================] - 0s 43us/step - loss: -55.5068 - accuracy: 0.2206 - val_loss: -55.1201 - val_accuracy: 0.2287\n",
      "Epoch 35/100\n",
      "3500/3500 [==============================] - 0s 47us/step - loss: -55.5013 - accuracy: 0.2194 - val_loss: -55.1036 - val_accuracy: 0.2280\n",
      "Epoch 36/100\n",
      "3500/3500 [==============================] - 0s 46us/step - loss: -55.5028 - accuracy: 0.2203 - val_loss: -55.1137 - val_accuracy: 0.2280\n",
      "Epoch 37/100\n",
      "3500/3500 [==============================] - 0s 44us/step - loss: -55.5051 - accuracy: 0.2203 - val_loss: -55.0900 - val_accuracy: 0.2273\n",
      "Epoch 38/100\n",
      "3500/3500 [==============================] - 0s 43us/step - loss: -55.4925 - accuracy: 0.2191 - val_loss: -55.1018 - val_accuracy: 0.2280\n",
      "Epoch 39/100\n",
      "3500/3500 [==============================] - 0s 44us/step - loss: -55.5040 - accuracy: 0.2200 - val_loss: -55.1177 - val_accuracy: 0.2287\n",
      "Epoch 40/100\n",
      "3500/3500 [==============================] - 0s 42us/step - loss: -55.5037 - accuracy: 0.2194 - val_loss: -55.0848 - val_accuracy: 0.2273\n",
      "Epoch 41/100\n",
      "3500/3500 [==============================] - 0s 42us/step - loss: -55.5026 - accuracy: 0.2197 - val_loss: -55.1088 - val_accuracy: 0.2287\n",
      "Epoch 42/100\n",
      "3500/3500 [==============================] - 0s 45us/step - loss: -55.4686 - accuracy: 0.2183 - val_loss: -55.1054 - val_accuracy: 0.2287\n",
      "Epoch 43/100\n",
      "3500/3500 [==============================] - 0s 42us/step - loss: -55.4984 - accuracy: 0.2194 - val_loss: -55.0986 - val_accuracy: 0.2280\n",
      "Epoch 44/100\n",
      "3500/3500 [==============================] - 0s 41us/step - loss: -55.5026 - accuracy: 0.2203 - val_loss: -55.0864 - val_accuracy: 0.2273\n",
      "Epoch 45/100\n",
      "3500/3500 [==============================] - 0s 45us/step - loss: -55.4959 - accuracy: 0.2194 - val_loss: -55.0881 - val_accuracy: 0.2273\n",
      "Epoch 46/100\n",
      "3500/3500 [==============================] - 0s 43us/step - loss: -55.4992 - accuracy: 0.2197 - val_loss: -55.0955 - val_accuracy: 0.2280\n",
      "Epoch 47/100\n",
      "3500/3500 [==============================] - 0s 45us/step - loss: -55.5038 - accuracy: 0.2203 - val_loss: -55.1092 - val_accuracy: 0.2280\n",
      "Epoch 48/100\n",
      "3500/3500 [==============================] - 0s 49us/step - loss: -55.5060 - accuracy: 0.2203 - val_loss: -55.1152 - val_accuracy: 0.2287\n",
      "Epoch 49/100\n",
      "3500/3500 [==============================] - 0s 48us/step - loss: -55.4964 - accuracy: 0.2197 - val_loss: -55.0834 - val_accuracy: 0.2273\n",
      "Epoch 50/100\n",
      "3500/3500 [==============================] - 0s 44us/step - loss: -55.4994 - accuracy: 0.2197 - val_loss: -55.0917 - val_accuracy: 0.2273\n",
      "Epoch 51/100\n",
      "3500/3500 [==============================] - 0s 45us/step - loss: -55.5035 - accuracy: 0.2203 - val_loss: -55.0991 - val_accuracy: 0.2273\n",
      "Epoch 52/100\n",
      "3500/3500 [==============================] - 0s 44us/step - loss: -55.5057 - accuracy: 0.2203 - val_loss: -55.1074 - val_accuracy: 0.2280\n",
      "Epoch 53/100\n",
      "3500/3500 [==============================] - 0s 44us/step - loss: -55.5006 - accuracy: 0.2197 - val_loss: -55.1023 - val_accuracy: 0.2280\n",
      "Epoch 54/100\n",
      "3500/3500 [==============================] - 0s 44us/step - loss: -55.5050 - accuracy: 0.2203 - val_loss: -55.1090 - val_accuracy: 0.2280\n"
     ]
    },
    {
     "name": "stdout",
     "output_type": "stream",
     "text": [
      "Epoch 55/100\n",
      "3500/3500 [==============================] - 0s 46us/step - loss: -55.5067 - accuracy: 0.2206 - val_loss: -55.1115 - val_accuracy: 0.2280\n",
      "Epoch 56/100\n",
      "3500/3500 [==============================] - 0s 45us/step - loss: -55.5068 - accuracy: 0.2206 - val_loss: -55.0915 - val_accuracy: 0.2273\n",
      "Epoch 57/100\n",
      "3500/3500 [==============================] - 0s 45us/step - loss: -55.4993 - accuracy: 0.2194 - val_loss: -55.0911 - val_accuracy: 0.2273\n",
      "Epoch 58/100\n",
      "3500/3500 [==============================] - 0s 43us/step - loss: -55.5025 - accuracy: 0.2200 - val_loss: -55.1040 - val_accuracy: 0.2280\n",
      "Epoch 59/100\n",
      "3500/3500 [==============================] - 0s 43us/step - loss: -55.5013 - accuracy: 0.2200 - val_loss: -55.0973 - val_accuracy: 0.2273\n",
      "Epoch 60/100\n",
      "3500/3500 [==============================] - 0s 45us/step - loss: -55.5033 - accuracy: 0.2200 - val_loss: -55.1086 - val_accuracy: 0.2280\n",
      "Epoch 61/100\n",
      "3500/3500 [==============================] - 0s 42us/step - loss: -55.5060 - accuracy: 0.2203 - val_loss: -55.1143 - val_accuracy: 0.2287\n",
      "Epoch 62/100\n",
      "3500/3500 [==============================] - 0s 45us/step - loss: -55.5068 - accuracy: 0.2206 - val_loss: -55.1147 - val_accuracy: 0.2287\n",
      "Epoch 63/100\n",
      "3500/3500 [==============================] - 0s 43us/step - loss: -55.5068 - accuracy: 0.2206 - val_loss: -55.1147 - val_accuracy: 0.2287\n",
      "Epoch 64/100\n",
      "3500/3500 [==============================] - 0s 42us/step - loss: -55.5068 - accuracy: 0.2206 - val_loss: -55.1148 - val_accuracy: 0.2287\n",
      "Epoch 65/100\n",
      "3500/3500 [==============================] - 0s 41us/step - loss: -55.5068 - accuracy: 0.2206 - val_loss: -55.1150 - val_accuracy: 0.2287\n",
      "Epoch 66/100\n",
      "3500/3500 [==============================] - 0s 44us/step - loss: -55.5068 - accuracy: 0.2206 - val_loss: -55.1151 - val_accuracy: 0.2287\n",
      "Epoch 67/100\n",
      "3500/3500 [==============================] - 0s 45us/step - loss: -55.5068 - accuracy: 0.2206 - val_loss: -55.1154 - val_accuracy: 0.2287\n",
      "Epoch 68/100\n",
      "3500/3500 [==============================] - 0s 43us/step - loss: -55.5068 - accuracy: 0.2206 - val_loss: -55.1155 - val_accuracy: 0.2287\n",
      "Epoch 69/100\n",
      "3500/3500 [==============================] - 0s 46us/step - loss: -55.5068 - accuracy: 0.2206 - val_loss: -55.1157 - val_accuracy: 0.2287\n",
      "Epoch 70/100\n",
      "3500/3500 [==============================] - 0s 44us/step - loss: -55.5036 - accuracy: 0.2191 - val_loss: -55.0870 - val_accuracy: 0.2273\n",
      "Epoch 71/100\n",
      "3500/3500 [==============================] - 0s 42us/step - loss: -55.5032 - accuracy: 0.2200 - val_loss: -55.1138 - val_accuracy: 0.2280\n",
      "Epoch 72/100\n",
      "3500/3500 [==============================] - 0s 42us/step - loss: -55.5059 - accuracy: 0.2203 - val_loss: -55.1222 - val_accuracy: 0.2293\n",
      "Epoch 73/100\n",
      "3500/3500 [==============================] - 0s 47us/step - loss: -55.5068 - accuracy: 0.2206 - val_loss: -55.0960 - val_accuracy: 0.2273\n",
      "Epoch 74/100\n",
      "3500/3500 [==============================] - 0s 47us/step - loss: -55.5004 - accuracy: 0.2194 - val_loss: -55.1188 - val_accuracy: 0.2293\n",
      "Epoch 75/100\n",
      "3500/3500 [==============================] - 0s 40us/step - loss: -55.4895 - accuracy: 0.2200 - val_loss: -55.0911 - val_accuracy: 0.2273\n",
      "Epoch 76/100\n",
      "3500/3500 [==============================] - 0s 46us/step - loss: -55.4941 - accuracy: 0.2197 - val_loss: -55.1031 - val_accuracy: 0.2280\n",
      "Epoch 77/100\n",
      "3500/3500 [==============================] - 0s 44us/step - loss: -55.5025 - accuracy: 0.2197 - val_loss: -55.1221 - val_accuracy: 0.2287\n",
      "Epoch 78/100\n",
      "3500/3500 [==============================] - 0s 42us/step - loss: -55.5067 - accuracy: 0.2206 - val_loss: -55.1239 - val_accuracy: 0.2293\n",
      "Epoch 79/100\n",
      "3500/3500 [==============================] - 0s 42us/step - loss: -55.5002 - accuracy: 0.2197 - val_loss: -55.1100 - val_accuracy: 0.2287\n",
      "Epoch 80/100\n",
      "3500/3500 [==============================] - 0s 44us/step - loss: -55.5028 - accuracy: 0.2200 - val_loss: -55.1188 - val_accuracy: 0.2287\n",
      "Epoch 81/100\n",
      "3500/3500 [==============================] - 0s 45us/step - loss: -55.5049 - accuracy: 0.2203 - val_loss: -55.1264 - val_accuracy: 0.2293\n",
      "Epoch 82/100\n",
      "3500/3500 [==============================] - 0s 44us/step - loss: -55.4937 - accuracy: 0.2194 - val_loss: -55.1003 - val_accuracy: 0.2280\n",
      "Epoch 83/100\n",
      "3500/3500 [==============================] - 0s 44us/step - loss: -55.4992 - accuracy: 0.2200 - val_loss: -55.1121 - val_accuracy: 0.2287\n",
      "Epoch 84/100\n",
      "3500/3500 [==============================] - 0s 48us/step - loss: -55.5044 - accuracy: 0.2203 - val_loss: -55.1214 - val_accuracy: 0.2287\n",
      "Epoch 85/100\n",
      "3500/3500 [==============================] - 0s 46us/step - loss: -55.5064 - accuracy: 0.2203 - val_loss: -55.1186 - val_accuracy: 0.2287\n",
      "Epoch 86/100\n",
      "3500/3500 [==============================] - 0s 44us/step - loss: -55.5005 - accuracy: 0.2194 - val_loss: -55.1165 - val_accuracy: 0.2287\n",
      "Epoch 87/100\n",
      "3500/3500 [==============================] - 0s 45us/step - loss: -55.5035 - accuracy: 0.2203 - val_loss: -55.1227 - val_accuracy: 0.2293\n",
      "Epoch 88/100\n",
      "3500/3500 [==============================] - 0s 51us/step - loss: -55.5010 - accuracy: 0.2200 - val_loss: -55.0960 - val_accuracy: 0.2280\n",
      "Epoch 89/100\n",
      "3500/3500 [==============================] - 0s 51us/step - loss: -55.4967 - accuracy: 0.2194 - val_loss: -55.1051 - val_accuracy: 0.2280\n",
      "Epoch 90/100\n",
      "3500/3500 [==============================] - 0s 51us/step - loss: -55.5008 - accuracy: 0.2200 - val_loss: -55.1105 - val_accuracy: 0.2287\n",
      "Epoch 91/100\n",
      "3500/3500 [==============================] - 0s 51us/step - loss: -55.5038 - accuracy: 0.2203 - val_loss: -55.1217 - val_accuracy: 0.2287\n",
      "Epoch 92/100\n",
      "3500/3500 [==============================] - 0s 50us/step - loss: -55.4985 - accuracy: 0.2194 - val_loss: -55.1102 - val_accuracy: 0.2287\n",
      "Epoch 93/100\n",
      "3500/3500 [==============================] - 0s 62us/step - loss: -55.5052 - accuracy: 0.2203 - val_loss: -55.1245 - val_accuracy: 0.2293\n",
      "Epoch 94/100\n",
      "3500/3500 [==============================] - 0s 57us/step - loss: -55.5068 - accuracy: 0.2206 - val_loss: -55.1249 - val_accuracy: 0.2293\n",
      "Epoch 95/100\n",
      "3500/3500 [==============================] - 0s 60us/step - loss: -55.5068 - accuracy: 0.2206 - val_loss: -55.1250 - val_accuracy: 0.2293\n",
      "Epoch 96/100\n",
      "3500/3500 [==============================] - 0s 50us/step - loss: -55.5068 - accuracy: 0.2206 - val_loss: -55.1253 - val_accuracy: 0.2293\n",
      "Epoch 97/100\n",
      "3500/3500 [==============================] - 0s 51us/step - loss: -55.5068 - accuracy: 0.2206 - val_loss: -55.1257 - val_accuracy: 0.2293\n",
      "Epoch 98/100\n",
      "3500/3500 [==============================] - 0s 52us/step - loss: -55.5068 - accuracy: 0.2206 - val_loss: -55.1255 - val_accuracy: 0.2293\n",
      "Epoch 99/100\n",
      "3500/3500 [==============================] - 0s 51us/step - loss: -55.5068 - accuracy: 0.2206 - val_loss: -55.1257 - val_accuracy: 0.2293\n",
      "Epoch 100/100\n",
      "3500/3500 [==============================] - 0s 50us/step - loss: -55.5068 - accuracy: 0.2206 - val_loss: -55.1258 - val_accuracy: 0.2293\n"
     ]
    }
   ],
   "source": [
    "classifier_fit = classifier.fit(X_train, y_train,validation_data=(X_test,y_test), batch_size = 32, epochs = 100)"
   ]
  },
  {
   "cell_type": "code",
   "execution_count": null,
   "metadata": {},
   "outputs": [],
   "source": []
  },
  {
   "cell_type": "code",
   "execution_count": null,
   "metadata": {},
   "outputs": [],
   "source": []
  }
 ],
 "metadata": {
  "kernelspec": {
   "display_name": "Python 3",
   "language": "python",
   "name": "python3"
  },
  "language_info": {
   "codemirror_mode": {
    "name": "ipython",
    "version": 3
   },
   "file_extension": ".py",
   "mimetype": "text/x-python",
   "name": "python",
   "nbconvert_exporter": "python",
   "pygments_lexer": "ipython3",
   "version": "3.7.6"
  }
 },
 "nbformat": 4,
 "nbformat_minor": 4
}
