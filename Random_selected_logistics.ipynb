{
  "nbformat": 4,
  "nbformat_minor": 0,
  "metadata": {
    "colab": {
      "name": "Random_selected_logistics.ipynb",
      "provenance": []
    },
    "kernelspec": {
      "name": "python3",
      "display_name": "Python 3"
    }
  },
  "cells": [
    {
      "cell_type": "code",
      "metadata": {
        "id": "ZzyiXsvc8tv8",
        "colab_type": "code",
        "colab": {}
      },
      "source": [
        "import pandas as pd\n",
        "import numpy as np"
      ],
      "execution_count": 0,
      "outputs": []
    },
    {
      "cell_type": "code",
      "metadata": {
        "id": "A8vD2qdg81VW",
        "colab_type": "code",
        "colab": {}
      },
      "source": [
        "df = pd.read_csv('sgemm_product.csv')\n"
      ],
      "execution_count": 0,
      "outputs": []
    },
    {
      "cell_type": "code",
      "metadata": {
        "id": "Qtm1PyKQ82Mr",
        "colab_type": "code",
        "colab": {}
      },
      "source": [
        "#Making the Mean Run Time as the target variable.\n",
        "df2 = df.assign(RunMean = (df['Run1 (ms)'] + df['Run2 (ms)']  + df['Run3 (ms)']  + df['Run4 (ms)'] )/4)\n",
        "df2 = df2.drop(columns=['Run1 (ms)','Run2 (ms)','Run3 (ms)','Run4 (ms)'])"
      ],
      "execution_count": 0,
      "outputs": []
    },
    {
      "cell_type": "code",
      "metadata": {
        "id": "038b3DUt85p_",
        "colab_type": "code",
        "colab": {}
      },
      "source": [
        "#Creating the feature and Target Variables\n",
        "X = df2.iloc[:,:14]\n",
        "y = df2['RunMean']"
      ],
      "execution_count": 0,
      "outputs": []
    },
    {
      "cell_type": "code",
      "metadata": {
        "id": "e2EJiiUv874V",
        "colab_type": "code",
        "colab": {}
      },
      "source": [
        "from sklearn.preprocessing import StandardScaler\n",
        "X.iloc[:,:10] = StandardScaler().fit_transform(X.iloc[:,:10])\n",
        "y_mean = y.mean()\n",
        "y_sd = y.std()\n",
        "y = (y-y_mean)/y_sd"
      ],
      "execution_count": 0,
      "outputs": []
    },
    {
      "cell_type": "code",
      "metadata": {
        "id": "7FypQJta8-rg",
        "colab_type": "code",
        "colab": {}
      },
      "source": [
        "from sklearn.model_selection import train_test_split\n",
        "X_train, X_test, y_train, y_test = train_test_split(X, y, test_size=0.3, random_state=42)\n"
      ],
      "execution_count": 0,
      "outputs": []
    },
    {
      "cell_type": "code",
      "metadata": {
        "id": "jNfhBno49C5Z",
        "colab_type": "code",
        "colab": {}
      },
      "source": [
        "from sklearn.preprocessing import StandardScaler\n",
        "X.iloc[:,:10] = StandardScaler().fit_transform(X.iloc[:,:10])"
      ],
      "execution_count": 0,
      "outputs": []
    },
    {
      "cell_type": "code",
      "metadata": {
        "id": "sgXMFvx49DhL",
        "colab_type": "code",
        "colab": {}
      },
      "source": [
        "X_10R = X[['MWG', 'KWG', 'NDIMC', 'KWI', 'VWM','VWN', 'SA', 'SB']] "
      ],
      "execution_count": 0,
      "outputs": []
    },
    {
      "cell_type": "code",
      "metadata": {
        "id": "qboFOt5i9Lac",
        "colab_type": "code",
        "colab": {}
      },
      "source": [
        "y_mean = y.mean()\n",
        "y_sd = y.std()\n",
        "y = (y-y_mean)/y_sd"
      ],
      "execution_count": 0,
      "outputs": []
    },
    {
      "cell_type": "code",
      "metadata": {
        "id": "kwdPUuUX9NZN",
        "colab_type": "code",
        "colab": {}
      },
      "source": [
        "from sklearn.model_selection import train_test_split\n",
        "X_train, X_test, y_train, y_test = train_test_split(X_10R, y, test_size=0.4, random_state=42)\n"
      ],
      "execution_count": 0,
      "outputs": []
    },
    {
      "cell_type": "code",
      "metadata": {
        "id": "FDcnzs0V9Q5v",
        "colab_type": "code",
        "colab": {}
      },
      "source": [
        "y_train_class = []\n",
        "for i in y_train:\n",
        "    if i > -0.40076444381591425:\n",
        "        x = 1\n",
        "        y_train_class.append(x)\n",
        "    else:\n",
        "        x = 0\n",
        "        y_train_class.append(x)\n",
        "\n",
        "y_test_class = []\n",
        "for i in y_test:\n",
        "    if i > -0.40076444381591425:\n",
        "        x = 1\n",
        "        y_test_class.append(x)\n",
        "    else:\n",
        "        x = 0\n",
        "        y_test_class.append(x)\n",
        "        \n",
        "n_samples, n_features = X_train.shape"
      ],
      "execution_count": 0,
      "outputs": []
    },
    {
      "cell_type": "code",
      "metadata": {
        "id": "iEK4rsgK-BOJ",
        "colab_type": "code",
        "colab": {}
      },
      "source": [
        "def sigmoid(x):\n",
        "    return 1 / (1 + np.exp(-x))"
      ],
      "execution_count": 0,
      "outputs": []
    },
    {
      "cell_type": "code",
      "metadata": {
        "id": "udpnbY7Z9R4M",
        "colab_type": "code",
        "colab": {
          "base_uri": "https://localhost:8080/",
          "height": 50
        },
        "outputId": "05f5c5f3-0fca-46f1-eaeb-0e6adc2e4e20"
      },
      "source": [
        "LOG_LRtrain = {}\n",
        "LOG_LRcost = {}\n",
        "\n",
        "LOG_LRtest = {}\n",
        "for lr in [0.5]:   \n",
        "    weights = np.zeros(n_features)\n",
        "    LOG_LRtrain['LRtrain_%s' % lr] = []\n",
        "    LOG_LRtest['LRtest_%s' % lr] = []\n",
        "    LOG_LRcost['LRcost_%s' % lr] = []\n",
        "    dw_l = []\n",
        "    for iteration in range(0,10):\n",
        "        lin_y_train = np.dot(X_train, weights)\n",
        "        y_train_pred = sigmoid(lin_y_train)\n",
        "        dw = (1/n_samples)*np.dot(X_train.T,(y_train_pred-np.asarray(y_train_class)))\n",
        "        dw_l.append(dw.sum())\n",
        "        weights = weights - lr*dw\n",
        "        \n",
        "        lin_y_train = np.dot(X_train, weights) \n",
        "        y_train_pred = sigmoid(lin_y_train)\n",
        "        y_train_pred_class = []\n",
        "        for i in y_train_pred:\n",
        "            if i > 0.40112868791012124:\n",
        "                x=1\n",
        "                y_train_pred_class.append(x)\n",
        "            else:\n",
        "                x=0\n",
        "                y_train_pred_class.append(x)\n",
        "        \n",
        "        accuracy_train = (np.asarray(y_train_pred_class) == np.asarray(y_train_class)).sum() / len(y_train_class)\n",
        "        \n",
        "        lin_y_test = np.dot(X_test, weights) \n",
        "        y_test_pred = sigmoid(lin_y_test)\n",
        "        y_test_pred_class = []\n",
        "        for i in y_test_pred:\n",
        "            if i > 0.40112868791012124:\n",
        "                x=1\n",
        "                y_test_pred_class.append(x)\n",
        "            else:\n",
        "                x=0\n",
        "                y_test_pred_class.append(x)\n",
        "        \n",
        "        accuracy_test = (np.asarray(y_test_pred_class) == np.asarray(y_test_class)).sum() / len(y_test_class)\n",
        "        class1_cost = -np.asarray(y_test_class)*np.log((y_test_pred))\n",
        "        class2_cost = (1-np.asarray(y_test_class))*np.log(1-y_test_pred)\n",
        "        cost = (class1_cost - class2_cost).sum() / len(y_test_class)\n",
        "        \n",
        "        LOG_LRcost['LRcost_%s' % lr].append(cost)\n",
        "   \n",
        "        LOG_LRtest['LRtest_%s' % lr].append(accuracy_test)\n",
        "        LOG_LRtrain['LRtrain_%s' % lr].append(accuracy_train)\n",
        "    print(\"The accuracy of test data is :\",accuracy_test)\n",
        "    print(\"The accuracy of train data is :\",accuracy_train)\n"
      ],
      "execution_count": 22,
      "outputs": [
        {
          "output_type": "stream",
          "text": [
            "The accuracy of test data is : 0.6784871688741722\n",
            "The accuracy of train data is : 0.6787665562913907\n"
          ],
          "name": "stdout"
        }
      ]
    },
    {
      "cell_type": "code",
      "metadata": {
        "id": "9TcOr-Yt8q3a",
        "colab_type": "code",
        "colab": {}
      },
      "source": [
        ""
      ],
      "execution_count": 0,
      "outputs": []
    }
  ]
}